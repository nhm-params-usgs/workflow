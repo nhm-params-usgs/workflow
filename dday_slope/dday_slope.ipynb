{
 "cells": [
  {
   "cell_type": "markdown",
   "metadata": {},
   "source": [
    "markstro\n",
    "3/27/2020\n",
    "\n",
    "This notebook is for estimating the parameter \"dday_slope\" for GF v1.1\n",
    "\n"
   ]
  },
  {
   "cell_type": "markdown",
   "metadata": {},
   "source": [
    "Compute the daily radadj value for each HRU for each day"
   ]
  },
  {
   "cell_type": "code",
   "execution_count": 23,
   "metadata": {},
   "outputs": [],
   "source": [
    "import numpy as np\n",
    "import pandas as pd\n",
    "import geopandas as gpd\n",
    "import math\n",
    "import matplotlib.pyplot as plt\n",
    "%matplotlib inline\n",
    "from matplotlib import cm\n",
    "from matplotlib.colors import ListedColormap, LinearSegmentedColormap\n",
    "\n",
    "\n",
    "import sys\n",
    "from datetime import datetime\n",
    "from scipy.interpolate import interp1d\n"
   ]
  },
  {
   "cell_type": "code",
   "execution_count": 24,
   "metadata": {},
   "outputs": [],
   "source": [
    "# File written by dday_slope-radadj.ipynb\n",
    "radadj_fn = 'c:/Users/markstro/work1.1/soltab/dday_slope_radadj_GF_v1.1.csv'\n",
    "gdb_path = 'c:/Users/markstro/work1.1/GIS/GFv1.1_v2f.gdb'\n",
    "\n",
    "# Lots of stuff needs to be passed in.\n",
    "tmax_fn = 'c:/Users/markstro/work1.1/cbh_gridmet/tmax.cbh'\n",
    "prcp_fn = 'c:/Users/markstro/work1.1/cbh_gridmet/prcp.cbh'\n",
    "soltab_solt_fn = 'c:/Users/markstro/work1.1/soltab/soltab_solt_GF_v1.1.csv'\n",
    "hru_slope_fn = 'c:/Users/markstro/work1.1/paramdb_v1.1/paramdb_master/hru_slope.csv'\n",
    "dday_slope_fn = 'c:/Users/markstro/work1.1/paramdb_v1.1/paramdb_master/dday_slope_new.csv'\n",
    "tmax_allrain_offset_fn = 'c:/Users/markstro/work1.1/paramdb_v1.1/paramdb_master/tmax_allrain_offset.csv'\n",
    "tmax_allsnow_fn = 'c:/Users/markstro/work1.1/paramdb_v1.1/paramdb_master/tmax_allsnow.csv'\n",
    "dday_intcp_fn = 'c:/Users/markstro/work1.1/paramdb_v1.1/paramdb_master/dday_intcp.csv'\n",
    "nrel_shapefile_fn = \"c:/Users/markstro/work1.1/GIS/nhm_shapefiles/nhm_hru_gf1_1_nrel_solrad.shp\"   "
   ]
  },
  {
   "cell_type": "code",
   "execution_count": null,
   "metadata": {},
   "outputs": [],
   "source": [
    "coolwarm = cm.get_cmap('coolwarm', 12)\n",
    "print(coolwarm)"
   ]
  },
  {
   "cell_type": "code",
   "execution_count": null,
   "metadata": {},
   "outputs": [],
   "source": [
    "nhru_v11 = gpd.read_file(gdb_path, layer='nhru_v11')"
   ]
  },
  {
   "cell_type": "code",
   "execution_count": 25,
   "metadata": {},
   "outputs": [],
   "source": [
    "# Read the cbh file\n",
    "def read_cbh(cbh_fn):\n",
    "    foo = np.loadtxt(cbh_fn, skiprows=3,)\n",
    "    dates = foo[:,0:6].astype('int')\n",
    "    vals = foo[:,6:foo.shape[1]]\n",
    "    return dates, vals\n",
    "\n",
    "def save_values(ds, fn):\n",
    "    f = open(fn, \"w\")\n",
    "    f.write(\"$id,dday_slope\\n\")\n",
    "\n",
    "    ii = 1\n",
    "    for ih in range(ds.shape[0]):\n",
    "        for im in range(ds.shape[1]):\n",
    "            f.write(str(ii) + \",\" + str(ds[ih,im]) + \"\\n\")\n",
    "            ii, ds[ih,im]\n",
    "            ii += 1\n",
    "    f.close()\n",
    "    \n",
    "    \n",
    "#def compute_monthly_dday_slope(dday_slope_daily, dates):\n",
    "#    nhru = dday_slope_daily.shape[0]\n",
    "#    ndays = dday_slope_daily.shape[1]\n",
    "#    nmonths = 12\n",
    "#\n",
    "#    dday_slope = np.zeros(nhru*nmonths, dtype=np.float64)\n",
    "#    dday_slope.shape = (nhru, nmonths)\n",
    "#    count = np.zeros(nmonths, dtype=np.int)\n",
    "#    \n",
    "#    for iday in range(ndays):\n",
    "#        yr = dates[iday,0]\n",
    "#        mo = dates[iday,1] \n",
    "#        day = dates[iday,2]\n",
    "#        date = datetime(yr,mo,day)\n",
    "#        jday = date.timetuple().tm_yday\n",
    "#        imon = date.month - 1\n",
    "#\n",
    "#        for ihru in range(nhru):\n",
    "#            dday_slope[ihru,imon] += dday_slope_daily[ihru,iday]\n",
    "#            count[imon] += 1\n",
    "#            \n",
    "#    for ihru in range(nhru):\n",
    "#        for imon in range(0,nmonths):\n",
    "#            dday_slope[ihru,imon] = dday_slope[ihru,imon] / count[imon]\n",
    "#            \n",
    "#    return dday_slope\n",
    "\n",
    "\n",
    "# This computes the dday slope \n",
    "# dday_slope(ihru,imon) = (dday(iday,ihru) - dday_intcp(ihru,imon) - 1.0) / tmax_hru(iday,ihru)\n",
    "# dday = Dday_slope(j, Nowmonth)*Tmax_hru(j) + Dday_intcp(j, Nowmonth) + 1.0\n",
    "def compute_dday_slope(dday, dday_intcp, tmax):\n",
    "    \n",
    "#(114958, 12)\n",
    "#(12, 114958)\n",
    "#(12, 114958)\n",
    "    foo = dday.transpose()\n",
    "\n",
    "#    nmonths = tmax.shape[0]\n",
    "#    nhru = tmax.shape[1]\n",
    "    \n",
    "#    dday_slope_monthly = np.zeros(nhru*nmonths, dtype=np.float64)\n",
    "#    dday_slope_monthly.shape = (nhru,nmonths)\n",
    "    \n",
    "#    for imon in range(nmonths):\n",
    "#        d = dates[iday]\n",
    "#        yr = d[0]\n",
    "#        mo = d[1]\n",
    "#        day = d[2]\n",
    "#        date = datetime(yr,mo,day)\n",
    "#        jday = date.dayofyear\n",
    "#        imon = date.month - 1\n",
    "        \n",
    "#        for ihru in range(nhru):\n",
    "#            dday_slope_monthly[ihru,imon] = (dday[imon,ihru] - dday_intcp[imon,ihru] - 1.0) \\\n",
    "#                                        / tmax[imon,ihru]       \n",
    "\n",
    "    dday_slope_monthly = (foo - dday_intcp - 1.0) / tmax\n",
    "    \n",
    "    return dday_slope_monthly\n",
    "\n",
    "\n",
    "def compute_radadj(hrus_dni, hru_slope_df, nhru_v11_vals, soltab_df_vals):\n",
    "# This code copied from jupyter notebook dday_slope-radadj\n",
    "# Compute radadj for all days-of-the-year and for all HRUs\n",
    "\n",
    "\n",
    "# For whatever reason, the zonal mean process from QGIS left some NaNs when filling in the Direct Normal Irradiance (dni)\n",
    "# monthly values in the shapefile (see dni* columns above). Those need to be filled in with real values.\n",
    "# Without going back to the GIS (which I already ran with the results that are shown above), I am using np.interpolate across\n",
    "# each column. This is a hack in the sense that the adjacent row do not necessarily mean that the HRUs are adjacent, and it\n",
    "# is uncertain exactly what is being interpolated, but it is filling in the nan values with real values and allows\n",
    "# me to move on.\n",
    "#    count = 0\n",
    "#    for ii in range(hrus_dni.shape[0]):\n",
    "#        for jj in range(8,20):\n",
    "#            if np.isnan(hrus_dni.iloc[ii,jj]):\n",
    "#                count += 1\n",
    "#    print(count)\n",
    "          \n",
    "    \n",
    "#    for ii in range(hrus_dni.shape[0]):\n",
    "#        for jj in range(8,20):\n",
    "#            hrus_dni.iloc[:,jj] = hrus_dni.iloc[:,jj].interpolate()\n",
    "    \n",
    "#    print(\"subsequent coordinates with nan value\")\n",
    "#    count = 0\n",
    "#    for ii in range(hrus_dni.shape[0]):\n",
    "#        for jj in range(8,20):\n",
    "#            if np.isnan(hrus_dni.iloc[ii,jj]):\n",
    "#                print(\" (\", ii,jj, \")\", end = '')\n",
    "#                count += 1\n",
    "                \n",
    "# Join the HRU slopes from the PRMS parmaeter file (paramdb) to the features from the shapefile.\n",
    "    hrus_1 = hrus_dni.set_index('nhru_v11').join(hru_slope_df.set_index('$id'))\n",
    "\n",
    "# Take the cosine of the hru slopes. The hru_slope must be converted from rise/run to radians with arctan first.\n",
    "    hrus_1['hru_cossl'] = np.cos(np.arctan(hrus_1['hru_slope']))\n",
    "    hru_cossl_vals = hrus_1['hru_cossl'].values\n",
    "    \n",
    "# Extract the NREL monthly solrad targets from the dataframe into a numpy 2D array for the radadj calculation below.\n",
    "    solrad_targets_vals= hrus_1[[\"dni_jan_me\", \"dni_feb_me\", \"dni_mar_me\", \"dni_apr_me\", \"dni_may_me\", \"dni_jun_me\",\n",
    "                    \"dni_jul_me\", \"dni_aug_me\", \"dni_sep_me\", \"dni_oct_me\", \"dni_nov_me\", \"dni_dec_me\"]].values\n",
    "\n",
    "# The NREL solrad values are in units of kWh/m2/Day. PRMS uses Langleys per day. The conversion factor comes from\n",
    "# https://www.wcc.nrcs.usda.gov/ftpref/wntsc/H&H/GEM/SolarRadConversion.pdf\n",
    "\n",
    "#                    W-sec    1 KW     1 hour               KW-hours\n",
    "# 1 Langley = 41868 -------  ------   -------  =   0.6978  ---------\n",
    "#                     m2     1000 W   60 sec                  m2\n",
    "\n",
    "    solrad_targets_vals_langleys = solrad_targets_vals / 0.6978\n",
    "\n",
    "    # create an array (len = 366, number of days in the year) that for any\n",
    "    # jday, it gives the month index.\n",
    "#    jan = [0] * 31\n",
    "#    feb = [1] * 29 # assume leap year to get full table\n",
    "#    mar = [2] * 31\n",
    "#    apr = [3] * 30\n",
    "#    may = [4] * 31\n",
    "#    jun = [5] * 30\n",
    "#    jul = [6] * 31\n",
    "#    aug = [7] * 31\n",
    "#    sep = [8] * 30\n",
    "#    octo = [9] * 31\n",
    "#    nov = [10] * 30\n",
    "#    dec = [11] * 31\n",
    "#    month_of_jday = jan + feb + mar + apr + may + jun + jul + aug + sep + octo + nov + dec\n",
    "\n",
    "    radadj = np.zeros(soltab_df_vals.shape)\n",
    "    \n",
    "    print(radadj.shape)\n",
    "    print(solrad_targets_vals_langleys.shape)\n",
    "    print(hru_cossl_vals.shape)\n",
    "    print(soltab_df_vals.shape)\n",
    "#    (366, 114958)\n",
    "#    (114958, 12)\n",
    "#    (114958,)\n",
    "#    (114958, 12)\n",
    "    \n",
    "    min_count = 0\n",
    "    max_count = 0\n",
    "    for imon in range(nmonths):\n",
    "        for ihru in range(soltab_df.shape[1]):\n",
    "            kk = nhru_v11_vals[ihru] - 1\n",
    "            try:\n",
    "#                radadj[jday,ihru] = solrad_targets_vals_langleys[ihru,imon] * hru_cossl_vals[ihru] / soltab_df_vals[jday,kk]\n",
    "                radadj[kk,imon] = solrad_targets_vals_langleys[ihru,imon] * hru_cossl_vals[kk] / soltab_df_vals[kk,imon]\n",
    "\n",
    "            except:\n",
    "                print(ihru, imon, solrad_targets_vals_langleys[ihru,imon], hru_cossl_vals[ihru], soltab_df_vals[kk,imon])\n",
    "                \n",
    "    for imon in range(nmonths):\n",
    "        for ihru in range(soltab_df.shape[1]):\n",
    "            if radadj[ihru,imon] < 0.05:\n",
    "                radadj[ihru,imon] = 0.05\n",
    "                min_count += 1\n",
    "                \n",
    "            if radadj[ihru,imon] > 0.95:\n",
    "                radadj[ihru,imon] = 0.05\n",
    "                max_count += 1\n",
    "            \n",
    "#    print ((jday * nhru), min_count, max_count)\n",
    "\n",
    "    return radadj\n",
    "\n",
    "\n",
    "# compute the dday values for each time step (day) for each HRU\n",
    "def compute_dday(radadj_solf):\n",
    "    # Here's the cubic spline interpolation between solf and dday\n",
    "    solf_pts = np.array([.20, .35, .45, .51, .56, .59, .62, .64, .655, .67, \\\n",
    "                         .682, .69, .70, .71, .715, .72, .722, .724, .726, \\\n",
    "                             .728, .73, .734, .738, .742, .746, .75])\n",
    "    dday_pts = np.array([1.0, 2.0, 3.0, 4.0, 5.0, 6.0, 7.0, 8.0, 9.0, 10.0, \\\n",
    "                         11.0, 12.0, 13.0, 14.0, 15.0, 16.0, 17.0, 18.0, \\\n",
    "                             19.0, 20.0, 21.0, 22.0, 23.0, 24.0, 25.0, 26.0])\n",
    "    f2 = interp1d(solf_pts, dday_pts, kind='cubic')\n",
    "    \n",
    "    nmonths = radadj_solf.shape[0]\n",
    "    nhru = radadj_solf.shape[1]\n",
    "    \n",
    "    dday = np.zeros(nmonths*nhru, dtype=np.float64)\n",
    "    dday.shape = (nmonths, nhru)\n",
    "    \n",
    "    for imon in range(nmonths):\n",
    "        for ihru in range(nhru):\n",
    "            if radadj_solf[imon, ihru] < 0.2:\n",
    "                dday[imon,ihru] = 1.0\n",
    "            elif radadj_solf[imon, ihru] > 0.75:\n",
    "                dday[imon,ihru] = 26.0\n",
    "            else:\n",
    "                dday[imon,ihru] = f2(radadj_solf[imon,ihru])\n",
    "    return dday\n",
    "                \n",
    "\n",
    "def compute_radadj_solf(radadj, pptadj):\n",
    "#    nmonths = pptadj.shape[0]\n",
    "#    nhru = pptadj.shape[1]\n",
    "    \n",
    "#    radadj_solf = np.zeros(nmonths * nhru)\n",
    "#    radadj_solf.shape = (nmonths,nhru)\n",
    "    \n",
    "#    for imon in range(nmonths):\n",
    "#        yr = dates[iday,0]\n",
    "#        mo = dates[iday,1]\n",
    "#        day = dates[iday,2]\n",
    "#        date = datetime(yr,mo,day)\n",
    "#        jday = date.timetuple().tm_yday\n",
    "        \n",
    "#        for ihru in range(nhru):\n",
    "##            print(iday,ihru,jday-1)\n",
    "#            try:\n",
    "#                radadj_solf[imon,ihru] = radadj[imon,ihru] * pptadj[imon,ihru]\n",
    "#            except Exception as inst:\n",
    "#                print(type(inst))\n",
    "#                print(inst)\n",
    "#                print(iday,ihru,jday-1,radadj.shape, pptadj.shape)\n",
    "\n",
    "    radadj_solf = radadj * pptadj\n",
    "    return radadj_solf\n",
    "\n",
    "def compute_pptadj(prcp_in_monthly, prcp_days_monthly, ppt_rad_adj, tmax_f_monthly, tmax_index, radj_sppt, tmax_allrain, radj_wppt, radadj_intcp, radadj_slope):\n",
    "    days_in_month = [31,28,31,30,31,30,31,31,30,31,30,31]\n",
    "    \n",
    "    nmonths = tmax_f_monthly.shape[0]\n",
    "    nhru = tmax_f_monthly.shape[1]\n",
    "    \n",
    "    pptadj = np.zeros(nmonths*nhru, dtype=np.float64)\n",
    "    pptadj.shape = (nmonths,nhru)\n",
    "    \n",
    "    for imon in range(nmonths):\n",
    "        summer_flag = True\n",
    "        if imon < 3 or imon > 8:\n",
    "            summer_flag = False\n",
    "        \n",
    "        for ihru in range(nhru):\n",
    "            if tmax_f_monthly[imon,ihru] < tmax_index:\n",
    "                pptadj[imon,ihru] = radj_sppt\n",
    "                if tmax_f_monthly[imon,ihru] >= tmax_allrain[imon,ihru]:\n",
    "                    if not summer_flag:\n",
    "                        pptadj[imon,ihru] = radj_wppt\n",
    "                else:\n",
    "                    pptadj[imon,ihru] = radj_wppt\n",
    "            else:\n",
    "                pptadj[imon,ihru] = radadj_intcp + radadj_slope * (tmax_f_monthly[imon,ihru] - tmax_index)\n",
    "\n",
    "            # The monthly calculation doesn't consider whether the daily values indicate a rain day or not, so\n",
    "            # determine the decimal fraction of rain days in the month and divide by it to bring the pptadj closer\n",
    "            # to 1.0.\n",
    "            if prcp_days_monthly[imon,ihru] == 0:\n",
    "                prcp_days_fac = 1.0\n",
    "            else:\n",
    "                prcp_days_fac = days_in_month[imon] / prcp_days_monthly[imon,ihru]\n",
    "                \n",
    "            pptadj[imon,ihru] = pptadj[imon,ihru] * prcp_days_fac\n",
    "            \n",
    "            if pptadj[imon,ihru] > 1.0:\n",
    "                pptadj[imon,ihru] = 1.0\n",
    "    return pptadj\n",
    "                        \n",
    "            "
   ]
  },
  {
   "cell_type": "code",
   "execution_count": 26,
   "metadata": {},
   "outputs": [],
   "source": [
    "def read_temp(cbh_path):\n",
    "    \n",
    "    dates, vals = read_cbh(cbh_path)\n",
    "    nhru = vals.shape[1]\n",
    "    ndays = vals.shape[0]\n",
    "\n",
    "    mon_cnt = 12\n",
    "\n",
    "    vals_monthly = np.zeros(mon_cnt * nhru)\n",
    "    vals_monthly.shape = (mon_cnt, nhru)\n",
    "    monthly_count = np.zeros(mon_cnt * nhru, dtype=np.int)\n",
    "    monthly_count.shape = (mon_cnt, nhru)\n",
    "    \n",
    "    for iday in range(ndays):\n",
    "        date = datetime(dates[iday,0],dates[iday,1],dates[iday,2])\n",
    "\n",
    "        imon = date.month - 1\n",
    "        for ihru in range(nhru):\n",
    "            vals_monthly[imon,ihru] += vals[iday,ihru]\n",
    "            monthly_count[imon, ihru] +=1    \n",
    "            \n",
    "    vals_monthly = vals_monthly / monthly_count\n",
    "    del(vals)\n",
    "    return vals_monthly\n"
   ]
  },
  {
   "cell_type": "code",
   "execution_count": 27,
   "metadata": {},
   "outputs": [],
   "source": [
    "def read_prcp(cbh_path, ppt_rad_adj):\n",
    "    \n",
    "    dates, vals = read_cbh(cbh_path)\n",
    "    nhru = vals.shape[1]\n",
    "    ndays = vals.shape[0]\n",
    "\n",
    "    mon_cnt = 12\n",
    "\n",
    "    vals_monthly = np.zeros(mon_cnt * nhru)\n",
    "    vals_monthly.shape = (mon_cnt, nhru)\n",
    "    monthly_count = np.zeros(mon_cnt * nhru, dtype=np.int)\n",
    "    monthly_count.shape = (mon_cnt, nhru)\n",
    "    prcp_days_monthly = np.zeros(mon_cnt * nhru, dtype=np.int)\n",
    "    prcp_days_monthly.shape = (mon_cnt, nhru)\n",
    "    \n",
    "    for iday in range(ndays):\n",
    "        date = datetime(dates[iday,0],dates[iday,1],dates[iday,2])\n",
    "\n",
    "        imon = date.month - 1\n",
    "        for ihru in range(nhru):\n",
    "            vals_monthly[imon,ihru] += vals[iday,ihru]\n",
    "            if vals[iday,ihru] >= ppt_rad_adj:\n",
    "                prcp_days_monthly[imon,ihru] += 1\n",
    "            monthly_count[imon, ihru] +=1    \n",
    "            \n",
    "    vals_monthly = vals_monthly / monthly_count\n",
    "#    prcp_days_monthly = prcp_days_monthly / monthly_count\n",
    "    \n",
    "    del(vals)\n",
    "    \n",
    "    return vals_monthly, prcp_days_monthly"
   ]
  },
  {
   "cell_type": "code",
   "execution_count": 28,
   "metadata": {},
   "outputs": [
    {
     "name": "stdout",
     "output_type": "stream",
     "text": [
      "[37.308051 37.151215 37.119133 ... 37.011661 35.443531 36.938155]\n",
      "(1379496,)\n",
      "(12, 114958)\n"
     ]
    }
   ],
   "source": [
    "# Read the necessary parameters\n",
    "\n",
    "hru_slope_df = pd.read_csv(hru_slope_fn)\n",
    "nhru = hru_slope_df.shape[0]\n",
    "nmonths = 12\n",
    "\n",
    "tmax_allrain_offset_f = pd.read_csv(tmax_allrain_offset_fn)\n",
    "tmax_allrain_offset = tmax_allrain_offset_f[\"tmax_allrain_offset\"].values\n",
    "\n",
    "tmax_allsnow_f = pd.read_csv(tmax_allsnow_fn)\n",
    "tmax_allsnow = tmax_allsnow_f[\"tmax_allsnow\"].values\n",
    "tmax_allrain = tmax_allsnow + tmax_allrain_offset\n",
    "\n",
    "#    dday_intcp[imon,ihru]\n",
    "dday_intcp_f = pd.read_csv(dday_intcp_fn)\n",
    "dday_intcp = dday_intcp_f[\"dday_intcp\"].values\n",
    "dday_intcp.shape = (nmonths,nhru)\n",
    "\n",
    "print(tmax_allrain)\n",
    "print(tmax_allrain.shape)\n",
    "\n",
    "tmax_allrain.shape = (nmonths, nhru)\n",
    "\n",
    "print(tmax_allrain.shape)\n",
    "\n",
    "# These 2D parameters are all set to constants\n",
    "ppt_rad_adj = 0.02\n",
    "tmax_index = 50.0\n",
    "radj_sppt = 0.44\n",
    "radj_wppt = 0.55\n",
    "radadj_intcp = 1.0\n",
    "radadj_slope = 0.02\n"
   ]
  },
  {
   "cell_type": "code",
   "execution_count": null,
   "metadata": {},
   "outputs": [],
   "source": [
    "\n",
    "hru_slope_df.head()"
   ]
  },
  {
   "cell_type": "code",
   "execution_count": null,
   "metadata": {},
   "outputs": [],
   "source": [
    "try:\n",
    "    nhru_v11 = nhru_v11.drop(columns=['hru_slope'])\n",
    "except:\n",
    "    pass\n",
    "    \n",
    "nhru_v11 = nhru_v11.join(hru_slope_df.set_index('$id'), on='nhru_v11')\n",
    "\n",
    "# plot the dday_slope values\n",
    "\n",
    "# plot all HRUs in white (background color)\n",
    "f, ax = plt.subplots(1, figsize=(12, 12))\n",
    "#hrus.plot(color=\"white\", ax=ax)\n",
    "\n",
    "# df.dropna(thresh=2)\n",
    "\n",
    "# plot the HRUs with valid temperature (non-nan) with their color ramp colors\n",
    "nhru_v11.plot(column='hru_slope', cmap='coolwarm', ax=ax, legend=True)"
   ]
  },
  {
   "cell_type": "code",
   "execution_count": null,
   "metadata": {},
   "outputs": [],
   "source": []
  },
  {
   "cell_type": "code",
   "execution_count": 29,
   "metadata": {},
   "outputs": [],
   "source": [
    "# Temperature is in C\n",
    "#dates, tmax = read_cbh(tmax_fn)\n",
    "tmax_c_monthly = read_temp(tmax_fn)\n",
    "tmax_f_monthly = tmax_c_monthly * 1.8 +32"
   ]
  },
  {
   "cell_type": "code",
   "execution_count": null,
   "metadata": {},
   "outputs": [],
   "source": []
  },
  {
   "cell_type": "code",
   "execution_count": null,
   "metadata": {},
   "outputs": [],
   "source": []
  },
  {
   "cell_type": "code",
   "execution_count": null,
   "metadata": {},
   "outputs": [],
   "source": []
  },
  {
   "cell_type": "code",
   "execution_count": null,
   "metadata": {},
   "outputs": [],
   "source": []
  },
  {
   "cell_type": "code",
   "execution_count": 30,
   "metadata": {},
   "outputs": [],
   "source": [
    "# prcp is in mm/day\n",
    "#dates, prcp = read_cbh(prcp_fn)\n",
    "ppt_rad_adj_mm = ppt_rad_adj * 25.4\n",
    "prcp_mm_monthly, prcp_days_monthly = read_prcp(prcp_fn, ppt_rad_adj_mm)\n",
    "prcp_in_monthly = prcp_mm_monthly / 25.4"
   ]
  },
  {
   "cell_type": "code",
   "execution_count": null,
   "metadata": {},
   "outputs": [],
   "source": [
    "print(tmax_c_monthly)\n",
    "print(tmax_f_monthly)\n",
    "print(prcp_mm_monthly)\n",
    "print(prcp_in_monthly)\n",
    "print(prcp_days_monthly)\n",
    "print(prcp_mm_monthly.shape)"
   ]
  },
  {
   "cell_type": "code",
   "execution_count": 31,
   "metadata": {},
   "outputs": [
    {
     "name": "stdout",
     "output_type": "stream",
     "text": [
      "114958\n",
      "12\n"
     ]
    }
   ],
   "source": [
    "# set dimension sizes\n",
    "nhru = prcp_in_monthly.shape[1]\n",
    "nmonths = prcp_in_monthly.shape[0]\n",
    "print(nhru)\n",
    "print(nmonths)"
   ]
  },
  {
   "cell_type": "code",
   "execution_count": 32,
   "metadata": {},
   "outputs": [],
   "source": [
    "# read the soltab values from the csv file produced by solar_table.ipynb\n",
    "# It's OK to read these values from the table because they won't change\n",
    "# regardless of changes to the weather values. The file specified has the\n",
    "# \"clear sky\" solar radiation values for each HRU of the geospatial fabric\n",
    "# version 1.1 for each day-of-the-year.\n",
    "\n",
    "soltab_df = pd.read_csv(soltab_solt_fn, header=None)\n",
    "soltab_df_vals = soltab_df.values\n",
    "    \n",
    "# replace negative and super small soltab values.\n",
    "soltab_df_vals[soltab_df_vals < 10.0] = 10.0"
   ]
  },
  {
   "cell_type": "code",
   "execution_count": null,
   "metadata": {},
   "outputs": [],
   "source": [
    "soltab_df.head()"
   ]
  },
  {
   "cell_type": "code",
   "execution_count": null,
   "metadata": {},
   "outputs": [],
   "source": [
    "print(soltab_df.shape)"
   ]
  },
  {
   "cell_type": "code",
   "execution_count": 33,
   "metadata": {},
   "outputs": [],
   "source": [
    "days_in_month = [31,28,31,30,31,30,31,31,30,31,30,31]\n",
    "\n",
    "soltab_monthly = np.zeros(nhru * nmonths)\n",
    "soltab_count = np.zeros(nhru * nmonths, dtype=np.int)\n",
    "soltab_monthly.shape = (nhru, nmonths)\n",
    "soltab_count.shape = (nhru, nmonths)\n",
    "\n",
    "ll = 0\n",
    "for imon in range(nmonths):\n",
    "    for jj in range(days_in_month[imon]):\n",
    "        for ihru in range(nhru):\n",
    "            soltab_monthly[ihru,imon] += soltab_df.iloc[ll,ihru]\n",
    "            soltab_count[ihru,imon] +=1\n",
    "    ll += 1\n",
    "    \n",
    "soltab_monthly = soltab_monthly / soltab_count\n"
   ]
  },
  {
   "cell_type": "code",
   "execution_count": null,
   "metadata": {},
   "outputs": [],
   "source": [
    "print(soltab_monthly)\n",
    "print(soltab_monthly.shape)"
   ]
  },
  {
   "cell_type": "code",
   "execution_count": null,
   "metadata": {},
   "outputs": [],
   "source": [
    "print(min(soltab_monthly.flatten()), max(soltab_monthly.flatten()))\n",
    "\n",
    "count = 0\n",
    "for ii in range(soltab_monthly.shape[0]):\n",
    "    for jj in range(soltab_monthly.shape[1]):\n",
    "        if np.isnan(soltab_monthly[ii,jj]):\n",
    "#            print(\" (\", ii,jj, \")\", end = '')\n",
    "            count += 1\n",
    "print(count)"
   ]
  },
  {
   "cell_type": "code",
   "execution_count": null,
   "metadata": {},
   "outputs": [],
   "source": [
    "imon = 6-1\n",
    "\n",
    "df = pd.DataFrame(range(1,nhru+1), columns=['$id'])\n",
    "\n",
    "df[\"soltab_monthly\"] = soltab_monthly[:,imon]\n",
    "df.head()"
   ]
  },
  {
   "cell_type": "code",
   "execution_count": null,
   "metadata": {},
   "outputs": [],
   "source": [
    "try:\n",
    "    nhru_v11 = nhru_v11.drop(columns=['soltab_monthly'])\n",
    "except:\n",
    "    pass\n",
    "    \n",
    "nhru_v11 = nhru_v11.join(df.set_index('$id'), on='nhru_v11')\n",
    "\n",
    "# plot the dday_slope values\n",
    "\n",
    "# plot all HRUs in white (background color)\n",
    "f, ax = plt.subplots(1, figsize=(12, 12))\n",
    "#hrus.plot(color=\"white\", ax=ax)\n",
    "\n",
    "# df.dropna(thresh=2)\n",
    "\n",
    "# plot the HRUs with valid temperature (non-nan) with their color ramp colors\n",
    "nhru_v11.plot(column='soltab_monthly', cmap='coolwarm', ax=ax, legend=True)"
   ]
  },
  {
   "cell_type": "code",
   "execution_count": null,
   "metadata": {},
   "outputs": [],
   "source": []
  },
  {
   "cell_type": "code",
   "execution_count": 34,
   "metadata": {},
   "outputs": [
    {
     "name": "stdout",
     "output_type": "stream",
     "text": [
      "0\n"
     ]
    }
   ],
   "source": [
    "# Read in the monthly short wave data from NREL. It's in the shapefile that\n",
    "# was created by running zonal means (to map to GF v1.1 HRUs) on the monthly\n",
    "# DNI geotifs downloaded from NREL.\n",
    "hrus_dni = gpd.read_file(nrel_shapefile_fn)\n",
    "\n",
    "for jj in range(8,20):\n",
    "    hrus_dni.iloc[:,jj] = hrus_dni.iloc[:,jj].interpolate()\n",
    "\n",
    "count = 0\n",
    "for ii in range(hrus_dni.shape[0]):\n",
    "    for jj in range(8,20):\n",
    "        if np.isnan(hrus_dni.iloc[ii,jj]):\n",
    "#            print(\" (\", ii,jj, \")\", end = '')\n",
    "            count += 1\n",
    "\n",
    "#print(\"\")\n",
    "print(count)"
   ]
  },
  {
   "cell_type": "code",
   "execution_count": null,
   "metadata": {},
   "outputs": [],
   "source": [
    "hrus_dni.head()\n",
    "\n"
   ]
  },
  {
   "cell_type": "code",
   "execution_count": 35,
   "metadata": {},
   "outputs": [],
   "source": [
    "hrus_dni_vals = hrus_dni.iloc[:,8:20].values\n",
    "hru_dni_nhru_v11_vals = hrus_dni['nhru_v11'].values"
   ]
  },
  {
   "cell_type": "code",
   "execution_count": null,
   "metadata": {},
   "outputs": [],
   "source": [
    "print(hrus_dni_vals)\n",
    "print(hrus_dni_vals.shape)"
   ]
  },
  {
   "cell_type": "code",
   "execution_count": 36,
   "metadata": {},
   "outputs": [
    {
     "name": "stdout",
     "output_type": "stream",
     "text": [
      "[256.18736111 254.26347466 256.23560855 ... 274.29544347 281.69907164\n",
      " 238.52921464]\n"
     ]
    }
   ],
   "source": [
    "#dday_slope_df = pd.read_csv(markstro_param_path, header=0)\n",
    "#dday_slope = dday_slope_df[\"dday_slope\"].values\n",
    "#dday_slope.shape = (nmonths,nhru)\n",
    "\n",
    "imon = 6-1\n",
    "hrus_dni_v = hrus_dni_vals[:,imon]\n",
    "print(hrus_dni_v)\n"
   ]
  },
  {
   "cell_type": "code",
   "execution_count": null,
   "metadata": {},
   "outputs": [],
   "source": [
    "df = pd.DataFrame(hru_dni_nhru_v11_vals, columns=['$id'])\n",
    "\n",
    "df[\"hrus_dni_v\"] = hrus_dni_v.transpose()\n",
    "df.head()"
   ]
  },
  {
   "cell_type": "code",
   "execution_count": null,
   "metadata": {},
   "outputs": [],
   "source": [
    "try:\n",
    "    nhru_v11 = nhru_v11.drop(columns=['hrus_dni_v'])\n",
    "except:\n",
    "    pass\n",
    "    \n",
    "nhru_v11 = nhru_v11.join(df.set_index('$id'), on='nhru_v11')\n",
    "\n",
    "# plot the dday_slope values\n",
    "\n",
    "# plot all HRUs in white (background color)\n",
    "f, ax = plt.subplots(1, figsize=(12, 12))\n",
    "#hrus.plot(color=\"white\", ax=ax)\n",
    "\n",
    "# df.dropna(thresh=2)\n",
    "\n",
    "# plot the HRUs with valid temperature (non-nan) with their color ramp colors\n",
    "nhru_v11.plot(column='hrus_dni_v', cmap='coolwarm', ax=ax, legend=True)"
   ]
  },
  {
   "cell_type": "code",
   "execution_count": null,
   "metadata": {},
   "outputs": [],
   "source": []
  },
  {
   "cell_type": "code",
   "execution_count": 37,
   "metadata": {},
   "outputs": [],
   "source": [
    "# Get the order of the nhru_v11 IDs for mapping the soltab values.\n",
    "nhru_v11_vals = hrus_dni[\"nhru_v11\"]"
   ]
  },
  {
   "cell_type": "code",
   "execution_count": 38,
   "metadata": {},
   "outputs": [
    {
     "name": "stdout",
     "output_type": "stream",
     "text": [
      "(12, 114958)\n"
     ]
    }
   ],
   "source": [
    "# Start the code to compute pptadj\n",
    "# The code from dday_slope-pptadj.ipynb is copied in here\n",
    "# I copied in the code, as opposed to reading these already computed values\n",
    "# from the csv file because they will change depending on the source, length\n",
    "# of record, etc. of the values in the CBH files. I.e., these need to be\n",
    "# recomputed if the weather data changes!\n",
    "pptadj = compute_pptadj(prcp_in_monthly, prcp_days_monthly, ppt_rad_adj, tmax_f_monthly, \\\n",
    "                        tmax_index, radj_sppt, tmax_allrain, \\\n",
    "                        radj_wppt, radadj_intcp, radadj_slope)\n",
    "\n",
    "print(pptadj.shape)"
   ]
  },
  {
   "cell_type": "code",
   "execution_count": 39,
   "metadata": {},
   "outputs": [
    {
     "name": "stdout",
     "output_type": "stream",
     "text": [
      "[[0.81190476 0.775      0.74130435 ... 0.775      1.         0.89736842]\n",
      " [0.616      0.616      0.616      ... 0.64166667 1.         1.        ]\n",
      " [1.         0.94722222 0.94722222 ... 0.81190476 1.         1.        ]\n",
      " ...\n",
      " [1.         1.         1.         ... 1.         1.         1.        ]\n",
      " [1.         0.97058824 0.91666667 ... 0.61111111 0.91666667 1.        ]\n",
      " [0.682      0.682      0.71041667 ... 0.775      1.         0.89736842]]\n",
      "(12, 114958)\n"
     ]
    }
   ],
   "source": [
    "print(pptadj)\n",
    "print(pptadj.shape)"
   ]
  },
  {
   "cell_type": "code",
   "execution_count": null,
   "metadata": {},
   "outputs": [],
   "source": [
    "#dday_slope_df = pd.read_csv(markstro_param_path, header=0)\n",
    "#dday_slope = dday_slope_df[\"dday_slope\"].values\n",
    "#dday_slope.shape = (nmonths,nhru)\n",
    "\n",
    "imon = 6-1\n",
    "pptadj_v = pptadj[imon,:]\n",
    "print(pptadj_v)\n"
   ]
  },
  {
   "cell_type": "code",
   "execution_count": null,
   "metadata": {},
   "outputs": [],
   "source": [
    "df = pd.DataFrame(range(1,nhru+1), columns=['$id'])\n",
    "\n",
    "df[\"pptadj_v\"] = pptadj_v\n",
    "df.head()"
   ]
  },
  {
   "cell_type": "code",
   "execution_count": null,
   "metadata": {},
   "outputs": [],
   "source": [
    "try:\n",
    "    nhru_v11 = nhru_v11.drop(columns=['pptadj_v'])\n",
    "except:\n",
    "    pass\n",
    "    \n",
    "nhru_v11 = nhru_v11.join(df.set_index('$id'), on='nhru_v11')\n",
    "\n",
    "# plot the dday_slope values\n",
    "\n",
    "# plot all HRUs in white (background color)\n",
    "f, ax = plt.subplots(1, figsize=(12, 12))\n",
    "#hrus.plot(color=\"white\", ax=ax)\n",
    "\n",
    "# df.dropna(thresh=2)\n",
    "\n",
    "# plot the HRUs with valid temperature (non-nan) with their color ramp colors\n",
    "nhru_v11.plot(column='pptadj_v', cmap='coolwarm', ax=ax, legend=True)\n"
   ]
  },
  {
   "cell_type": "code",
   "execution_count": null,
   "metadata": {},
   "outputs": [],
   "source": [
    "print(pptadj)\n",
    "print(min(pptadj.flatten()), max(pptadj.flatten()))"
   ]
  },
  {
   "cell_type": "code",
   "execution_count": null,
   "metadata": {},
   "outputs": [],
   "source": [
    "plt.hist(pptadj.flatten(), bins=50)\n",
    "plt.show(0)"
   ]
  },
  {
   "cell_type": "code",
   "execution_count": 40,
   "metadata": {},
   "outputs": [
    {
     "name": "stdout",
     "output_type": "stream",
     "text": [
      "(114958, 12)\n",
      "(114958, 12)\n",
      "(114958,)\n",
      "(114958, 12)\n"
     ]
    }
   ],
   "source": [
    "# Compute the values for radadj\n",
    "radadj = compute_radadj(hrus_dni, hru_slope_df, nhru_v11_vals, soltab_monthly)"
   ]
  },
  {
   "cell_type": "code",
   "execution_count": null,
   "metadata": {},
   "outputs": [],
   "source": [
    "print(radadj)\n",
    "print(radadj.shape)\n",
    "print(min(radadj.flatten()), max(radadj.flatten()))"
   ]
  },
  {
   "cell_type": "code",
   "execution_count": null,
   "metadata": {},
   "outputs": [],
   "source": [
    "imon = 6-1\n",
    "radadj_v = radadj[:,imon]\n",
    "print(radadj_v)\n",
    "print(radadj_v.shape)\n"
   ]
  },
  {
   "cell_type": "code",
   "execution_count": null,
   "metadata": {},
   "outputs": [],
   "source": [
    "df = pd.DataFrame(range(1,nhru+1), columns=['$id'])\n",
    "\n",
    "df[\"radadj_v\"] = radadj_v\n",
    "df.head()"
   ]
  },
  {
   "cell_type": "code",
   "execution_count": null,
   "metadata": {},
   "outputs": [],
   "source": [
    "try:\n",
    "    nhru_v11 = nhru_v11.drop(columns=['radadj_v'])\n",
    "except:\n",
    "    pass\n",
    "    \n",
    "nhru_v11 = nhru_v11.join(df.set_index('$id'), on='nhru_v11')\n",
    "\n",
    "# plot the dday_slope values\n",
    "\n",
    "# plot all HRUs in white (background color)\n",
    "f, ax = plt.subplots(1, figsize=(12, 12))\n",
    "#hrus.plot(color=\"white\", ax=ax)\n",
    "\n",
    "# df.dropna(thresh=2)\n",
    "\n",
    "# plot the HRUs with valid temperature (non-nan) with their color ramp colors\n",
    "nhru_v11.plot(column='radadj_v', cmap='coolwarm', ax=ax, legend=True)"
   ]
  },
  {
   "cell_type": "code",
   "execution_count": null,
   "metadata": {},
   "outputs": [],
   "source": []
  },
  {
   "cell_type": "code",
   "execution_count": null,
   "metadata": {},
   "outputs": [],
   "source": [
    "print(radadj.shape)\n",
    "print(pptadj.transpose().shape)"
   ]
  },
  {
   "cell_type": "code",
   "execution_count": 20,
   "metadata": {},
   "outputs": [],
   "source": [
    "#radadj_solf\n",
    "radadj_solf = compute_radadj_solf(radadj, pptadj.transpose())"
   ]
  },
  {
   "cell_type": "code",
   "execution_count": null,
   "metadata": {},
   "outputs": [],
   "source": [
    "print(radadj_solf)\n",
    "print(radadj_solf.shape)\n",
    "print(min(radadj_solf.flatten()), max(radadj_solf.flatten()))"
   ]
  },
  {
   "cell_type": "code",
   "execution_count": null,
   "metadata": {},
   "outputs": [],
   "source": [
    "plt.hist(radadj_solf.flatten(), bins=50)\n",
    "plt.show(0)"
   ]
  },
  {
   "cell_type": "code",
   "execution_count": 41,
   "metadata": {},
   "outputs": [],
   "source": [
    "# compute the dday values for each time step (month) for each HRU\n",
    "dday = compute_dday(radadj_solf)"
   ]
  },
  {
   "cell_type": "code",
   "execution_count": null,
   "metadata": {},
   "outputs": [],
   "source": [
    "print(dday)\n",
    "print(dday.shape)\n",
    "print(min(dday.flatten()), max(dday.flatten()))"
   ]
  },
  {
   "cell_type": "code",
   "execution_count": 42,
   "metadata": {},
   "outputs": [],
   "source": [
    "# This computes the dday slope \n",
    "# dday_slope(ihru,imon) = (dday(iday,ihru) - dday_intcp(ihru,imon) - 1.0) / tmax_hru(iday,ihru)\n",
    "# dday = Dday_slope(j, Nowmonth)*Tmax_hru(j) + Dday_intcp(j, Nowmonth) + 1.0\n",
    "#print(dday.shape)\n",
    "#print(dday_intcp.shape)\n",
    "#print(tmax_f_monthly.shape)\n",
    "dday_slope_monthly = compute_dday_slope(dday, dday_intcp, tmax_f_monthly)\n",
    "\n"
   ]
  },
  {
   "cell_type": "code",
   "execution_count": null,
   "metadata": {},
   "outputs": [],
   "source": [
    "print(dday_slope_monthly)\n",
    "print(dday_slope_monthly.shape)\n",
    "print(min(dday_slope_monthly.flatten()), max(dday_slope_monthly.flatten()))"
   ]
  },
  {
   "cell_type": "code",
   "execution_count": null,
   "metadata": {},
   "outputs": [],
   "source": [
    "imon = 3-1\n",
    "dday_slope_monthly_v = dday_slope_monthly[imon,:]\n",
    "print(dday_slope_monthly_v)\n",
    "print(dday_slope_monthly_v.shape)\n"
   ]
  },
  {
   "cell_type": "code",
   "execution_count": null,
   "metadata": {},
   "outputs": [],
   "source": [
    "df = pd.DataFrame(range(1,nhru+1), columns=['$id'])\n",
    "\n",
    "df[\"dday_slope_monthly_v\"] = dday_slope_monthly_v\n",
    "df.head()"
   ]
  },
  {
   "cell_type": "code",
   "execution_count": null,
   "metadata": {},
   "outputs": [],
   "source": [
    "try:\n",
    "    nhru_v11 = nhru_v11.drop(columns=['dday_slope_monthly_v'])\n",
    "except:\n",
    "    pass\n",
    "    \n",
    "nhru_v11 = nhru_v11.join(df.set_index('$id'), on='nhru_v11')\n",
    "\n",
    "# plot the dday_slope values\n",
    "\n",
    "# plot all HRUs in white (background color)\n",
    "f, ax = plt.subplots(1, figsize=(12, 12))\n",
    "#hrus.plot(color=\"white\", ax=ax)\n",
    "\n",
    "# df.dropna(thresh=2)\n",
    "\n",
    "# plot the HRUs with valid temperature (non-nan) with their color ramp colors\n",
    "nhru_v11.plot(column='dday_slope_monthly_v', cmap='coolwarm', ax=ax, legend=True)"
   ]
  },
  {
   "cell_type": "code",
   "execution_count": null,
   "metadata": {},
   "outputs": [],
   "source": []
  },
  {
   "cell_type": "code",
   "execution_count": null,
   "metadata": {},
   "outputs": [],
   "source": [
    "# This computes the monthly values. The parameters are monthly.\n",
    "#dday_slope = compute_monthly_dday_slope(dday_slope_daily)\n",
    "\n",
    "# save values to file\n",
    "save_values(dday_slope_monthly, dday_slope_fn)\n"
   ]
  },
  {
   "cell_type": "code",
   "execution_count": null,
   "metadata": {},
   "outputs": [],
   "source": []
  }
 ],
 "metadata": {
  "kernelspec": {
   "display_name": "Python 3",
   "language": "python",
   "name": "python3"
  },
  "language_info": {
   "codemirror_mode": {
    "name": "ipython",
    "version": 3
   },
   "file_extension": ".py",
   "mimetype": "text/x-python",
   "name": "python",
   "nbconvert_exporter": "python",
   "pygments_lexer": "ipython3",
   "version": "3.8.3"
  }
 },
 "nbformat": 4,
 "nbformat_minor": 2
}
