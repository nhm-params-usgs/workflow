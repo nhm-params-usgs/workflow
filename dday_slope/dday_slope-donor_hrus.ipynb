{
 "cells": [
  {
   "cell_type": "code",
   "execution_count": 1,
   "metadata": {},
   "outputs": [],
   "source": [
    "import numpy as np\n",
    "import pandas as pd\n",
    "#import fiona \n",
    "import geopandas as gpd\n",
    "#import math\n",
    "#from netCDF4 import Dataset\n",
    "import xarray as xa\n",
    "import matplotlib.pyplot as plt\n",
    "%matplotlib inline\n",
    "from matplotlib import cm\n",
    "from matplotlib.colors import ListedColormap, LinearSegmentedColormap"
   ]
  },
  {
   "cell_type": "code",
   "execution_count": 2,
   "metadata": {},
   "outputs": [],
   "source": [
    "path = 'c:/Users/markstro/work1.1/weather/'\n",
    "gdb_path = 'c:/Users/markstro/work1.1/GIS/GFv1.1_v2e.gdb'\n",
    "\n",
    "#fns = [(\"2011\", \"2011_gm_climate_2020_03_02.nc\"), (\"2012\", \"2012_gm_climate_2020_03_03.nc\"),\n",
    "#       (\"2013\", \"2013_gm_climate_2020_03_05.nc\"), (\"2014\", \"2014_gm_climate_2020_03_06.nc\"),\n",
    "#       (\"2015\", \"2015_gm_climate_2020_03_08.nc\"), (\"2016\", \"2016_gm_climate_2020_03_09.nc\"),\n",
    "#       (\"2017\", \"2017_gm_climate_2020_03_10.nc\"), (\"2018\", \"2018_gm_climate_2020_03_12.nc\")]\n",
    "\n",
    "fns = [(\"2015\", \"2015_gm_climate_2020_03_08.nc\")]\n",
    "\n",
    "param_path = \"c:/Users/markstro/work1.1/paramdb_v1.1/paramdb_master/\""
   ]
  },
  {
   "cell_type": "code",
   "execution_count": null,
   "metadata": {},
   "outputs": [],
   "source": [
    "# Read the weather data from the ncf files.\n",
    "\n",
    "#prcp = xa.Dataset()\n",
    "#tmax = xa.Dataset()\n",
    "#hruid = xa.Dataset()\n",
    "#time = xa.Dataset()"
   ]
  },
  {
   "cell_type": "code",
   "execution_count": 3,
   "metadata": {},
   "outputs": [],
   "source": [
    "# Read the ncf weather file\n",
    "\n",
    "ds = xa.open_dataset(path + \"2015_gm_climate_2020_03_08.nc\")"
   ]
  },
  {
   "cell_type": "code",
   "execution_count": null,
   "metadata": {},
   "outputs": [],
   "source": [
    "# Continue to read the weather data from the ncf files.\n",
    "\n",
    "#for fn in fns:\n",
    "#    yr_str = fn[0]\n",
    "#    ds = xa.open_dataset(path + fn[1])\n",
    "\n",
    "#    tmax[yr_str] = ds[\"tmax\"].load()\n",
    "#    hruid[yr_str] = ds[\"hruid\"].load()\n",
    "#    prcp[yr_str] = ds[\"prcp\"].load()\n",
    "#    time[yr_str] = ds[\"time\"].load()"
   ]
  },
  {
   "cell_type": "code",
   "execution_count": 4,
   "metadata": {},
   "outputs": [
    {
     "name": "stdout",
     "output_type": "stream",
     "text": [
      "[31.889582 31.877855 31.808846 ... 26.97743  24.992785 21.564814]\n",
      "0.0 46.399994\n",
      "[76128 76148 76171 ... 64151 65634 18844]\n",
      "0 109951\n",
      "139807 139807\n"
     ]
    }
   ],
   "source": [
    "# Continue to read the weather data from the ncf files.\n",
    "\n",
    "jday = 183\n",
    "\n",
    "foo = ds[\"tmax\"].values\n",
    "tmax_v = foo[jday-1, :]\n",
    "hruid_v = ds[\"hruid\"].values\n",
    "\n",
    "# number of HRUs is 114958\n",
    "\n",
    "print(tmax_v)\n",
    "print(min(tmax_v), max(tmax_v))\n",
    "print(hruid_v)\n",
    "print(min(hruid_v), max(hruid_v))\n",
    "print(len(tmax_v), len(hruid_v))"
   ]
  },
  {
   "cell_type": "code",
   "execution_count": 10,
   "metadata": {},
   "outputs": [
    {
     "data": {
      "text/plain": [
       "array([     0,      0,      0, ..., 109951, 109951, 109951])"
      ]
     },
     "execution_count": 10,
     "metadata": {},
     "output_type": "execute_result"
    }
   ],
   "source": [
    "s = np.sort(hruid_v, axis=None)\n",
    "s[:-1][s[1:] == s[:-1]]"
   ]
  },
  {
   "cell_type": "code",
   "execution_count": 5,
   "metadata": {},
   "outputs": [],
   "source": [
    "# Read the GDB with the georeferenced features, ie HRUs\n",
    "\n",
    "nhru_v11 = gpd.read_file(gdb_path, layer='nhru_v11')"
   ]
  },
  {
   "cell_type": "code",
   "execution_count": 6,
   "metadata": {},
   "outputs": [
    {
     "name": "stdout",
     "output_type": "stream",
     "text": [
      "[76127 76147 76170 ... 64150 65633 18843]\n",
      "1 114958\n",
      "114958\n"
     ]
    }
   ],
   "source": [
    "nhru_v11_v = nhru_v11['nhru_v11'].values\n",
    "print(nhru_v11_v)\n",
    "print(min(nhru_v11_v), max(nhru_v11_v))\n",
    "print(len(nhru_v11_v))"
   ]
  },
  {
   "cell_type": "code",
   "execution_count": 9,
   "metadata": {},
   "outputs": [
    {
     "name": "stdout",
     "output_type": "stream",
     "text": [
      "13492 128450\n"
     ]
    }
   ],
   "source": [
    "hruid_v1 = hruid_v -1\n",
    "\n",
    "#plt.hist(hruid_v1)\n",
    "#plt.show\n",
    "count = 0\n",
    "for ii in range(len(hruid_v1)):\n",
    "    if hruid_v1[ii] < 0:\n",
    "        count += 1\n",
    "print(count, count + 114958 )"
   ]
  },
  {
   "cell_type": "code",
   "execution_count": null,
   "metadata": {},
   "outputs": [],
   "source": [
    "tmax_mapped = np.empty(len(nhru_v11_v))\n",
    "tmax_mapped[:] = np.NaN\n",
    "\n",
    "for ii in range(nhru):\n",
    "    tmax_mapped[ii] = tmax_v[hruid_v1[ii] - 1]"
   ]
  },
  {
   "cell_type": "code",
   "execution_count": null,
   "metadata": {
    "scrolled": false
   },
   "outputs": [],
   "source": [
    "#for fn in fns:\n",
    "#    yr_str = fn[0]\n",
    "#    print(prcp[yr_str])"
   ]
  },
  {
   "cell_type": "code",
   "execution_count": null,
   "metadata": {},
   "outputs": [],
   "source": [
    "#for fn in fns:\n",
    "#    yr_str = fn[0]\n",
    "#    print(time[yr_str])"
   ]
  },
  {
   "cell_type": "code",
   "execution_count": null,
   "metadata": {},
   "outputs": [],
   "source": [
    "nhru_v11['tmax'] = tmax_mapped"
   ]
  },
  {
   "cell_type": "code",
   "execution_count": null,
   "metadata": {},
   "outputs": [],
   "source": [
    "nhru_v11.head"
   ]
  },
  {
   "cell_type": "code",
   "execution_count": null,
   "metadata": {},
   "outputs": [],
   "source": [
    "coolwarm = cm.get_cmap('coolwarm', 12)\n",
    "print(coolwarm)"
   ]
  },
  {
   "cell_type": "code",
   "execution_count": null,
   "metadata": {},
   "outputs": [],
   "source": [
    "# plot the values\n",
    "\n",
    "\n",
    "# plot all HRUs in white (background color)\n",
    "f, ax = plt.subplots(1, figsize=(12, 12))\n",
    "#nhru_v11.plot(color=\"white\", ax=ax)\n",
    "\n",
    "# df.dropna(thresh=2)\n",
    "\n",
    "# plot the HRUs with valid temperature (non-nan) with their color ramp colors\n",
    "nhru_v11.plot(column='tmax', cmap='coolwarm', ax=ax, legend=True)"
   ]
  },
  {
   "cell_type": "code",
   "execution_count": null,
   "metadata": {},
   "outputs": [],
   "source": [
    "plt.plot(nhru_v11[\"tmax\"])\n",
    "plt.show()"
   ]
  },
  {
   "cell_type": "code",
   "execution_count": null,
   "metadata": {},
   "outputs": [],
   "source": []
  }
 ],
 "metadata": {
  "kernelspec": {
   "display_name": "Python 3",
   "language": "python",
   "name": "python3"
  },
  "language_info": {
   "codemirror_mode": {
    "name": "ipython",
    "version": 3
   },
   "file_extension": ".py",
   "mimetype": "text/x-python",
   "name": "python",
   "nbconvert_exporter": "python",
   "pygments_lexer": "ipython3",
   "version": "3.8.1"
  }
 },
 "nbformat": 4,
 "nbformat_minor": 2
}
