{
 "cells": [
  {
   "cell_type": "code",
   "execution_count": null,
   "metadata": {},
   "outputs": [],
   "source": [
    "import numpy as np\n",
    "import pandas as pd\n",
    "import fiona \n",
    "import geopandas as gpd\n",
    "import matplotlib.pyplot as plt\n",
    "%matplotlib inline\n",
    "from matplotlib import cm\n",
    "from matplotlib.colors import ListedColormap, LinearSegmentedColormap"
   ]
  },
  {
   "cell_type": "code",
   "execution_count": null,
   "metadata": {},
   "outputs": [],
   "source": [
    "gdb_path = 'c:/Users/markstro/work1.1/GIS/GFv1.1_v2e.gdb'\n",
    "\n",
    "# This is the hru_slope value from the PRMS parameter file\n",
    "hru_elev_fn = 'c:/Users/markstro/work1.1/paramdb_v1.1/paramdb_master/hru_elev.csv'\n",
    "hru_slope_fn = 'c:/Users/markstro/work1.1/paramdb_v1.1/paramdb_master/hru_slope.csv'\n",
    "hru_aspect_fn = 'c:/Users/markstro/work1.1/paramdb_v1.1/paramdb_master/hru_aspect.csv'\n",
    "hru_lat_fn = 'c:/Users/markstro/work1.1/paramdb_v1.1/paramdb_master/hru_lat.csv'"
   ]
  },
  {
   "cell_type": "code",
   "execution_count": null,
   "metadata": {},
   "outputs": [],
   "source": [
    "# Get all the layers from the .gdb file \n",
    "layers = fiona.listlayers(gdb_path)\n",
    "\n",
    "#for layer in layers:\n",
    "#    gdf = gpd.read_file(gdb_path,layer=layer)\n",
    "    \n",
    "print(layers)"
   ]
  },
  {
   "cell_type": "code",
   "execution_count": null,
   "metadata": {},
   "outputs": [],
   "source": [
    "nhru_v11_df = gpd.read_file(gdb_path,layer='nhru_v11')"
   ]
  },
  {
   "cell_type": "code",
   "execution_count": null,
   "metadata": {},
   "outputs": [],
   "source": [
    "nhru_v11_df.head()"
   ]
  },
  {
   "cell_type": "code",
   "execution_count": null,
   "metadata": {},
   "outputs": [],
   "source": [
    "nhru_v11_df.tail()"
   ]
  },
  {
   "cell_type": "code",
   "execution_count": null,
   "metadata": {},
   "outputs": [],
   "source": [
    "print(min(nhru_v11_df['nhru_v11']))\n",
    "print(max(nhru_v11_df['nhru_v11']))\n",
    "print(len(nhru_v11_df['nhru_v11']))"
   ]
  },
  {
   "cell_type": "code",
   "execution_count": null,
   "metadata": {},
   "outputs": [],
   "source": [
    "# Read in parameters from the paramdb\n",
    "\n",
    "hru_elev_df = pd.read_csv(hru_elev_fn)\n",
    "hru_slope_df = pd.read_csv(hru_slope_fn)\n",
    "hru_aspect_df = pd.read_csv(hru_aspect_fn)\n",
    "hru_lat_df = pd.read_csv(hru_lat_fn)"
   ]
  },
  {
   "cell_type": "code",
   "execution_count": null,
   "metadata": {},
   "outputs": [],
   "source": [
    "print(hru_elev_df)"
   ]
  },
  {
   "cell_type": "code",
   "execution_count": null,
   "metadata": {
    "scrolled": true
   },
   "outputs": [],
   "source": [
    "print(hru_slope_df)"
   ]
  },
  {
   "cell_type": "code",
   "execution_count": null,
   "metadata": {},
   "outputs": [],
   "source": [
    "print(hru_aspect_df)"
   ]
  },
  {
   "cell_type": "code",
   "execution_count": null,
   "metadata": {},
   "outputs": [],
   "source": [
    "print(hru_lat_df)"
   ]
  },
  {
   "cell_type": "code",
   "execution_count": null,
   "metadata": {},
   "outputs": [],
   "source": [
    "# Join the csv values to the GDB features using the $id key from hru_elev.csv to the nhru_v11 attribute in the GDB\n",
    "\n",
    "nhru_v11_df = nhru_v11_df.join(hru_elev_df.set_index('$id'), on='nhru_v11')\n",
    "nhru_v11_df = nhru_v11_df.join(hru_slope_df.set_index('$id'), on='nhru_v11')\n",
    "nhru_v11_df = nhru_v11_df.join(hru_aspect_df.set_index('$id'), on='nhru_v11')\n",
    "nhru_v11_df = nhru_v11_df.join(hru_lat_df.set_index('$id'), on='nhru_v11')\n",
    "nhru_v11_df.head()"
   ]
  },
  {
   "cell_type": "code",
   "execution_count": null,
   "metadata": {},
   "outputs": [],
   "source": [
    "coolwarm = cm.get_cmap('coolwarm', 12)\n",
    "print(coolwarm)"
   ]
  },
  {
   "cell_type": "code",
   "execution_count": null,
   "metadata": {},
   "outputs": [],
   "source": [
    "# plot the hru_elev values\n",
    "\n",
    "# plot all HRUs in white (background color)\n",
    "f, ax = plt.subplots(1, figsize=(12, 12))\n",
    "#hrus.plot(color=\"white\", ax=ax)\n",
    "\n",
    "# plot the HRUs with valid temperature (non-nan) with their color ramp colors\n",
    "nhru_v11_df.plot(column='hru_elev', cmap='coolwarm', ax=ax, legend=True)\n",
    "#hrus.plot(column='tavgc_2013_10_1', cmap='coolwarm', ax=ax, legend=True)"
   ]
  },
  {
   "cell_type": "code",
   "execution_count": null,
   "metadata": {},
   "outputs": [],
   "source": [
    "# plot the hru_slope values\n",
    "\n",
    "# plot all HRUs in white (background color)\n",
    "f, ax = plt.subplots(1, figsize=(12, 12))\n",
    "#hrus.plot(color=\"white\", ax=ax)\n",
    "\n",
    "# plot the HRUs with valid temperature (non-nan) with their color ramp colors\n",
    "nhru_v11_df.plot(column='hru_slope', cmap='coolwarm', ax=ax, legend=True)\n",
    "#hrus.plot(column='tavgc_2013_10_1', cmap='coolwarm', ax=ax, legend=True)"
   ]
  },
  {
   "cell_type": "code",
   "execution_count": null,
   "metadata": {},
   "outputs": [],
   "source": [
    "# plot the hru_aspect values\n",
    "\n",
    "# plot all HRUs in white (background color)\n",
    "f, ax = plt.subplots(1, figsize=(12, 12))\n",
    "#hrus.plot(color=\"white\", ax=ax)\n",
    "\n",
    "# plot the HRUs with valid temperature (non-nan) with their color ramp colors\n",
    "nhru_v11_df.plot(column='hru_aspect', cmap='coolwarm', ax=ax, legend=True)\n",
    "#hrus.plot(column='tavgc_2013_10_1', cmap='coolwarm', ax=ax, legend=True)"
   ]
  },
  {
   "cell_type": "code",
   "execution_count": null,
   "metadata": {},
   "outputs": [],
   "source": [
    "# plot the hru_lat values\n",
    "\n",
    "# plot all HRUs in white (background color)\n",
    "f, ax = plt.subplots(1, figsize=(12, 12))\n",
    "#hrus.plot(color=\"white\", ax=ax)\n",
    "\n",
    "# plot the HRUs with valid temperature (non-nan) with their color ramp colors\n",
    "nhru_v11_df.plot(column='hru_lat', cmap='coolwarm', ax=ax, legend=True)\n",
    "#hrus.plot(column='tavgc_2013_10_1', cmap='coolwarm', ax=ax, legend=True)"
   ]
  },
  {
   "cell_type": "code",
   "execution_count": null,
   "metadata": {},
   "outputs": [],
   "source": []
  }
 ],
 "metadata": {
  "kernelspec": {
   "display_name": "Python 3",
   "language": "python",
   "name": "python3"
  },
  "language_info": {
   "codemirror_mode": {
    "name": "ipython",
    "version": 3
   },
   "file_extension": ".py",
   "mimetype": "text/x-python",
   "name": "python",
   "nbconvert_exporter": "python",
   "pygments_lexer": "ipython3",
   "version": "3.8.1"
  }
 },
 "nbformat": 4,
 "nbformat_minor": 2
}
