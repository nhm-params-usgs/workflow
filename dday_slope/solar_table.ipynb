{
 "cells": [
  {
   "cell_type": "markdown",
   "metadata": {},
   "source": [
    "markstro\n",
    "3/27/2020\n",
    "\n",
    "compute the solar table for the HRUs for each day of the year"
   ]
  },
  {
   "cell_type": "code",
   "execution_count": 6,
   "metadata": {},
   "outputs": [],
   "source": [
    "import numpy as np\n",
    "#import pandas as pd\n",
    "import fiona \n",
    "import geopandas as gpd\n",
    "#import matplotlib.pyplot as plt\n",
    "#%matplotlib inline\n",
    "#from matplotlib import cm\n",
    "#from matplotlib.colors import ListedColormap, LinearSegmentedColormap"
   ]
  },
  {
   "cell_type": "markdown",
   "metadata": {},
   "source": [
    "# DANGER!  These paths are pointing to the GF 1.0 version of the parameter files until I get the new ones!"
   ]
  },
  {
   "cell_type": "code",
   "execution_count": 38,
   "metadata": {},
   "outputs": [],
   "source": [
    "hru_aspect_fn = 'c:/Users/markstro/work/input/hru_aspect.csv'\n",
    "hru_slope_fn = 'c:/Users/markstro/work/input/hru_slope.csv'\n",
    "hru_lat_fn = 'c:/Users/markstro/work/input/hru_lat.csv'"
   ]
  },
  {
   "cell_type": "code",
   "execution_count": 30,
   "metadata": {},
   "outputs": [],
   "source": [
    "eccentricity = 0.01671\n",
    "daysyr = 365.242\n",
    "degday = 360.0 / daysyr\n",
    "radians = np.pi / 180.0\n",
    "degdayrad = degday * radians"
   ]
  },
  {
   "cell_type": "code",
   "execution_count": 48,
   "metadata": {
    "scrolled": false
   },
   "outputs": [],
   "source": [
    "obliquity = np.zeros(366)\n",
    "solar_declination = np.zeros(366)\n",
    "\n",
    "for jday in range(1,367):\n",
    "    jday_f = float(jday)\n",
    "    \n",
    "    obliquity[jday-1] = 1.0 - (eccentricity * np.cos(jday_f - 3.0) * degdayrad)\n",
    "    \n",
    "    y = degdayrad * (jday_f - 1.0)\n",
    "    y2 = 2.0 * y\n",
    "    y3 = 3.0 * y\n",
    "    solar_declination[jday-1] = 0.006918 - 0.399912 * np.cos(y) + 0.070257 * np.sin(y) \\\n",
    "                                - 0.006758 * np.cos(y2) + 0.000907 * np.sin(y2) \\\n",
    "                                - 0.002697 * np.cos(y3) + 0.00148 * np.sin(y3)\n",
    "    \n",
    "    #print(jday, obliquity[jday-1], solar_declination[jday-1])"
   ]
  },
  {
   "cell_type": "code",
   "execution_count": 39,
   "metadata": {},
   "outputs": [
    {
     "name": "stdout",
     "output_type": "stream",
     "text": [
      "[155.877652  64.640189 225.288905 ... 288.246064 279.472498 286.836972]\n",
      "[0.066516 0.045131 0.042507 ... 0.074963 0.227312 0.272438]\n",
      "[46.2062   45.609654 45.629805 ... 40.972683 41.124957 41.413014]\n"
     ]
    }
   ],
   "source": [
    "hru_aspect = np.genfromtxt(hru_aspect_fn, skip_header=True)\n",
    "print(hru_aspect)\n",
    "\n",
    "hru_slope = np.genfromtxt(hru_slope_fn, skip_header=True)\n",
    "print(hru_slope)\n",
    "\n",
    "hru_lat = np.genfromtxt(hru_lat_fn, skip_header=True)\n",
    "print(hru_lat)"
   ]
  },
  {
   "cell_type": "code",
   "execution_count": 55,
   "metadata": {},
   "outputs": [],
   "source": [
    "#  This is the sunrise equation\n",
    "#  Lat is the latitude\n",
    "#  Solar_declination is the declination of the sun on a day\n",
    "#  T is the angle hour from the local meridian (local solar noon) to the\n",
    "#  sunrise (negative) or sunset (positive).  The Earth rotates at the angular\n",
    "#  speed of 15 degrees/hour (2 pi / 24 hour in radians) and, therefore, T/15 degress (T*24/pi\n",
    "#  in radians) gives the time of sunrise as the number of hours before the local\n",
    "#  noon, or the time of sunset as the number of hours after the local noon.\n",
    "#  Here the term local noon indicates the local time when the sun is exactly to\n",
    "#  the south or north or exactly overhead.\n",
    "#\n",
    "#  This is vectorize and runs over all of the HRUs in one call\n",
    "\n",
    "def compute_t(Lat, Solar_declination):\n",
    "#    if tx < -1.0:\n",
    "#        T = np.pi\n",
    "#    elif tx > 1.0:\n",
    "#        T = 0.0\n",
    "#    else:\n",
    "#        T = np.arccos(tx)\n",
    "        \n",
    "    tx = -np.tan(Lat) * np.tan(Solar_declination)\n",
    "    T = np.arccos(tx)\n",
    "    T = np.where(tx < -1.0, np.pi, T)\n",
    "    T = np.where(tx > 1.0, 0.0, T)\n",
    "\n",
    "    return T"
   ]
  },
  {
   "cell_type": "code",
   "execution_count": 61,
   "metadata": {},
   "outputs": [
    {
     "name": "stdout",
     "output_type": "stream",
     "text": [
      "1 -0.402449\n",
      "1 119.97129513412267\n",
      "1 [1.12999811 1.04328934 1.19075429 ... 1.27068985 1.47629691 1.5039665 ]\n",
      "1 [-1.20384607 -1.16209413 -1.10696965 ... -1.07876954 -0.87928498\n",
      " -0.78869154]\n",
      "1 [1.16692209 1.10269173 1.14886197 ... 1.17472969 1.17779094 1.14632902]\n",
      "1 [-1.16692209 -1.10269173 -1.14886197 ... -1.17472969 -1.17779094\n",
      " -1.14632902]\n",
      "1 [1.16692209 1.10269173 1.19075429 ... 1.27068985 1.47629691 1.5039665 ]\n",
      "1 [-1.16692209 -1.10269173 -1.10696965 ... -1.07876954 -0.87928498\n",
      " -0.78869154]\n"
     ]
    },
    {
     "name": "stderr",
     "output_type": "stream",
     "text": [
      "<ipython-input-55-ecf22fe4c050>:23: RuntimeWarning: invalid value encountered in arccos\n",
      "  T = np.arccos(tx)\n"
     ]
    }
   ],
   "source": [
    "# These np functions are vectorized, all variables are np arrays\n",
    "\n",
    "sl = np.arctan(hru_slope)\n",
    "cossl = np.cos(sl)\n",
    "a = radians * hru_aspect\n",
    "\n",
    "# x0 latitude of HRUs\n",
    "x0 = hru_lat * radians\n",
    "\n",
    "# x1 latitude of equivalent slope\n",
    "x1 = np.arcsin(cossl * np.sin(x0) + np.sin(sl) * np.cos(x0) * np.cos(a))\n",
    "\n",
    "# d1 is the denominator of equation 12, Lee, 1963\n",
    "d1 = cossl * np.cos(x0) - np.sin(sl) * np.sin(x0) * np.cos(a)\n",
    "\n",
    "# x2 is the difference in longitude between the location of\n",
    "# the HRU and the equivalent horizontal surface expressed in angle hour\n",
    "# This is equation 12 from Lee, 1963\n",
    "#x2 = ATAN(SIN(sl)*SIN(a)/d1)\n",
    "x2 = np.arctan(np.sin(sl) * np.sin(a) / d1)\n",
    "\n",
    "#      IF ( d1<0.0D0 ) x2 = x2 + PI\n",
    "x2 = np.where(d1 >= 0, x2, x2 + np.pi) \n",
    "\n",
    "# r0 is the minute solar constant cal/cm2/min\n",
    "r0 = 2.0\n",
    "# r0 could be 1.95 (Drummond, et al 1968)\n",
    "\n",
    "        \n",
    "#print(sl)\n",
    "#print(cossl)\n",
    "#print(a)\n",
    "#print(x0)\n",
    "#print(x1)\n",
    "#print(d1)\n",
    "#print(min(d1))\n",
    "#print(x2)\n",
    "#print(max(x2))\n",
    "\n",
    "#for ihru in range(nhru):\n",
    "#            CALL compute_soltab(obliquity, Solar_declination, Hru_slope(n), Hru_aspect(n), &\n",
    "#     &                      Hru_lat(n), Hru_cossl(n), Soltab_potsw(1, n), &\n",
    "#     &                      Soltab_sunhrs(1, n), Hru_type(n), n)\n",
    "\n",
    "#for jday in range(1,367):\n",
    "for jday in range(1,2):\n",
    "\n",
    "#    jday_f = float(jday)\n",
    "    d = solar_declination[jday-1]\n",
    "    print(jday, d)\n",
    "    \n",
    "# This is adjusted to express the variability of available insolation as\n",
    "# a function of the earth-sun distance.  Lee, 1963, p 16.\n",
    "# r1 is the hour solar constant cal/cm2/hour\n",
    "# r0 is the minute solar constant cal/cm2/min\n",
    "# 60.0D0 is minutes in an hour\n",
    "# Obliquity is the obliquity of the ellipse of the earth's orbit around the sun. E\n",
    "# is also called the radius vector of the sun (or earth) and is the ratio of\n",
    "# the earth-sun distance on a day to the mean earth-sun distance.\n",
    "# obliquity = ~23.439 (obliquity of sun)\n",
    "    r1 = 60.0 * r0 / (obliquity[jday-1] * obliquity[jday-1])\n",
    "    print(jday, r1)\n",
    "    \n",
    "#  compute_t is the sunrise equation.\n",
    "#  t7 is the hour angle of sunset on the equivalent slope\n",
    "#  t6 is the hour angle of sunrise on the equivalent slope\n",
    "    t = compute_t(x1, d)\n",
    "    t7 = t - x2\n",
    "    t6 = -t - x2\n",
    "    print(jday, t7)\n",
    "    print(jday, t6)\n",
    "    \n",
    "#  compute_t is the sunrise equation.\n",
    "#  t1 is the hour angle of sunset on a hroizontal surface at the HRU\n",
    "#  t0 is the hour angle of sunrise on a hroizontal surface at the HRU\n",
    "    t = compute_t(x1, d)\n",
    "    t1 = t\n",
    "    t0 = -t\n",
    "    print(jday, t1)\n",
    "    print(jday, t0)\n",
    "    \n",
    "# For HRUs that have an east or west direction component to their aspect, the\n",
    "# longitude adjustment (moving the effective slope east or west) will cause either:\n",
    "# (1) sunrise to be earlier than at the horizontal plane at the HRU\n",
    "# (2) sunset to be later than at the horizontal plane at the HRU\n",
    "# This is not possible. The if statements below check for this and adjust the\n",
    "# sunrise/sunset angle hours on the equivalent slopes as necessary.\n",
    "#\n",
    "# t3 is the hour angle of sunrise on the slope at the HRU\n",
    "# t2 is the hour angle of sunset on the slope at the HRU\n",
    "#        IF ( t7>t1 ) THEN\n",
    "#          t3 = t1\n",
    "#        ELSE\n",
    "#          t3 = t7\n",
    "#        ENDIF\n",
    "    t3 = np.where(t7 < t1, t1, t7) \n",
    "        \n",
    "#        IF ( t6<t0 ) THEN\n",
    "#          t2 = t0\n",
    "#        ELSE\n",
    "#          t2 = t6\n",
    "#        ENDIF\n",
    "    t2 = np.where(t6 < t0, t0, t6) \n",
    "    \n",
    "    print(jday, t3)\n",
    "    print(jday, t2)\n",
    "    "
   ]
  },
  {
   "cell_type": "code",
   "execution_count": null,
   "metadata": {},
   "outputs": [],
   "source": []
  }
 ],
 "metadata": {
  "kernelspec": {
   "display_name": "Python 3",
   "language": "python",
   "name": "python3"
  },
  "language_info": {
   "codemirror_mode": {
    "name": "ipython",
    "version": 3
   },
   "file_extension": ".py",
   "mimetype": "text/x-python",
   "name": "python",
   "nbconvert_exporter": "python",
   "pygments_lexer": "ipython3",
   "version": "3.8.1"
  }
 },
 "nbformat": 4,
 "nbformat_minor": 2
}
