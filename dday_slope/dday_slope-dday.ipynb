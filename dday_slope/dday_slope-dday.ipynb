{
 "cells": [
  {
   "cell_type": "code",
   "execution_count": null,
   "metadata": {},
   "outputs": [],
   "source": [
    "import numpy as np\n",
    "import pandas as pd\n",
    "#import fiona \n",
    "import geopandas as gpd\n",
    "#import math\n",
    "#from netCDF4 import Dataset\n",
    "#import xarray as xa\n",
    "import matplotlib.pyplot as plt\n",
    "%matplotlib inline\n",
    "#from matplotlib import cm\n",
    "#from matplotlib.colors import ListedColormap, LinearSegmentedColormap\n",
    "import datetime\n",
    "import random\n",
    "from scipy.interpolate import interp1d"
   ]
  },
  {
   "cell_type": "code",
   "execution_count": null,
   "metadata": {},
   "outputs": [],
   "source": [
    "# File written by dday_slope-radadj.ipynb\n",
    "radadj_fn = 'c:/Users/markstro/work1.1/soltab/dday_slope_radadj_GF_v1.1.csv'\n",
    "radadj_solf_fn = 'c:/Users/markstro/work1.1/soltab/dday_slope_radadj_solf_GF_v1.1.csv'\n",
    "pptadj_fn = 'c:/Users/markstro/work1.1/soltab/dday_slope_pptadj_GF_v1.1.csv'\n",
    "gdb_path = 'c:/Users/markstro/work1.1/GIS/GFv1.1_v2e.gdb'\n",
    "\n",
    "param_path = \"c:/Users/markstro/work1.1/paramdb_v1.1/paramdb_master/\""
   ]
  },
  {
   "cell_type": "code",
   "execution_count": null,
   "metadata": {},
   "outputs": [],
   "source": [
    "nhru_v11 = gpd.read_file(gdb_path, layer='nhru_v11')"
   ]
  },
  {
   "cell_type": "code",
   "execution_count": null,
   "metadata": {},
   "outputs": [],
   "source": [
    "nhru_v11_ids = nhru_v11[\"nhru_v11\"].values\n",
    "nhru = len(nhru_v11_ids)\n",
    "print(nhru)\n",
    "print(nhru_v11_ids)\n",
    "\n",
    "nmonths = 12\n",
    "print(nhru * nmonths)"
   ]
  },
  {
   "cell_type": "code",
   "execution_count": null,
   "metadata": {},
   "outputs": [],
   "source": [
    "# Read PRMS parameters\n",
    "tmax_allrain_offset_f = pd.read_csv(param_path + \"tmax_allrain_offset.csv\")\n",
    "tmax_allrain_offset = tmax_allrain_offset_f[\"tmax_allrain_offset\"].values\n",
    "\n",
    "tmax_allsnow_f = pd.read_csv(param_path + \"tmax_allsnow.csv\")\n",
    "tmax_allsnow = tmax_allsnow_f[\"tmax_allsnow\"].values\n",
    "tmax_allrain = tmax_allsnow + tmax_allrain_offset\n",
    "\n",
    "#print(tmax_allrain)\n",
    "#print(tmax_allrain.shape)\n",
    "\n",
    "tmax_allrain.shape = (nmonths, nhru)\n",
    "\n",
    "#print(tmax_allrain.shape)\n",
    "\n",
    "dday_intcp_f = pd.read_csv(param_path + \"dday_intcp.csv\")\n",
    "dday_intcp = dday_intcp_f[\"dday_intcp\"].values\n",
    "dday_intcp.shape = (nmonths, nhru)\n",
    "#print(dday_intcp)\n",
    "\n",
    "# These 2D parameters are all set to constants so there is only one value\n",
    "ppt_rad_adj = 0.02\n",
    "tmax_index = 50.0\n",
    "radj_sppt = 0.44\n",
    "radj_wppt = 0.55\n",
    "radadj_intcp = 1.0\n",
    "radadj_slope = 0.02"
   ]
  },
  {
   "cell_type": "code",
   "execution_count": null,
   "metadata": {},
   "outputs": [],
   "source": [
    "# read the radadj values from the csv file produced by dday_slope-radadj.ipynb\n",
    "radadj_df = pd.read_csv(radadj_fn)"
   ]
  },
  {
   "cell_type": "code",
   "execution_count": null,
   "metadata": {},
   "outputs": [],
   "source": [
    "radadj = radadj_df.iloc[:, 1:367].values\n",
    "print(radadj.shape)\n",
    "print(radadj)"
   ]
  },
  {
   "cell_type": "code",
   "execution_count": null,
   "metadata": {},
   "outputs": [],
   "source": [
    "radadj_nhru_v11_v = radadj_df[\"nhru_v11\"].values\n",
    "print(radadj_nhru_v11_v)"
   ]
  },
  {
   "cell_type": "markdown",
   "metadata": {},
   "source": [
    "# Need to compute pptadj with pptadj_fn not random"
   ]
  },
  {
   "cell_type": "code",
   "execution_count": null,
   "metadata": {},
   "outputs": [],
   "source": [
    "# read the pptadj values from the csv file produced by dday_slope-pptadj.ipynb\n",
    "# pptadj_df = pd.read_csv(pptadj_fn)\n",
    "\n",
    "dates = [datetime.datetime(2015, 1, 1), datetime.datetime(2015, 1, 2), datetime.datetime(2015, 1, 3),\n",
    "         datetime.datetime(2015, 1, 4)]\n",
    "ndays = len(dates)\n",
    "\n",
    "foo = np.random.random_sample(((nhru*ndays),))\n",
    "foo.shape = (4, nhru)\n",
    "\n",
    "hru_id_str = np.empty(nhru, dtype='int')\n",
    "for jj in range(nhru):\n",
    "    hru_id_str[jj] = jj+1\n",
    "\n",
    "# Create the pandas DataFrame. This should be comparable to what has been produced and read in from pptadj_fn)\n",
    "pptadj_df = pd.DataFrame(foo, columns = hru_id_str)\n",
    "pptadj_df[\"date\"] = dates\n",
    "\n",
    "pptadj_df.head()"
   ]
  },
  {
   "cell_type": "code",
   "execution_count": null,
   "metadata": {},
   "outputs": [],
   "source": [
    "pptadj_v = pptadj_df.iloc[:, 0:nhru].values\n",
    "print(pptadj_v)"
   ]
  },
  {
   "cell_type": "code",
   "execution_count": null,
   "metadata": {},
   "outputs": [],
   "source": [
    "radadj_solf = np.zeros((len(pptadj_df[\"date\"]), nhru))\n",
    "\n",
    "ii = 0\n",
    "for date in pptadj_df[\"date\"]:\n",
    "    jday = date.dayofyear\n",
    "    print(date, jday)\n",
    "    \n",
    "    for ihru in range(nhru):\n",
    "        radadj_solf[ii,ihru] = radadj[ihru,jday] / pptadj_v[ii,ihru]\n",
    "    \n",
    "    ii += 1\n"
   ]
  },
  {
   "cell_type": "code",
   "execution_count": null,
   "metadata": {},
   "outputs": [],
   "source": [
    "print(radadj_solf.shape)\n",
    "print(radadj_solf)"
   ]
  },
  {
   "cell_type": "code",
   "execution_count": null,
   "metadata": {},
   "outputs": [],
   "source": [
    "# Create the pandas DataFrame with the radadj values. This is for writing a csv file.\n",
    "radadj_solf_df = pd.DataFrame(radadj_solf, columns = nhru_v11_ids)\n",
    "radadj_solf_df[\"date\"] = dates\n",
    "\n",
    "# This moves the \"dates\" column to the first position, better for the CSV.\n",
    "cols = list(radadj_solf_df.columns)\n",
    "cols = [cols[-1]] + cols[:-1]\n",
    "radadj_solf_df = radadj_solf_df[cols]\n",
    "\n",
    "radadj_solf_df.to_csv(path_or_buf=radadj_solf_fn)"
   ]
  },
  {
   "cell_type": "code",
   "execution_count": null,
   "metadata": {
    "scrolled": true
   },
   "outputs": [],
   "source": [
    "radadj_solf_df.head()"
   ]
  },
  {
   "cell_type": "code",
   "execution_count": null,
   "metadata": {},
   "outputs": [],
   "source": [
    "solf_pts = np.array([.20, .35, .45, .51, .56, .59, .62, .64, .655, .67, .682, .69, .70, .71, .715, .72, .722, .724, .726,\n",
    "      .728, .73, .734, .738, .742, .746, .75])\n",
    "print(solf_pts)\n",
    "dday_pts = np.array([1.0, 2.0, 3.0, 4.0, 5.0, 6.0, 7.0, 8.0, 9.0, 10.0, 11.0, 12.0, 13.0, 14.0, 15.0, 16.0, 17.0,\n",
    "                     18.0, 19.0, 20.0, 21.0, 22.0, 23.0, 24.0, 25.0, 26.0])\n",
    "print(type(solf_pts))\n",
    "f2 = interp1d(solf_pts, dday_pts, kind='cubic')\n",
    "\n",
    "print(f2(0.7))"
   ]
  },
  {
   "cell_type": "code",
   "execution_count": null,
   "metadata": {},
   "outputs": [],
   "source": [
    "xnew = np.linspace(0.201, 0.749, num=41, endpoint=False)\n",
    "\n",
    "#for ii in range(len(xnew)):\n",
    "#    print(xnew[ii])\n",
    "#    print(xnew[ii], f2(xnew[ii]))\n",
    "\n",
    "plt.plot(xnew,f2(xnew))\n",
    "plt.show()"
   ]
  },
  {
   "cell_type": "code",
   "execution_count": null,
   "metadata": {},
   "outputs": [],
   "source": [
    "dday = np.zeros(radadj_solf.shape)\n",
    "\n",
    "ii = 0\n",
    "for date in pptadj_df[\"date\"]:\n",
    "    jday = date.dayofyear\n",
    "    print(date, jday)\n",
    "    \n",
    "    for ihru in range(nhru):\n",
    "        if radadj_solf[ii, ihru] < 0.2:\n",
    "            dday[ii,ihru] = 1.0\n",
    "        elif radadj_solf[ii, ihru] > 0.75:\n",
    "            dday[ii,ihru] = 26.0\n",
    "        else:\n",
    "            dday[ii,ihru] = f2(radadj_solf[ii,ihru])\n",
    "    \n",
    "    ii += 1"
   ]
  },
  {
   "cell_type": "code",
   "execution_count": null,
   "metadata": {},
   "outputs": [],
   "source": [
    "print(dday)"
   ]
  },
  {
   "cell_type": "markdown",
   "metadata": {},
   "source": [
    "# Need to read tmax_hru from the CBH ncf file"
   ]
  },
  {
   "cell_type": "code",
   "execution_count": null,
   "metadata": {},
   "outputs": [],
   "source": [
    "# dday = Dday_slope(j, Nowmonth)*Tmax_hru(j) + Dday_intcp(j, Nowmonth) + 1.0\n",
    "# dday_slope(ihru,imon) = (dday(iday,ihru) - dday_intcp(ihru,imon) - 1.0) / tmax_hru(iday,ihru)\n",
    "\n",
    "ii = 0\n",
    "for date in pptadj_df[\"date\"]:\n",
    "    jday = date.dayofyear\n",
    "    imon = date.month - 1\n",
    "    print(date, jday, imon)\n",
    "    \n",
    "    for ihru in range(nhru):\n",
    "        dday_slope_daily[ihru,ii] = (dday[ii,ihru] - dday_intcp[imon,ihru] - 1.0) / tmax_hru[ii,ihru]"
   ]
  },
  {
   "cell_type": "code",
   "execution_count": null,
   "metadata": {},
   "outputs": [],
   "source": [
    "for date in pptadj_df[\"date\"]:\n",
    "    jday = date.dayofyear\n",
    "    imon = date.month\n",
    "    print(date, jday, imon)\n",
    "    \n",
    "    for ihru in range(nhru):\n",
    "        dday_slope[ihru,imon] += dday_slope_daily[ihru,ii]\n",
    "        count[imon] += 1\n",
    "        \n",
    "for ihru in range(nhru):\n",
    "    for ihru in range(0,12):\n",
    "        dday_slope[ihru,imon] = dday_slope[ihru,imon] / count[imon]\n"
   ]
  }
 ],
 "metadata": {
  "kernelspec": {
   "display_name": "Python 3",
   "language": "python",
   "name": "python3"
  },
  "language_info": {
   "codemirror_mode": {
    "name": "ipython",
    "version": 3
   },
   "file_extension": ".py",
   "mimetype": "text/x-python",
   "name": "python",
   "nbconvert_exporter": "python",
   "pygments_lexer": "ipython3",
   "version": "3.8.1"
  }
 },
 "nbformat": 4,
 "nbformat_minor": 2
}
