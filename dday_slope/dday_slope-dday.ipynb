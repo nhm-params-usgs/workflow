{
 "cells": [
  {
   "cell_type": "code",
   "execution_count": 38,
   "metadata": {},
   "outputs": [],
   "source": [
    "import numpy as np\n",
    "import pandas as pd\n",
    "#import fiona \n",
    "import geopandas as gpd\n",
    "#import math\n",
    "#from netCDF4 import Dataset\n",
    "#import xarray as xa\n",
    "import matplotlib.pyplot as plt\n",
    "%matplotlib inline\n",
    "#from matplotlib import cm\n",
    "#from matplotlib.colors import ListedColormap, LinearSegmentedColormap\n",
    "import datetime\n",
    "import random\n",
    "from scipy.interpolate import interp1d"
   ]
  },
  {
   "cell_type": "code",
   "execution_count": 26,
   "metadata": {},
   "outputs": [],
   "source": [
    "# File written by dday_slope-radadj.ipynb\n",
    "radadj_fn = 'c:/Users/markstro/work1.1/soltab/dday_slope_radadj_GF_v1.1.csv'\n",
    "radadj_solf_fn = 'c:/Users/markstro/work1.1/soltab/dday_slope_radadj_solf_GF_v1.1.csv'\n",
    "pptadj_fn = 'c:/Users/markstro/work1.1/soltab/dday_slope_pptadj_GF_v1.1.csv'\n",
    "gdb_path = 'c:/Users/markstro/work1.1/GIS/GFv1.1_v2e.gdb'\n",
    "\n",
    "param_path = \"c:/Users/markstro/work1.1/paramdb_v1.1/paramdb_master/\""
   ]
  },
  {
   "cell_type": "code",
   "execution_count": 3,
   "metadata": {},
   "outputs": [],
   "source": [
    "nhru_v11 = gpd.read_file(gdb_path, layer='nhru_v11')"
   ]
  },
  {
   "cell_type": "code",
   "execution_count": 4,
   "metadata": {},
   "outputs": [
    {
     "name": "stdout",
     "output_type": "stream",
     "text": [
      "114958\n",
      "[76127 76147 76170 ... 64150 65633 18843]\n",
      "1379496\n"
     ]
    }
   ],
   "source": [
    "nhru_v11_ids = nhru_v11[\"nhru_v11\"].values\n",
    "nhru = len(nhru_v11_ids)\n",
    "print(nhru)\n",
    "print(nhru_v11_ids)\n",
    "\n",
    "nmonths = 12\n",
    "print(nhru * nmonths)"
   ]
  },
  {
   "cell_type": "code",
   "execution_count": 5,
   "metadata": {},
   "outputs": [
    {
     "name": "stdout",
     "output_type": "stream",
     "text": [
      "[36.573334 37.46     37.39     ... 33.       33.       33.      ]\n",
      "(1379496,)\n",
      "(12, 114958)\n"
     ]
    }
   ],
   "source": [
    "# Read PRMS parameters\n",
    "tmax_allrain_offset_f = pd.read_csv(param_path + \"tmax_allrain_offset.csv\")\n",
    "tmax_allrain_offset = tmax_allrain_offset_f[\"tmax_allrain_offset\"].values\n",
    "\n",
    "tmax_allsnow_f = pd.read_csv(param_path + \"tmax_allsnow.csv\")\n",
    "tmax_allsnow = tmax_allsnow_f[\"tmax_allsnow\"].values\n",
    "tmax_allrain = tmax_allsnow + tmax_allrain_offset\n",
    "\n",
    "print(tmax_allrain)\n",
    "print(tmax_allrain.shape)\n",
    "\n",
    "tmax_allrain.shape = (nmonths, nhru)\n",
    "\n",
    "print(tmax_allrain.shape)\n",
    "\n",
    "# These 2D parameters are all set to constants\n",
    "ppt_rad_adj = 0.02\n",
    "tmax_index = 50.0\n",
    "radj_sppt = 0.44\n",
    "radj_wppt = 0.55\n",
    "radadj_intcp = 1.0\n",
    "radadj_slope = 0.02"
   ]
  },
  {
   "cell_type": "code",
   "execution_count": 6,
   "metadata": {},
   "outputs": [],
   "source": [
    "# read the radadj values from the csv file produced by dday_slope-radadj.ipynb\n",
    "radadj_df = pd.read_csv(radadj_fn)"
   ]
  },
  {
   "cell_type": "code",
   "execution_count": 7,
   "metadata": {},
   "outputs": [
    {
     "name": "stdout",
     "output_type": "stream",
     "text": [
      "(114958, 366)\n",
      "[[0.55548736 0.55395482 0.55243071 ... 0.50950792 0.50842039 0.50722945]\n",
      " [0.51694796 0.51572151 0.51429799 ... 0.47002175 0.46908787 0.46806488]\n",
      " [0.56715888 0.56569461 0.56399583 ... 0.51319704 0.51208671 0.51087087]\n",
      " ...\n",
      " [0.39707621 0.39563913 0.39410309 ... 0.37876289 0.37770014 0.37643269]\n",
      " [0.51270796 0.51047432 0.50792109 ... 0.53035199 0.52837909 0.52642081]\n",
      " [0.05       0.05       0.05       ... 0.05       0.05       0.05      ]]\n"
     ]
    }
   ],
   "source": [
    "radadj = radadj_df.iloc[:, 1:367].values\n",
    "print(radadj.shape)\n",
    "print(radadj)"
   ]
  },
  {
   "cell_type": "code",
   "execution_count": 8,
   "metadata": {},
   "outputs": [
    {
     "name": "stdout",
     "output_type": "stream",
     "text": [
      "[76127 76147 76170 ... 64150 65633 18843]\n"
     ]
    }
   ],
   "source": [
    "radadj_nhru_v11_v = radadj_df[\"nhru_v11\"].values\n",
    "print(radadj_nhru_v11_v)"
   ]
  },
  {
   "cell_type": "code",
   "execution_count": 9,
   "metadata": {},
   "outputs": [
    {
     "data": {
      "text/html": [
       "<div>\n",
       "<style scoped>\n",
       "    .dataframe tbody tr th:only-of-type {\n",
       "        vertical-align: middle;\n",
       "    }\n",
       "\n",
       "    .dataframe tbody tr th {\n",
       "        vertical-align: top;\n",
       "    }\n",
       "\n",
       "    .dataframe thead th {\n",
       "        text-align: right;\n",
       "    }\n",
       "</style>\n",
       "<table border=\"1\" class=\"dataframe\">\n",
       "  <thead>\n",
       "    <tr style=\"text-align: right;\">\n",
       "      <th></th>\n",
       "      <th>1</th>\n",
       "      <th>2</th>\n",
       "      <th>3</th>\n",
       "      <th>4</th>\n",
       "      <th>5</th>\n",
       "      <th>6</th>\n",
       "      <th>7</th>\n",
       "      <th>8</th>\n",
       "      <th>9</th>\n",
       "      <th>10</th>\n",
       "      <th>...</th>\n",
       "      <th>114950</th>\n",
       "      <th>114951</th>\n",
       "      <th>114952</th>\n",
       "      <th>114953</th>\n",
       "      <th>114954</th>\n",
       "      <th>114955</th>\n",
       "      <th>114956</th>\n",
       "      <th>114957</th>\n",
       "      <th>114958</th>\n",
       "      <th>date</th>\n",
       "    </tr>\n",
       "  </thead>\n",
       "  <tbody>\n",
       "    <tr>\n",
       "      <th>0</th>\n",
       "      <td>0.082531</td>\n",
       "      <td>0.669620</td>\n",
       "      <td>0.028350</td>\n",
       "      <td>0.785106</td>\n",
       "      <td>0.052309</td>\n",
       "      <td>0.494108</td>\n",
       "      <td>0.948708</td>\n",
       "      <td>0.971430</td>\n",
       "      <td>0.855506</td>\n",
       "      <td>0.499365</td>\n",
       "      <td>...</td>\n",
       "      <td>0.124832</td>\n",
       "      <td>0.855745</td>\n",
       "      <td>0.397715</td>\n",
       "      <td>0.821708</td>\n",
       "      <td>0.788874</td>\n",
       "      <td>0.956351</td>\n",
       "      <td>0.341847</td>\n",
       "      <td>0.845512</td>\n",
       "      <td>0.895715</td>\n",
       "      <td>2015-01-01</td>\n",
       "    </tr>\n",
       "    <tr>\n",
       "      <th>1</th>\n",
       "      <td>0.837744</td>\n",
       "      <td>0.520962</td>\n",
       "      <td>0.090559</td>\n",
       "      <td>0.053377</td>\n",
       "      <td>0.670583</td>\n",
       "      <td>0.201824</td>\n",
       "      <td>0.767917</td>\n",
       "      <td>0.960934</td>\n",
       "      <td>0.551316</td>\n",
       "      <td>0.566071</td>\n",
       "      <td>...</td>\n",
       "      <td>0.595882</td>\n",
       "      <td>0.933841</td>\n",
       "      <td>0.468868</td>\n",
       "      <td>0.723092</td>\n",
       "      <td>0.199099</td>\n",
       "      <td>0.113507</td>\n",
       "      <td>0.247814</td>\n",
       "      <td>0.280656</td>\n",
       "      <td>0.197843</td>\n",
       "      <td>2015-01-02</td>\n",
       "    </tr>\n",
       "    <tr>\n",
       "      <th>2</th>\n",
       "      <td>0.313559</td>\n",
       "      <td>0.874446</td>\n",
       "      <td>0.250543</td>\n",
       "      <td>0.853634</td>\n",
       "      <td>0.566480</td>\n",
       "      <td>0.083146</td>\n",
       "      <td>0.249503</td>\n",
       "      <td>0.177856</td>\n",
       "      <td>0.284221</td>\n",
       "      <td>0.347294</td>\n",
       "      <td>...</td>\n",
       "      <td>0.450335</td>\n",
       "      <td>0.415605</td>\n",
       "      <td>0.934481</td>\n",
       "      <td>0.913622</td>\n",
       "      <td>0.608806</td>\n",
       "      <td>0.241506</td>\n",
       "      <td>0.656129</td>\n",
       "      <td>0.685773</td>\n",
       "      <td>0.311510</td>\n",
       "      <td>2015-01-03</td>\n",
       "    </tr>\n",
       "    <tr>\n",
       "      <th>3</th>\n",
       "      <td>0.816500</td>\n",
       "      <td>0.419055</td>\n",
       "      <td>0.577222</td>\n",
       "      <td>0.780861</td>\n",
       "      <td>0.123033</td>\n",
       "      <td>0.030065</td>\n",
       "      <td>0.306067</td>\n",
       "      <td>0.317806</td>\n",
       "      <td>0.640859</td>\n",
       "      <td>0.995908</td>\n",
       "      <td>...</td>\n",
       "      <td>0.208673</td>\n",
       "      <td>0.603438</td>\n",
       "      <td>0.237311</td>\n",
       "      <td>0.679076</td>\n",
       "      <td>0.792163</td>\n",
       "      <td>0.253350</td>\n",
       "      <td>0.667945</td>\n",
       "      <td>0.591145</td>\n",
       "      <td>0.034884</td>\n",
       "      <td>2015-01-04</td>\n",
       "    </tr>\n",
       "  </tbody>\n",
       "</table>\n",
       "<p>4 rows × 114959 columns</p>\n",
       "</div>"
      ],
      "text/plain": [
       "          1         2         3         4         5         6         7  \\\n",
       "0  0.082531  0.669620  0.028350  0.785106  0.052309  0.494108  0.948708   \n",
       "1  0.837744  0.520962  0.090559  0.053377  0.670583  0.201824  0.767917   \n",
       "2  0.313559  0.874446  0.250543  0.853634  0.566480  0.083146  0.249503   \n",
       "3  0.816500  0.419055  0.577222  0.780861  0.123033  0.030065  0.306067   \n",
       "\n",
       "          8         9        10  ...    114950    114951    114952    114953  \\\n",
       "0  0.971430  0.855506  0.499365  ...  0.124832  0.855745  0.397715  0.821708   \n",
       "1  0.960934  0.551316  0.566071  ...  0.595882  0.933841  0.468868  0.723092   \n",
       "2  0.177856  0.284221  0.347294  ...  0.450335  0.415605  0.934481  0.913622   \n",
       "3  0.317806  0.640859  0.995908  ...  0.208673  0.603438  0.237311  0.679076   \n",
       "\n",
       "     114954    114955    114956    114957    114958       date  \n",
       "0  0.788874  0.956351  0.341847  0.845512  0.895715 2015-01-01  \n",
       "1  0.199099  0.113507  0.247814  0.280656  0.197843 2015-01-02  \n",
       "2  0.608806  0.241506  0.656129  0.685773  0.311510 2015-01-03  \n",
       "3  0.792163  0.253350  0.667945  0.591145  0.034884 2015-01-04  \n",
       "\n",
       "[4 rows x 114959 columns]"
      ]
     },
     "execution_count": 9,
     "metadata": {},
     "output_type": "execute_result"
    }
   ],
   "source": [
    "# read the pptadj values from the csv file produced by dday_slope-pptadj.ipynb\n",
    "# pptadj_df = pd.read_csv(pptadj_fn)\n",
    "\n",
    "dates = [datetime.datetime(2015, 1, 1), datetime.datetime(2015, 1, 2), datetime.datetime(2015, 1, 3),\n",
    "         datetime.datetime(2015, 1, 4)]\n",
    "ndays = len(dates)\n",
    "\n",
    "foo = np.random.random_sample(((nhru*ndays),))\n",
    "foo.shape = (4, nhru)\n",
    "\n",
    "hru_id_str = np.empty(nhru, dtype='int')\n",
    "for jj in range(nhru):\n",
    "    hru_id_str[jj] = jj+1\n",
    "\n",
    "# Create the pandas DataFrame. This should be comparable to what has been produced and read in from pptadj_fn)\n",
    "pptadj_df = pd.DataFrame(foo, columns = hru_id_str)\n",
    "pptadj_df[\"date\"] = dates\n",
    "\n",
    "pptadj_df.head()"
   ]
  },
  {
   "cell_type": "code",
   "execution_count": 13,
   "metadata": {},
   "outputs": [
    {
     "name": "stdout",
     "output_type": "stream",
     "text": [
      "[[0.08253087 0.66962048 0.02835027 ... 0.34184725 0.84551162 0.89571506]\n",
      " [0.83774438 0.52096224 0.09055912 ... 0.24781363 0.28065601 0.19784258]\n",
      " [0.31355915 0.87444649 0.25054345 ... 0.65612909 0.68577252 0.31150994]\n",
      " [0.8164996  0.41905471 0.57722192 ... 0.66794522 0.59114518 0.03488397]]\n"
     ]
    }
   ],
   "source": [
    "pptadj_v = pptadj_df.iloc[:, 0:nhru].values\n",
    "print(pptadj_v)"
   ]
  },
  {
   "cell_type": "code",
   "execution_count": 15,
   "metadata": {},
   "outputs": [
    {
     "name": "stdout",
     "output_type": "stream",
     "text": [
      "2015-01-01 00:00:00 1\n",
      "2015-01-02 00:00:00 2\n",
      "2015-01-03 00:00:00 3\n",
      "2015-01-04 00:00:00 4\n"
     ]
    }
   ],
   "source": [
    "radadj_solf = np.zeros((len(pptadj_df[\"date\"]), nhru))\n",
    "\n",
    "ii = 0\n",
    "for date in pptadj_df[\"date\"]:\n",
    "    jday = date.dayofyear\n",
    "    print(date, jday)\n",
    "    \n",
    "    for ihru in range(nhru):\n",
    "        radadj_solf[ii,ihru] = radadj[ihru,jday] / pptadj_v[ii,ihru]\n",
    "    \n",
    "    ii += 1\n"
   ]
  },
  {
   "cell_type": "code",
   "execution_count": 27,
   "metadata": {},
   "outputs": [
    {
     "name": "stdout",
     "output_type": "stream",
     "text": [
      "(4, 114958)\n",
      "[[ 6.71209194  0.77016986 19.95376708 ...  1.15735646  0.60374607\n",
      "   0.05582132]\n",
      " [ 0.65942634  0.98720781  6.22792999 ...  1.59032044  1.80976384\n",
      "   0.25272618]\n",
      " [ 1.75623168  0.58652223  2.24387024 ...  0.59799538  0.73672485\n",
      "   0.16050852]\n",
      " [ 0.67217414  1.22006478  0.97063242 ...  0.58467249  0.84986387\n",
      "   1.43332305]]\n"
     ]
    }
   ],
   "source": [
    "print(radadj_solf.shape)\n",
    "print(radadj_solf)"
   ]
  },
  {
   "cell_type": "code",
   "execution_count": 29,
   "metadata": {},
   "outputs": [],
   "source": [
    "# Create the pandas DataFrame with the radadj values. This is for writing a csv file.\n",
    "radadj_solf_df = pd.DataFrame(radadj_solf, columns = nhru_v11_ids)\n",
    "radadj_solf_df[\"date\"] = dates\n",
    "\n",
    "# This moves the \"dates\" column to the first position, better for the CSV.\n",
    "cols = list(radadj_solf_df.columns)\n",
    "cols = [cols[-1]] + cols[:-1]\n",
    "radadj_solf_df = radadj_solf_df[cols]\n",
    "\n",
    "radadj_solf_df.to_csv(path_or_buf=radadj_solf_fn)"
   ]
  },
  {
   "cell_type": "code",
   "execution_count": 30,
   "metadata": {
    "scrolled": true
   },
   "outputs": [
    {
     "data": {
      "text/html": [
       "<div>\n",
       "<style scoped>\n",
       "    .dataframe tbody tr th:only-of-type {\n",
       "        vertical-align: middle;\n",
       "    }\n",
       "\n",
       "    .dataframe tbody tr th {\n",
       "        vertical-align: top;\n",
       "    }\n",
       "\n",
       "    .dataframe thead th {\n",
       "        text-align: right;\n",
       "    }\n",
       "</style>\n",
       "<table border=\"1\" class=\"dataframe\">\n",
       "  <thead>\n",
       "    <tr style=\"text-align: right;\">\n",
       "      <th></th>\n",
       "      <th>date</th>\n",
       "      <th>76127</th>\n",
       "      <th>76147</th>\n",
       "      <th>76170</th>\n",
       "      <th>76172</th>\n",
       "      <th>76181</th>\n",
       "      <th>76182</th>\n",
       "      <th>76196</th>\n",
       "      <th>76204</th>\n",
       "      <th>76212</th>\n",
       "      <th>...</th>\n",
       "      <th>65320</th>\n",
       "      <th>65360</th>\n",
       "      <th>2373</th>\n",
       "      <th>18844</th>\n",
       "      <th>1914</th>\n",
       "      <th>57964</th>\n",
       "      <th>64080</th>\n",
       "      <th>64150</th>\n",
       "      <th>65633</th>\n",
       "      <th>18843</th>\n",
       "    </tr>\n",
       "  </thead>\n",
       "  <tbody>\n",
       "    <tr>\n",
       "      <th>0</th>\n",
       "      <td>2015-01-01</td>\n",
       "      <td>6.712092</td>\n",
       "      <td>0.770170</td>\n",
       "      <td>19.953767</td>\n",
       "      <td>0.741046</td>\n",
       "      <td>10.002754</td>\n",
       "      <td>1.062355</td>\n",
       "      <td>0.626259</td>\n",
       "      <td>0.611210</td>\n",
       "      <td>0.660329</td>\n",
       "      <td>...</td>\n",
       "      <td>0.765539</td>\n",
       "      <td>4.560687</td>\n",
       "      <td>1.066599</td>\n",
       "      <td>0.125718</td>\n",
       "      <td>0.982587</td>\n",
       "      <td>1.039696</td>\n",
       "      <td>0.830841</td>\n",
       "      <td>1.157356</td>\n",
       "      <td>0.603746</td>\n",
       "      <td>0.055821</td>\n",
       "    </tr>\n",
       "    <tr>\n",
       "      <th>1</th>\n",
       "      <td>2015-01-02</td>\n",
       "      <td>0.659426</td>\n",
       "      <td>0.987208</td>\n",
       "      <td>6.227930</td>\n",
       "      <td>10.866187</td>\n",
       "      <td>0.778109</td>\n",
       "      <td>2.593659</td>\n",
       "      <td>0.771491</td>\n",
       "      <td>0.616043</td>\n",
       "      <td>1.021859</td>\n",
       "      <td>...</td>\n",
       "      <td>1.304217</td>\n",
       "      <td>0.949992</td>\n",
       "      <td>0.971699</td>\n",
       "      <td>2.016794</td>\n",
       "      <td>1.110325</td>\n",
       "      <td>4.090787</td>\n",
       "      <td>6.953599</td>\n",
       "      <td>1.590320</td>\n",
       "      <td>1.809764</td>\n",
       "      <td>0.252726</td>\n",
       "    </tr>\n",
       "    <tr>\n",
       "      <th>2</th>\n",
       "      <td>2015-01-03</td>\n",
       "      <td>1.756232</td>\n",
       "      <td>0.586522</td>\n",
       "      <td>2.243870</td>\n",
       "      <td>0.677221</td>\n",
       "      <td>0.918561</td>\n",
       "      <td>6.278301</td>\n",
       "      <td>2.366694</td>\n",
       "      <td>3.317812</td>\n",
       "      <td>1.975895</td>\n",
       "      <td>...</td>\n",
       "      <td>324.388923</td>\n",
       "      <td>1.248914</td>\n",
       "      <td>2.168897</td>\n",
       "      <td>1.004607</td>\n",
       "      <td>0.873521</td>\n",
       "      <td>1.327897</td>\n",
       "      <td>3.244994</td>\n",
       "      <td>0.597995</td>\n",
       "      <td>0.736725</td>\n",
       "      <td>0.160509</td>\n",
       "    </tr>\n",
       "    <tr>\n",
       "      <th>3</th>\n",
       "      <td>2015-01-04</td>\n",
       "      <td>0.672174</td>\n",
       "      <td>1.220065</td>\n",
       "      <td>0.970632</td>\n",
       "      <td>0.737746</td>\n",
       "      <td>4.216869</td>\n",
       "      <td>17.308020</td>\n",
       "      <td>1.922570</td>\n",
       "      <td>1.850479</td>\n",
       "      <td>0.873370</td>\n",
       "      <td>...</td>\n",
       "      <td>5.303597</td>\n",
       "      <td>2.677980</td>\n",
       "      <td>1.483952</td>\n",
       "      <td>3.921563</td>\n",
       "      <td>1.167316</td>\n",
       "      <td>1.012529</td>\n",
       "      <td>3.070078</td>\n",
       "      <td>0.584672</td>\n",
       "      <td>0.849864</td>\n",
       "      <td>1.433323</td>\n",
       "    </tr>\n",
       "  </tbody>\n",
       "</table>\n",
       "<p>4 rows × 114959 columns</p>\n",
       "</div>"
      ],
      "text/plain": [
       "        date     76127     76147      76170      76172      76181      76182  \\\n",
       "0 2015-01-01  6.712092  0.770170  19.953767   0.741046  10.002754   1.062355   \n",
       "1 2015-01-02  0.659426  0.987208   6.227930  10.866187   0.778109   2.593659   \n",
       "2 2015-01-03  1.756232  0.586522   2.243870   0.677221   0.918561   6.278301   \n",
       "3 2015-01-04  0.672174  1.220065   0.970632   0.737746   4.216869  17.308020   \n",
       "\n",
       "      76196     76204     76212  ...       65320     65360      2373  \\\n",
       "0  0.626259  0.611210  0.660329  ...    0.765539  4.560687  1.066599   \n",
       "1  0.771491  0.616043  1.021859  ...    1.304217  0.949992  0.971699   \n",
       "2  2.366694  3.317812  1.975895  ...  324.388923  1.248914  2.168897   \n",
       "3  1.922570  1.850479  0.873370  ...    5.303597  2.677980  1.483952   \n",
       "\n",
       "      18844      1914     57964     64080     64150     65633     18843  \n",
       "0  0.125718  0.982587  1.039696  0.830841  1.157356  0.603746  0.055821  \n",
       "1  2.016794  1.110325  4.090787  6.953599  1.590320  1.809764  0.252726  \n",
       "2  1.004607  0.873521  1.327897  3.244994  0.597995  0.736725  0.160509  \n",
       "3  3.921563  1.167316  1.012529  3.070078  0.584672  0.849864  1.433323  \n",
       "\n",
       "[4 rows x 114959 columns]"
      ]
     },
     "execution_count": 30,
     "metadata": {},
     "output_type": "execute_result"
    }
   ],
   "source": [
    "radadj_solf_df.head()"
   ]
  },
  {
   "cell_type": "code",
   "execution_count": 35,
   "metadata": {},
   "outputs": [
    {
     "name": "stdout",
     "output_type": "stream",
     "text": [
      "[0.2   0.35  0.45  0.51  0.56  0.59  0.62  0.64  0.655 0.67  0.682 0.69\n",
      " 0.7   0.71  0.715 0.72  0.722 0.724 0.726 0.728 0.73  0.734 0.738 0.742\n",
      " 0.746 0.75 ]\n",
      "<class 'numpy.ndarray'>\n",
      "13.0\n"
     ]
    }
   ],
   "source": [
    "solf_pts = np.array([.20, .35, .45, .51, .56, .59, .62, .64, .655, .67, .682, .69, .70, .71, .715, .72, .722, .724, .726,\n",
    "      .728, .73, .734, .738, .742, .746, .75])\n",
    "print(solf_pts)\n",
    "dday_pts = np.array([1.0, 2.0, 3.0, 4.0, 5.0, 6.0, 7.0, 8.0, 9.0, 10.0, 11.0, 12.0, 13.0, 14.0, 15.0, 16.0, 17.0,\n",
    "                     18.0, 19.0, 20.0, 21.0, 22.0, 23.0, 24.0, 25.0, 26.0])\n",
    "print(type(solf_pts))\n",
    "f2 = interp1d(solf_pts, dday_pts, kind='cubic')\n",
    "\n",
    "print(f2(0.7))"
   ]
  },
  {
   "cell_type": "code",
   "execution_count": 53,
   "metadata": {},
   "outputs": [
    {
     "data": {
      "image/png": "[encoded data removed]",
      "text/plain": [
       "<Figure size 432x288 with 1 Axes>"
      ]
     },
     "metadata": {
      "needs_background": "light"
     },
     "output_type": "display_data"
    }
   ],
   "source": [
    "xnew = np.linspace(0.201, 0.749, num=41, endpoint=False)\n",
    "\n",
    "#for ii in range(len(xnew)):\n",
    "#    print(xnew[ii])\n",
    "#    print(xnew[ii], f2(xnew[ii]))\n",
    "\n",
    "plt.plot(xnew,f2(xnew))\n",
    "plt.show()"
   ]
  },
  {
   "cell_type": "code",
   "execution_count": 55,
   "metadata": {},
   "outputs": [
    {
     "name": "stdout",
     "output_type": "stream",
     "text": [
      "2015-01-01 00:00:00 1\n",
      "2015-01-02 00:00:00 2\n",
      "2015-01-03 00:00:00 3\n",
      "2015-01-04 00:00:00 4\n"
     ]
    }
   ],
   "source": [
    "dday = np.zeros(radadj_solf.shape)\n",
    "\n",
    "ii = 0\n",
    "for date in pptadj_df[\"date\"]:\n",
    "    jday = date.dayofyear\n",
    "    print(date, jday)\n",
    "    \n",
    "    for ihru in range(nhru):\n",
    "        if radadj_solf[ii, ihru] < 0.2:\n",
    "            dday[ii,ihru] = 1.0\n",
    "        elif radadj_solf[ii, ihru] > 0.75:\n",
    "            dday[ii,ihru] = 26.0\n",
    "        else:\n",
    "            dday[ii,ihru] = f2(radadj_solf[ii,ihru])\n",
    "    \n",
    "    ii += 1"
   ]
  },
  {
   "cell_type": "code",
   "execution_count": 56,
   "metadata": {},
   "outputs": [
    {
     "name": "stdout",
     "output_type": "stream",
     "text": [
      "[[26.         26.         26.         ... 26.          6.432625\n",
      "   1.        ]\n",
      " [ 9.29637079 26.         26.         ... 26.         26.\n",
      "   1.42796125]\n",
      " [26.          5.88438019 26.         ...  6.25319786 22.66170694\n",
      "   1.        ]\n",
      " [10.14932288 26.         26.         ...  5.821564   26.\n",
      "  26.        ]]\n"
     ]
    }
   ],
   "source": [
    "print(dday)"
   ]
  },
  {
   "cell_type": "code",
   "execution_count": 57,
   "metadata": {},
   "outputs": [
    {
     "name": "stdout",
     "output_type": "stream",
     "text": [
      "2015-01-01 00:00:00 1 1\n",
      "2015-01-02 00:00:00 2 1\n",
      "2015-01-03 00:00:00 3 1\n",
      "2015-01-04 00:00:00 4 1\n"
     ]
    }
   ],
   "source": [
    "# dday = Dday_slope(j, Nowmonth)*Tmax_hru(j) + Dday_intcp(j, Nowmonth) + 1.0\n",
    "# dday_slope(ihru,imon) = (dday(iday,ihru) - dday_intcp(ihru,imon) - 1.0) / tmax_hru(iday,ihru)\n",
    "\n",
    "ii = 0\n",
    "for date in pptadj_df[\"date\"]:\n",
    "    jday = date.dayofyear\n",
    "    imon = date.month - 1\n",
    "    print(date, jday, imon)\n",
    "    \n",
    "    for ihru in range(nhru):\n",
    "        dday_slope_daily[ihru,ii] = (dday[ii,ihru] - dday_intcp[ihru,imon] - 1.0) / tmax_hru[ii,ihru]"
   ]
  },
  {
   "cell_type": "code",
   "execution_count": null,
   "metadata": {},
   "outputs": [],
   "source": [
    "for date in pptadj_df[\"date\"]:\n",
    "    jday = date.dayofyear\n",
    "    imon = date.month\n",
    "    print(date, jday, imon)\n",
    "    \n",
    "    for ihru in range(nhru):\n",
    "        dday_slope[ihru,imon] += dday_slope_daily[ihru,ii]\n",
    "        count[imon] += 1\n",
    "        \n",
    "for ihru in range(nhru):\n",
    "    for ihru in range(0,12):\n",
    "        dday_slope[ihru,imon] = dday_slope[ihru,imon] / count[imon]\n"
   ]
  }
 ],
 "metadata": {
  "kernelspec": {
   "display_name": "Python 3",
   "language": "python",
   "name": "python3"
  },
  "language_info": {
   "codemirror_mode": {
    "name": "ipython",
    "version": 3
   },
   "file_extension": ".py",
   "mimetype": "text/x-python",
   "name": "python",
   "nbconvert_exporter": "python",
   "pygments_lexer": "ipython3",
   "version": "3.8.1"
  }
 },
 "nbformat": 4,
 "nbformat_minor": 2
}
