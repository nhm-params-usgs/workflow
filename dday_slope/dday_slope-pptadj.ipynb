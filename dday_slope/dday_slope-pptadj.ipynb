{
 "cells": [
  {
   "cell_type": "code",
   "execution_count": 1,
   "metadata": {},
   "outputs": [],
   "source": [
    "import numpy as np\n",
    "import pandas as pd\n",
    "#import fiona \n",
    "import geopandas as gpd\n",
    "#import math\n",
    "#from netCDF4 import Dataset\n",
    "import xarray as xa\n",
    "import matplotlib.pyplot as plt\n",
    "%matplotlib inline\n",
    "from matplotlib import cm\n",
    "from matplotlib.colors import ListedColormap, LinearSegmentedColormap"
   ]
  },
  {
   "cell_type": "code",
   "execution_count": 2,
   "metadata": {},
   "outputs": [],
   "source": [
    "# File written by dday_slope-radadj.ipynb\n",
    "path = 'c:/Users/markstro/work1.1/weather/'\n",
    "gdb_path = 'c:/Users/markstro/work1.1/GIS/GFv1.1_v2e.gdb'\n",
    "\n",
    "#fns = [(\"2011\", \"2011_gm_climate_2020_03_02.nc\"), (\"2012\", \"2012_gm_climate_2020_03_03.nc\"),\n",
    "#       (\"2013\", \"2013_gm_climate_2020_03_05.nc\"), (\"2014\", \"2014_gm_climate_2020_03_06.nc\"),\n",
    "#       (\"2015\", \"2015_gm_climate_2020_03_08.nc\"), (\"2016\", \"2016_gm_climate_2020_03_09.nc\"),\n",
    "#       (\"2017\", \"2017_gm_climate_2020_03_10.nc\"), (\"2018\", \"2018_gm_climate_2020_03_12.nc\")]\n",
    "\n",
    "fns = [(\"2012\", \"2012_gm_climate_2020_03_03.nc\")]\n",
    "\n",
    "param_path = \"c:/Users/markstro/work1.1/paramdb_v1.1/paramdb_master/\""
   ]
  },
  {
   "cell_type": "code",
   "execution_count": 3,
   "metadata": {},
   "outputs": [],
   "source": [
    "prcp = xa.Dataset()\n",
    "tmax = xa.Dataset()\n",
    "time = xa.Dataset()"
   ]
  },
  {
   "cell_type": "code",
   "execution_count": 5,
   "metadata": {},
   "outputs": [],
   "source": [
    "for fn in fns:\n",
    "    yr_str = fn[0]\n",
    "    ds = xa.open_dataset(path + fn[1])\n",
    "\n",
    "    tmax[yr_str] = ds[\"tmax\"].load()\n",
    "    prcp[yr_str] = ds[\"prcp\"].load()\n",
    "    time[yr_str] = ds[\"time\"].load()"
   ]
  },
  {
   "cell_type": "code",
   "execution_count": 6,
   "metadata": {},
   "outputs": [
    {
     "name": "stdout",
     "output_type": "stream",
     "text": [
      "<xarray.DataArray '2012' (time: 366, hruid: 139807)>\n",
      "array([[ 15.05872   ,  15.006667  ,  14.772855  , ...,  -1.6914458 ,\n",
      "          0.86016136,  -2.0596802 ],\n",
      "       [ 12.877452  ,  12.806542  ,  12.6142645 , ...,   2.960755  ,\n",
      "          9.464185  , -12.147482  ],\n",
      "       [ 13.137869  ,  13.099908  ,  12.931471  , ...,   0.76221454,\n",
      "         10.1491375 ,  -7.036676  ],\n",
      "       ...,\n",
      "       [ 11.307938  ,  11.178908  ,  11.0968275 , ...,  -6.8468275 ,\n",
      "         -1.3102446 ,  -5.5982814 ],\n",
      "       [ 11.688894  ,  11.672145  ,  11.683639  , ...,  -7.709694  ,\n",
      "         -0.99512464,  -5.53213   ],\n",
      "       [ 17.374388  ,  17.434303  ,  17.19862   , ...,  -9.528326  ,\n",
      "         -2.0833645 ,  -6.5600867 ]], dtype=float32)\n",
      "Coordinates:\n",
      "  * time     (time) datetime64[ns] 2012-01-01 2012-01-02 ... 2012-12-31\n",
      "  * hruid    (hruid) int32 76128 76148 76171 76171 ... 64081 64151 65634 18844\n",
      "Attributes:\n",
      "    long_name:      Maximum daily air temperature\n",
      "    units:          degree_Celsius\n",
      "    standard_name:  maximum_daily_air_temperature\n"
     ]
    }
   ],
   "source": [
    "for fn in fns:\n",
    "    yr_str = fn[0]\n",
    "    print(tmax[yr_str])"
   ]
  },
  {
   "cell_type": "code",
   "execution_count": 7,
   "metadata": {
    "scrolled": false
   },
   "outputs": [
    {
     "name": "stdout",
     "output_type": "stream",
     "text": [
      "<xarray.DataArray '2012' (time: 366, hruid: 139807)>\n",
      "array([[ 0.        ,  0.        ,  0.        , ...,  1.483316  ,\n",
      "         0.        ,  1.4881951 ],\n",
      "       [ 0.        ,  0.        ,  0.        , ...,  0.        ,\n",
      "         0.        ,  0.        ],\n",
      "       [ 0.        ,  0.        ,  0.        , ...,  0.        ,\n",
      "         1.3511276 ,  0.        ],\n",
      "       ...,\n",
      "       [ 0.        ,  0.        ,  0.        , ...,  0.        ,\n",
      "         0.        ,  1.9200325 ],\n",
      "       [ 0.        ,  0.        ,  0.        , ...,  0.03394662,\n",
      "         0.        ,  0.30924857],\n",
      "       [10.474995  ,  9.810726  , 11.73361   , ...,  0.0238622 ,\n",
      "         0.        ,  0.        ]], dtype=float32)\n",
      "Coordinates:\n",
      "  * time     (time) datetime64[ns] 2012-01-01 2012-01-02 ... 2012-12-31\n",
      "  * hruid    (hruid) int32 76128 76148 76171 76171 ... 64081 64151 65634 18844\n",
      "Attributes:\n",
      "    long_name:      Daily precipitation rate\n",
      "    units:          mm/day\n",
      "    standard_name:  lwe_precipitation_rate\n"
     ]
    }
   ],
   "source": [
    "for fn in fns:\n",
    "    yr_str = fn[0]\n",
    "    print(prcp[yr_str])"
   ]
  },
  {
   "cell_type": "code",
   "execution_count": 8,
   "metadata": {},
   "outputs": [
    {
     "name": "stdout",
     "output_type": "stream",
     "text": [
      "<xarray.DataArray '2012' (time: 366)>\n",
      "array(['2012-01-01T00:00:00.000000000', '2012-01-02T00:00:00.000000000',\n",
      "       '2012-01-03T00:00:00.000000000', ..., '2012-12-29T00:00:00.000000000',\n",
      "       '2012-12-30T00:00:00.000000000', '2012-12-31T00:00:00.000000000'],\n",
      "      dtype='datetime64[ns]')\n",
      "Coordinates:\n",
      "  * time     (time) datetime64[ns] 2012-01-01 2012-01-02 ... 2012-12-31\n",
      "Attributes:\n",
      "    long_name:      time\n",
      "    standard_name:  time\n"
     ]
    }
   ],
   "source": [
    "for fn in fns:\n",
    "    yr_str = fn[0]\n",
    "    print(time[yr_str])"
   ]
  },
  {
   "cell_type": "code",
   "execution_count": null,
   "metadata": {},
   "outputs": [],
   "source": [
    "nhru_v11 = gpd.read_file(gdb_path, layer='nhru_v11')"
   ]
  },
  {
   "cell_type": "code",
   "execution_count": null,
   "metadata": {},
   "outputs": [],
   "source": [
    "nhru_v11_ids = nhru_v11[\"nhru_v11\"].values\n",
    "nhru = len(nhru_v11_ids)\n",
    "print(nhru)\n",
    "print(nhru_v11_ids)\n",
    "\n",
    "nmonths = 12\n",
    "print(nhru * nmonths)"
   ]
  },
  {
   "cell_type": "code",
   "execution_count": null,
   "metadata": {},
   "outputs": [],
   "source": [
    "# Read PRMS parameters\n",
    "tmax_allrain_offset_f = pd.read_csv(param_path + \"tmax_allrain_offset.csv\")\n",
    "tmax_allrain_offset = tmax_allrain_offset_f[\"tmax_allrain_offset\"].values\n",
    "\n",
    "tmax_allsnow_f = pd.read_csv(param_path + \"tmax_allsnow.csv\")\n",
    "tmax_allsnow = tmax_allsnow_f[\"tmax_allsnow\"].values\n",
    "tmax_allrain = tmax_allsnow + tmax_allrain_offset\n",
    "\n",
    "print(tmax_allrain)\n",
    "print(tmax_allrain.shape)\n",
    "\n",
    "tmax_allrain.shape = (nmonths, nhru)\n",
    "\n",
    "print(tmax_allrain.shape)\n",
    "\n",
    "# These 2D parameters are all set to constants\n",
    "ppt_rad_adj = 0.02\n",
    "tmax_index = 50.0\n",
    "radj_sppt = 0.44\n",
    "radj_wppt = 0.55\n",
    "radadj_intcp = 1.0\n",
    "radadj_slope = 0.02"
   ]
  },
  {
   "cell_type": "code",
   "execution_count": null,
   "metadata": {},
   "outputs": [],
   "source": [
    "nhru_v11.head()"
   ]
  },
  {
   "cell_type": "code",
   "execution_count": null,
   "metadata": {},
   "outputs": [],
   "source": [
    "#! Set precipitation adjument factor based on temperature\n",
    "#! and amount of precipitation\n",
    "# pptadj = 1.0\n",
    "# IF ( Hru_ppt(j)>Ppt_rad_adj(j,Nowmonth) ) THEN\n",
    "# IF ( Tmax_hru(j)<Tmax_index(j,Nowmonth) ) THEN\n",
    "#   pptadj = Radj_sppt(j)\n",
    "#   IF ( Tmax_hru(j)>=Tmax_allrain(j,Nowmonth) ) THEN\n",
    "#     IF ( Summer_flag==0 ) pptadj = Radj_wppt(j) ! Winter\n",
    "#   ELSE\n",
    "#     pptadj = Radj_wppt(j)\n",
    "#   ENDIF\n",
    "# ELSE\n",
    "#   pptadj = Radadj_intcp(j, Nowmonth) + &\n",
    "# &                 Radadj_slope(j, Nowmonth)*(Tmax_hru(j)-Tmax_index(j,Nowmonth))\n",
    "#   IF ( pptadj>1.0 ) pptadj = 1.0\n",
    "# ENDIF\n",
    "# ENDIF\n",
    "        \n",
    "for fn in fns:\n",
    "    yr_str = fn[0]\n",
    "    time_da = time[yr_str]\n",
    "    time_vals = time_da.values\n",
    "    for itime in time_vals:\n",
    "        print(itime)"
   ]
  },
  {
   "cell_type": "code",
   "execution_count": null,
   "metadata": {},
   "outputs": [],
   "source": []
  }
 ],
 "metadata": {
  "kernelspec": {
   "display_name": "Python 3",
   "language": "python",
   "name": "python3"
  },
  "language_info": {
   "codemirror_mode": {
    "name": "ipython",
    "version": 3
   },
   "file_extension": ".py",
   "mimetype": "text/x-python",
   "name": "python",
   "nbconvert_exporter": "python",
   "pygments_lexer": "ipython3",
   "version": "3.8.1"
  }
 },
 "nbformat": 4,
 "nbformat_minor": 2
}
