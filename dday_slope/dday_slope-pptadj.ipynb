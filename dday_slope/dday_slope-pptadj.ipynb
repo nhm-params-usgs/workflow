{
 "cells": [
  {
   "cell_type": "code",
   "execution_count": null,
   "metadata": {},
   "outputs": [],
   "source": [
    "import numpy as np\n",
    "import pandas as pd\n",
    "from datetime import datetime\n",
    "#import fiona \n",
    "#import geopandas as gpd\n",
    "#import math\n",
    "#from netCDF4 import Dataset\n",
    "#import xarray as xa\n",
    "import matplotlib.pyplot as plt\n",
    "%matplotlib inline\n",
    "#from matplotlib import cm\n",
    "#from matplotlib.colors import ListedColormap, LinearSegmentedColormap"
   ]
  },
  {
   "cell_type": "code",
   "execution_count": null,
   "metadata": {},
   "outputs": [],
   "source": [
    "tmax_path = 'c:/Users/markstro/work1.1/cbh_gridmet/tmax.cbh'\n",
    "prcp_path = 'c:/Users/markstro/work1.1/cbh_gridmet/prcp.cbh'\n",
    "gdb_path = 'c:/Users/markstro/work1.1/GIS/GFv1.1_v2e.gdb'\n",
    "\n",
    "#fns = [(\"2011\", \"2011_gm_climate_2020_03_02.nc\"), (\"2012\", \"2012_gm_climate_2020_03_03.nc\"),\n",
    "#       (\"2013\", \"2013_gm_climate_2020_03_05.nc\"), (\"2014\", \"2014_gm_climate_2020_03_06.nc\"),\n",
    "#       (\"2015\", \"2015_gm_climate_2020_03_08.nc\"), (\"2016\", \"2016_gm_climate_2020_03_09.nc\"),\n",
    "#       (\"2017\", \"2017_gm_climate_2020_03_10.nc\"), (\"2018\", \"2018_gm_climate_2020_03_12.nc\")]\n",
    "\n",
    "param_path = \"c:/Users/markstro/work1.1/paramdb_v1.1/paramdb_master/\""
   ]
  },
  {
   "cell_type": "code",
   "execution_count": null,
   "metadata": {},
   "outputs": [],
   "source": [
    "# Read the cbh file\n",
    "def read_cbh(cbh_fn):\n",
    "#    foo = np.loadtxt(cbh_fn, delimiter=' ', skiprows=3,)\n",
    "    foo = np.loadtxt(cbh_fn, skiprows=3,)\n",
    "\n",
    "    dates = foo[:,0:6].astype('int')\n",
    "    vals = foo[:,6:foo.shape[1]]\n",
    "    \n",
    "    return dates, vals"
   ]
  },
  {
   "cell_type": "code",
   "execution_count": null,
   "metadata": {},
   "outputs": [],
   "source": [
    "# Temperature is in C\n",
    "dates, tmax = read_cbh(tmax_path)"
   ]
  },
  {
   "cell_type": "code",
   "execution_count": null,
   "metadata": {},
   "outputs": [],
   "source": [
    "print(tmax.shape)\n",
    "tmax_f = tmax * 1.8 +32\n",
    "print(tmax_f.shape)"
   ]
  },
  {
   "cell_type": "code",
   "execution_count": null,
   "metadata": {},
   "outputs": [],
   "source": [
    "print(dates)\n",
    "print(tmax)\n",
    "print(tmax.shape)\n",
    "print(min(tmax.flatten()),max(tmax.flatten()))\n",
    "print(min(tmax_f.flatten()),max(tmax_f.flatten()))"
   ]
  },
  {
   "cell_type": "code",
   "execution_count": null,
   "metadata": {},
   "outputs": [],
   "source": [
    "# prcp is in mm/day\n",
    "dates, prcp = read_cbh(prcp_path)"
   ]
  },
  {
   "cell_type": "code",
   "execution_count": null,
   "metadata": {},
   "outputs": [],
   "source": [
    "print(dates)\n",
    "print(prcp)\n",
    "print(prcp.shape)\n",
    "\n",
    "ndays = prcp.shape[0]\n",
    "nhru = prcp.shape[1]\n",
    "\n",
    "print(\"ndays = \", ndays)\n",
    "print(\"nhru = \", nhru)"
   ]
  },
  {
   "cell_type": "code",
   "execution_count": null,
   "metadata": {},
   "outputs": [],
   "source": [
    "prcp_in = prcp / 25.4"
   ]
  },
  {
   "cell_type": "code",
   "execution_count": null,
   "metadata": {},
   "outputs": [],
   "source": [
    "foo = prcp_in.flatten()\n",
    "print(min(foo), max(foo))\n"
   ]
  },
  {
   "cell_type": "code",
   "execution_count": null,
   "metadata": {},
   "outputs": [],
   "source": [
    "foo = foo[foo > 0.01]\n",
    "foo = foo[foo < 5]\n",
    "print(min(foo), max(foo))\n",
    "plt.hist(foo, )\n",
    "plt.show()"
   ]
  },
  {
   "cell_type": "code",
   "execution_count": null,
   "metadata": {},
   "outputs": [],
   "source": [
    "#nhru_v11 = gpd.read_file(gdb_path, layer='nhru_v11')"
   ]
  },
  {
   "cell_type": "code",
   "execution_count": null,
   "metadata": {},
   "outputs": [],
   "source": [
    "#nhru_v11_ids = nhru_v11[\"nhru_v11\"].values\n",
    "#nhru = len(nhru_v11_ids)\n",
    "#print(nhru)\n",
    "#print(nhru_v11_ids)\n",
    "\n",
    "#nmonths = 12\n",
    "#print(nhru * nmonths)"
   ]
  },
  {
   "cell_type": "code",
   "execution_count": null,
   "metadata": {},
   "outputs": [],
   "source": [
    "nmonths = 12"
   ]
  },
  {
   "cell_type": "code",
   "execution_count": null,
   "metadata": {},
   "outputs": [],
   "source": [
    "# Read PRMS parameters\n",
    "tmax_allrain_offset_f = pd.read_csv(param_path + \"tmax_allrain_offset.csv\")\n",
    "tmax_allrain_offset = tmax_allrain_offset_f[\"tmax_allrain_offset\"].values\n",
    "\n",
    "tmax_allsnow_f = pd.read_csv(param_path + \"tmax_allsnow.csv\")\n",
    "tmax_allsnow = tmax_allsnow_f[\"tmax_allsnow\"].values\n",
    "tmax_allrain = tmax_allsnow + tmax_allrain_offset\n",
    "\n",
    "print(tmax_allrain)\n",
    "print(tmax_allrain.shape)\n",
    "\n",
    "tmax_allrain.shape = (nmonths, nhru)\n",
    "\n",
    "print(tmax_allrain.shape)\n",
    "\n",
    "# These 2D parameters are all set to constants\n",
    "ppt_rad_adj = 0.02\n",
    "tmax_index = 50.0\n",
    "radj_sppt = 0.44\n",
    "radj_wppt = 0.55\n",
    "radadj_intcp = 1.0\n",
    "radadj_slope = 0.02"
   ]
  },
  {
   "cell_type": "code",
   "execution_count": null,
   "metadata": {},
   "outputs": [],
   "source": [
    "#nhru_v11.head()"
   ]
  },
  {
   "cell_type": "code",
   "execution_count": null,
   "metadata": {},
   "outputs": [],
   "source": [
    "#! Set precipitation adjument factor based on temperature\n",
    "#! and amount of precipitation\n",
    "# pptadj = 1.0\n",
    "# IF ( Hru_ppt(j)>Ppt_rad_adj(j,Nowmonth) ) THEN\n",
    "# IF ( Tmax_hru(j)<Tmax_index(j,Nowmonth) ) THEN\n",
    "#   pptadj = Radj_sppt(j)\n",
    "#   IF ( Tmax_hru(j)>=Tmax_allrain(j,Nowmonth) ) THEN\n",
    "#     IF ( Summer_flag==0 ) pptadj = Radj_wppt(j) ! Winter\n",
    "#   ELSE\n",
    "#     pptadj = Radj_wppt(j)\n",
    "#   ENDIF\n",
    "# ELSE\n",
    "#   pptadj = Radadj_intcp(j, Nowmonth) + &\n",
    "# &                 Radadj_slope(j, Nowmonth)*(Tmax_hru(j)-Tmax_index(j,Nowmonth))\n",
    "#   IF ( pptadj>1.0 ) pptadj = 1.0\n",
    "# ENDIF\n",
    "# ENDIF\n",
    "\n",
    "pptadj = np.zeros(ndays*nhru)\n",
    "pptadj.shape = (ndays,nhru)\n",
    "\n",
    "for iday in range(ndays):\n",
    "    yr = dates[iday,0]\n",
    "    mo = dates[iday,1]\n",
    "    day = dates[iday,2]\n",
    "    date = datetime(yr,mo,day)\n",
    "    jday = date.timetuple().tm_yday\n",
    "    imon = date.month - 1\n",
    "    summer_flag = True\n",
    "    if jday < 79 or jday > 265:\n",
    "        summer_flag = False\n",
    "#    print(iday, yr, mo, day, date, jday, imon, summer_flag)\n",
    "    \n",
    "    for ihru in range(nhru):\n",
    "        pptadj[iday,ihru] = 1.0\n",
    "#        print(prcp_in[iday,ihru], ppt_rad_adj)\n",
    "        if prcp_in[iday,ihru] > ppt_rad_adj:\n",
    "#            print(tmax[iday,ihru], tmax_index)\n",
    "            if tmax_f[iday,ihru] < tmax_index:\n",
    "                pptadj[iday,ihru] = radj_sppt\n",
    "                if tmax_f[iday,ihru] >= tmax_allrain[imon,jday]:\n",
    "                    if not summer_flag:\n",
    "                        pptadj[iday,ihru] = radj_wppt\n",
    "                else:\n",
    "                    pptadj[iday,ihru] = radj_wppt\n",
    "            else:\n",
    "                pptadj[iday,ihru] = radadj_intcp + radadj_slope * (tmax_f[iday,ihru] - tmax_index)\n",
    "#                print(pptadj[iday,ihru])\n",
    "                if pptadj[iday,ihru] > 1.0:\n",
    "                    pptadj[iday,ihru] = 1.0"
   ]
  },
  {
   "cell_type": "code",
   "execution_count": null,
   "metadata": {},
   "outputs": [],
   "source": [
    "foo = pptadj.flatten()"
   ]
  },
  {
   "cell_type": "code",
   "execution_count": null,
   "metadata": {},
   "outputs": [],
   "source": [
    "print(foo.shape)\n",
    "print(min(foo), max(foo))"
   ]
  },
  {
   "cell_type": "code",
   "execution_count": null,
   "metadata": {},
   "outputs": [],
   "source": []
  }
 ],
 "metadata": {
  "kernelspec": {
   "display_name": "Python 3",
   "language": "python",
   "name": "python3"
  },
  "language_info": {
   "codemirror_mode": {
    "name": "ipython",
    "version": 3
   },
   "file_extension": ".py",
   "mimetype": "text/x-python",
   "name": "python",
   "nbconvert_exporter": "python",
   "pygments_lexer": "ipython3",
   "version": "3.8.2"
  }
 },
 "nbformat": 4,
 "nbformat_minor": 2
}
