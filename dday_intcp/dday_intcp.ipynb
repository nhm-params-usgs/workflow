{
 "cells": [
  {
   "cell_type": "markdown",
   "metadata": {},
   "source": [
    "markstro\n",
    "3/26/2020\n",
    "\n",
    "This notebook is for estimating the parameter \"dday_intcp\" for GF v1.1\n",
    "\n",
    "Set the dday_intcp parameter according to values in http://pubs.usgs.gov/tm/06/b09/tm6b9.pdf page 30\n",
    "\n",
    "Jan = -10\n",
    "Feb = -11\n",
    "Mar = -13\n",
    "Apr = -16\n",
    "May = -20\n",
    "Jun = -25\n",
    "Jul = -30\n",
    "Aug = -25\n",
    "Sep = -20\n",
    "Oct = -16\n",
    "Nov = -13\n",
    "Dec = -11\n",
    "\n",
    "Units are degrees Fahrenheit-days. Use these for all HRUs.\n",
    "\n",
    "Even though the parameters are the same for all HRUs and only vary by month, dimension it by nhmu,nmonths"
   ]
  },
  {
   "cell_type": "code",
   "execution_count": null,
   "metadata": {},
   "outputs": [],
   "source": [
    "import numpy as np\n",
    "#import pandas as pd\n",
    "import fiona \n",
    "import geopandas as gpd\n",
    "#import matplotlib.pyplot as plt\n",
    "#%matplotlib inline\n",
    "#from matplotlib import cm\n",
    "#from matplotlib.colors import ListedColormap, LinearSegmentedColormap"
   ]
  },
  {
   "cell_type": "code",
   "execution_count": null,
   "metadata": {},
   "outputs": [],
   "source": [
    "gdb_path = 'c:/Users/markstro/work1.1/GIS/GFv1.1_v2e.gdb'\n",
    "csv_path = 'c:/Users/markstro/work1.1/paramdb_v1.1/paramdb/dday_intcp.csv'"
   ]
  },
  {
   "cell_type": "markdown",
   "metadata": {},
   "source": [
    "Next blocks get the number of HRUs from the GDB"
   ]
  },
  {
   "cell_type": "code",
   "execution_count": null,
   "metadata": {},
   "outputs": [],
   "source": [
    "# Get all the layers from the .gdb file \n",
    "layers = fiona.listlayers(gdb_path)\n",
    "print(layers)"
   ]
  },
  {
   "cell_type": "code",
   "execution_count": null,
   "metadata": {},
   "outputs": [],
   "source": [
    "gdf = gpd.read_file(gdb_path,layer='nhru_v11')"
   ]
  },
  {
   "cell_type": "code",
   "execution_count": null,
   "metadata": {},
   "outputs": [],
   "source": [
    "gdf.head()"
   ]
  },
  {
   "cell_type": "code",
   "execution_count": null,
   "metadata": {},
   "outputs": [],
   "source": [
    "gdf.tail()"
   ]
  },
  {
   "cell_type": "code",
   "execution_count": null,
   "metadata": {},
   "outputs": [],
   "source": [
    "# compare the attributes \"nhm_id\" and \"hru_id_nat\"\n",
    "\n",
    "\n",
    "nhru_v11 = gdf[\"nhru_v11\"].values\n",
    "print(nhru_v11)\n",
    "print(len(nhru_v11))\n",
    "print(min(nhru_v11))\n",
    "print(max(nhru_v11))\n",
    "\n",
    "# Make sure they are all there\n",
    "zeros = np.zeros(len(nhru_v11), dtype=np.int)\n",
    "for ii in range(len(nhru_v11)):\n",
    "    zeros[nhru_v11[ii]-1] = 1\n",
    "    \n",
    "for ii in range(len(nhru_v11)):\n",
    "    if zeros[ii] == 0:\n",
    "        print(\"hru not found \" + str(ii+1))\n",
    "\n",
    "#nhm_id = gdf[\"nhm_id\"].values\n",
    "#print(nhm_id)\n",
    "#print(len(nhm_id))\n",
    "#print(min(nhm_id))\n",
    "#print(max(nhm_id))\n",
    "\n",
    "#hru_id_nat = gdf[\"hru_id_nat\"].values\n",
    "#print(hru_id_nat)\n",
    "#print(min(hru_id_nat))\n",
    "#print(max(hru_id_nat))\n",
    "\n",
    "nhru = max(nhru_v11)\n",
    "print(\"nhru = \", nhru)"
   ]
  },
  {
   "cell_type": "code",
   "execution_count": null,
   "metadata": {},
   "outputs": [],
   "source": [
    "#Jan = -10 Feb = -11 Mar = -13 Apr = -16 May = -20 Jun = -25 Jul = -30 Aug = -25 Sep = -20 Oct = -16 Nov = -13 Dec = -11\n",
    "intercept_by_month = [\"-10.0\\n\", \"-11.0\\n\", \"-13.0\\n\", \"-16.0\\n\", \"-20.0\\n\", \"-25.0\\n\", \"-30.0\\n\",\n",
    "                      \"-25.0\\n\", \"-20.0\\n\", \"-16.0\\n\", \"-13.0\\n\", \"-11.0\\n\"]\n",
    "print(len(intercept_by_month))\n",
    "print(intercept_by_month)\n",
    "\n",
    "nmonths = len(intercept_by_month)"
   ]
  },
  {
   "cell_type": "code",
   "execution_count": null,
   "metadata": {},
   "outputs": [],
   "source": [
    "f = open(csv_path, \"w\")"
   ]
  },
  {
   "cell_type": "code",
   "execution_count": null,
   "metadata": {},
   "outputs": [],
   "source": [
    "f.write(\"$id,dday_intcp\\n\")"
   ]
  },
  {
   "cell_type": "code",
   "execution_count": null,
   "metadata": {},
   "outputs": [],
   "source": [
    "kk = 1\n",
    "for ii in range(nmonths):\n",
    "    for jj in range(nhru):\n",
    "        f.write(str(kk) + \",\" + intercept_by_month[ii])\n",
    "        kk = kk + 1"
   ]
  },
  {
   "cell_type": "code",
   "execution_count": null,
   "metadata": {},
   "outputs": [],
   "source": [
    "f.close()"
   ]
  },
  {
   "cell_type": "code",
   "execution_count": null,
   "metadata": {},
   "outputs": [],
   "source": []
  }
 ],
 "metadata": {
  "kernelspec": {
   "display_name": "Python 3",
   "language": "python",
   "name": "python3"
  },
  "language_info": {
   "codemirror_mode": {
    "name": "ipython",
    "version": 3
   },
   "file_extension": ".py",
   "mimetype": "text/x-python",
   "name": "python",
   "nbconvert_exporter": "python",
   "pygments_lexer": "ipython3",
   "version": "3.8.1"
  }
 },
 "nbformat": 4,
 "nbformat_minor": 2
}
