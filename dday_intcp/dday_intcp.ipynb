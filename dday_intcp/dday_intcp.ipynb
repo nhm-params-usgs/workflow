{
 "cells": [
  {
   "cell_type": "markdown",
   "metadata": {},
   "source": [
    "markstro\n",
    "3/26/2020\n",
    "\n",
    "This notebook is for estimating the parameter \"dday_intcp\" for GF v1.1\n",
    "\n",
    "Set the dday_intcp parameter according to values in http://pubs.usgs.gov/tm/06/b09/tm6b9.pdf page 30\n",
    "\n",
    "Jan = -10\n",
    "Feb = -11\n",
    "Mar = -13\n",
    "Apr = -16\n",
    "May = -20\n",
    "Jun = -25\n",
    "Jul = -30\n",
    "Aug = -25\n",
    "Sep = -20\n",
    "Oct = -16\n",
    "Nov = -13\n",
    "Dec = -11\n",
    "\n",
    "Units are degrees Fahrenheit-days. Use these for all HRUs.\n",
    "\n",
    "Even though the parameters are the same for all HRUs and only vary by month, dimension it by nhmu,nmonths"
   ]
  },
  {
   "cell_type": "code",
   "execution_count": null,
   "metadata": {},
   "outputs": [],
   "source": []
  },
  {
   "cell_type": "markdown",
   "metadata": {},
   "source": [
    "Get daily timeseries of precip days - 1 is yes, 0 is no."
   ]
  },
  {
   "cell_type": "code",
   "execution_count": 1,
   "metadata": {},
   "outputs": [],
   "source": [
    "import sys\n",
    "\n",
    "python_module_path = \"/work/markstro/operat/repos/onhm-runners/\""
   ]
  },
  {
   "cell_type": "code",
   "execution_count": 3,
   "metadata": {},
   "outputs": [
    {
     "ename": "NameError",
     "evalue": "name 'csv_reader' is not defined",
     "output_type": "error",
     "traceback": [
      "\u001b[0;31m---------------------------------------------------------------------------\u001b[0m",
      "\u001b[0;31mNameError\u001b[0m                                 Traceback (most recent call last)",
      "\u001b[0;32m<ipython-input-3-18b77976b677>\u001b[0m in \u001b[0;36m<module>\u001b[0;34m\u001b[0m\n\u001b[1;32m      4\u001b[0m \u001b[0;31m# For each HRU, for each day, determine if it is a precip day.\u001b[0m\u001b[0;34m\u001b[0m\u001b[0;34m\u001b[0m\u001b[0;34m\u001b[0m\u001b[0m\n\u001b[1;32m      5\u001b[0m \u001b[0mfn\u001b[0m \u001b[0;34m=\u001b[0m \u001b[0;34m'/work/markstro/alaska/forcings/CFSR_P_mm_daily_geospatial_fabric_v1.csv'\u001b[0m\u001b[0;34m\u001b[0m\u001b[0;34m\u001b[0m\u001b[0m\n\u001b[0;32m----> 6\u001b[0;31m \u001b[0mnts\u001b[0m\u001b[0;34m,\u001b[0m \u001b[0mnfeat\u001b[0m\u001b[0;34m,\u001b[0m \u001b[0mbase_date\u001b[0m\u001b[0;34m,\u001b[0m \u001b[0mend_date\u001b[0m\u001b[0;34m,\u001b[0m \u001b[0mprcp\u001b[0m \u001b[0;34m=\u001b[0m \u001b[0mcsv_reader\u001b[0m\u001b[0;34m.\u001b[0m\u001b[0mread_output\u001b[0m\u001b[0;34m(\u001b[0m\u001b[0mfn\u001b[0m\u001b[0;34m)\u001b[0m\u001b[0;34m\u001b[0m\u001b[0;34m\u001b[0m\u001b[0m\n\u001b[0m\u001b[1;32m      7\u001b[0m \u001b[0;31m# print(nts, nfeat, base_date, end_date, prcp)\u001b[0m\u001b[0;34m\u001b[0m\u001b[0;34m\u001b[0m\u001b[0;34m\u001b[0m\u001b[0m\n\u001b[1;32m      8\u001b[0m \u001b[0;34m\u001b[0m\u001b[0m\n",
      "\u001b[0;31mNameError\u001b[0m: name 'csv_reader' is not defined"
     ]
    }
   ],
   "source": [
    "if python_module_path not in sys.path:\n",
    "    sys.path.append(python_module_path)\n",
    "    \n",
    "# For each HRU, for each day, determine if it is a precip day.\n",
    "%run '/work/markstro/operat/repos/onhm-runners/prms_utils/csv_reader.py' '/work/markstro/operat/setup/test/NHM-PRMS_CONUS/'\n",
    "\n",
    "# fn = '/work/markstro/alaska/forcings/CFSR_P_mm_daily_geospatial_fabric_v1.csv'\n",
    "# nts, nfeat, base_date, end_date, prcp = csv_reader.read_output(fn)\n",
    "# print(nts, nfeat, base_date, end_date, prcp)\n",
    "\n",
    "# prcp_day = np.zeros(shape=prcp.shape, dtype=bool)\n",
    "# for ii in range(nts):\n",
    "#     for jj in range(nfeat):\n",
    "#         if prcp[ii,jj] > ppt_rad_adj:\n",
    "#             prcp_day[ii,jj] = True\n",
    "#         else:\n",
    "#             prcp_day[ii,jj] = False\n",
    "\n",
    "# print(prcp_day)"
   ]
  },
  {
   "cell_type": "markdown",
   "metadata": {},
   "source": [
    "Compute monthly mean target swrad for each HRU for each month."
   ]
  },
  {
   "cell_type": "markdown",
   "metadata": {},
   "source": [
    "Compute monthly mean clear sky swrad for each HRU for each month"
   ]
  },
  {
   "cell_type": "markdown",
   "metadata": {},
   "source": [
    "Compute solf for each HRU for each dry day"
   ]
  },
  {
   "cell_type": "markdown",
   "metadata": {},
   "source": [
    "Compute dday for each HRU for each dry day"
   ]
  },
  {
   "cell_type": "markdown",
   "metadata": {},
   "source": [
    "Regression between daily temperature and dday for each HRU for each month on dry days"
   ]
  }
 ],
 "metadata": {
  "kernelspec": {
   "display_name": "Python 3",
   "language": "python",
   "name": "python3"
  },
  "language_info": {
   "codemirror_mode": {
    "name": "ipython",
    "version": 3
   },
   "file_extension": ".py",
   "mimetype": "text/x-python",
   "name": "python",
   "nbconvert_exporter": "python",
   "pygments_lexer": "ipython3",
   "version": "3.8.1"
  }
 },
 "nbformat": 4,
 "nbformat_minor": 2
}
