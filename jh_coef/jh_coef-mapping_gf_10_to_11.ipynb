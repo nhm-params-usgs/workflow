{
 "cells": [
  {
   "cell_type": "code",
   "execution_count": null,
   "metadata": {},
   "outputs": [],
   "source": [
    "import numpy as np\n",
    "import pandas as pd\n",
    "#import fiona \n",
    "#import math\n",
    "#import xarray as xa\n",
    "import matplotlib.pyplot as plt\n",
    "%matplotlib inline\n",
    "from matplotlib import cm\n",
    "from matplotlib.colors import ListedColormap, LinearSegmentedColormap\n",
    "#import datetime\n",
    "#import random\n",
    "#from scipy.interpolate import interp1d\n",
    "import geopandas as gpd\n",
    "from scipy.spatial import cKDTree\n",
    "from shapely.geometry import Point"
   ]
  },
  {
   "cell_type": "code",
   "execution_count": null,
   "metadata": {},
   "outputs": [],
   "source": [
    "hrus_v10_cent_path = 'c:/Users/markstro/work/GIS/hrusAllConusCent/hrusAllConusCent.shp'\n",
    "hrus_v11_cent_path = 'c:/Users/markstro/work1.1/GIS/hrusAllConusCent/hrusAllConusCent.shp'\n",
    "hrus_v10_to_v11_mapping_path = 'c:/Users/markstro/work1.1/GIS/hrus_v10_to_v11_mapping_path.shp'"
   ]
  },
  {
   "cell_type": "code",
   "execution_count": null,
   "metadata": {},
   "outputs": [],
   "source": [
    "# Read the version 1.0 shapefile\n",
    "nhru_v10 = gpd.read_file(hrus_v10_cent_path)"
   ]
  },
  {
   "cell_type": "code",
   "execution_count": null,
   "metadata": {},
   "outputs": [],
   "source": [
    "nhru_v10.head()"
   ]
  },
  {
   "cell_type": "code",
   "execution_count": null,
   "metadata": {},
   "outputs": [],
   "source": [
    "nhru_v10.rename(columns={'nhm_id':'nhm_id_v10'}, inplace=True)"
   ]
  },
  {
   "cell_type": "code",
   "execution_count": null,
   "metadata": {},
   "outputs": [],
   "source": [
    "nhru_v10.head()"
   ]
  },
  {
   "cell_type": "code",
   "execution_count": null,
   "metadata": {},
   "outputs": [],
   "source": [
    "# Read the version 1.1 HRUs\n",
    "nhru_v11 = gpd.read_file(hrus_v11_cent_path)"
   ]
  },
  {
   "cell_type": "code",
   "execution_count": null,
   "metadata": {},
   "outputs": [],
   "source": [
    "# This gem comes from https://gis.stackexchange.com/questions/222315/geopandas-find-nearest-point-in-other-dataframe\n",
    "\n",
    "def ckdnearest(gdA, gdB):\n",
    "    nA = np.array(list(zip(gdA.geometry.x, gdA.geometry.y)) )\n",
    "    nB = np.array(list(zip(gdB.geometry.x, gdB.geometry.y)) )\n",
    "    btree = cKDTree(nB)\n",
    "    dist, idx = btree.query(nA, k=1)\n",
    "    gdf = pd.concat(\n",
    "        [gdA.reset_index(drop=True), gdB.loc[idx, gdB.columns != 'geometry'].reset_index(drop=True),\n",
    "         pd.Series(dist, name='dist')], axis=1)\n",
    "    return gdf"
   ]
  },
  {
   "cell_type": "code",
   "execution_count": null,
   "metadata": {},
   "outputs": [],
   "source": [
    "c = ckdnearest(nhru_v11, nhru_v10)"
   ]
  },
  {
   "cell_type": "code",
   "execution_count": null,
   "metadata": {},
   "outputs": [],
   "source": [
    "c[\"dist_ln\"] = np.log(c[\"dist\"])"
   ]
  },
  {
   "cell_type": "code",
   "execution_count": null,
   "metadata": {},
   "outputs": [],
   "source": [
    "c.head()"
   ]
  },
  {
   "cell_type": "code",
   "execution_count": null,
   "metadata": {},
   "outputs": [],
   "source": [
    "c.tail()"
   ]
  },
  {
   "cell_type": "code",
   "execution_count": null,
   "metadata": {},
   "outputs": [],
   "source": [
    "plt.hist(c[\"dist_ln\"],bins=20)\n",
    "plt.show"
   ]
  },
  {
   "cell_type": "code",
   "execution_count": null,
   "metadata": {},
   "outputs": [],
   "source": [
    "coolwarm = cm.get_cmap('coolwarm', 12)\n",
    "print(coolwarm)"
   ]
  },
  {
   "cell_type": "code",
   "execution_count": null,
   "metadata": {},
   "outputs": [],
   "source": [
    "# plot all HRUs in white (background color)\n",
    "f, ax = plt.subplots(1, figsize=(12, 12))\n",
    "#hrus.plot(color=\"white\", ax=ax)\n",
    "\n",
    "# plot the HRUs with valid temperature (non-nan) with their color ramp colors\n",
    "c.plot(column='dist_ln', cmap='coolwarm', ax=ax, legend=True)\n",
    "#hrus.plot(column='tavgc_2013_10_1', cmap='coolwarm', ax=ax, legend=True)"
   ]
  },
  {
   "cell_type": "code",
   "execution_count": null,
   "metadata": {},
   "outputs": [],
   "source": [
    "# plot all HRUs in white (background color)\n",
    "f, ax = plt.subplots(1, figsize=(12, 12))\n",
    "#hrus.plot(color=\"white\", ax=ax)\n",
    "\n",
    "# plot the HRUs with valid temperature (non-nan) with their color ramp colors\n",
    "c.plot(column='dist', cmap='coolwarm', ax=ax, legend=True)\n",
    "#hrus.plot(column='tavgc_2013_10_1', cmap='coolwarm', ax=ax, legend=True)"
   ]
  },
  {
   "cell_type": "code",
   "execution_count": null,
   "metadata": {},
   "outputs": [],
   "source": [
    "# Save the mapping shapefile\n",
    "c.to_file(hrus_v10_to_v11_mapping_path)"
   ]
  },
  {
   "cell_type": "code",
   "execution_count": null,
   "metadata": {},
   "outputs": [],
   "source": []
  }
 ],
 "metadata": {
  "kernelspec": {
   "display_name": "Python 3",
   "language": "python",
   "name": "python3"
  },
  "language_info": {
   "codemirror_mode": {
    "name": "ipython",
    "version": 3
   },
   "file_extension": ".py",
   "mimetype": "text/x-python",
   "name": "python",
   "nbconvert_exporter": "python",
   "pygments_lexer": "ipython3",
   "version": "3.8.1"
  }
 },
 "nbformat": 4,
 "nbformat_minor": 2
}
