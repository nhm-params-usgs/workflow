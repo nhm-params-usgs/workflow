{
 "cells": [
  {
   "cell_type": "code",
   "execution_count": null,
   "metadata": {},
   "outputs": [],
   "source": [
    "import numpy as np\n",
    "import pandas as pd\n",
    "#import fiona \n",
    "#import math\n",
    "#import xarray as xa\n",
    "import matplotlib.pyplot as plt\n",
    "%matplotlib inline\n",
    "from matplotlib import cm\n",
    "from matplotlib.colors import ListedColormap, LinearSegmentedColormap\n",
    "#import datetime\n",
    "#import random\n",
    "#from scipy.interpolate import interp1d\n",
    "import geopandas as gpd"
   ]
  },
  {
   "cell_type": "code",
   "execution_count": null,
   "metadata": {},
   "outputs": [],
   "source": [
    "gdb_path = 'c:/Users/markstro/work1.1/GIS/GFv1.1_v2e.gdb'\n",
    "hrus_v10_path = 'c:/Users/markstro/work/GIS/hrusAllConus/hrusAllConus.shp'\n",
    "farns_v10_path = 'c:/Users/markstro/work/farnsworth/'"
   ]
  },
  {
   "cell_type": "code",
   "execution_count": null,
   "metadata": {},
   "outputs": [],
   "source": [
    "# Read the version 1.0 shapefile\n",
    "hrus_v10 = gpd.read_file(hrus_v10_path)"
   ]
  },
  {
   "cell_type": "code",
   "execution_count": null,
   "metadata": {},
   "outputs": [],
   "source": [
    "coolwarm = cm.get_cmap('coolwarm', 12)\n",
    "print(coolwarm)"
   ]
  },
  {
   "cell_type": "code",
   "execution_count": null,
   "metadata": {},
   "outputs": [],
   "source": [
    "hrus_v10.plot()"
   ]
  },
  {
   "cell_type": "code",
   "execution_count": null,
   "metadata": {},
   "outputs": [],
   "source": [
    "print(hrus_v10.shape)"
   ]
  },
  {
   "cell_type": "code",
   "execution_count": null,
   "metadata": {},
   "outputs": [],
   "source": [
    "hrus_v10.head()"
   ]
  },
  {
   "cell_type": "code",
   "execution_count": null,
   "metadata": {},
   "outputs": [],
   "source": [
    "shape_nhm_id = hrus_v10[\"nhm_id\"].values\n",
    "print(shape_nhm_id)\n",
    "print(len(shape_nhm_id))\n",
    "print(min(shape_nhm_id), max(shape_nhm_id))"
   ]
  },
  {
   "cell_type": "code",
   "execution_count": null,
   "metadata": {},
   "outputs": [],
   "source": [
    "# Read the Farnsworth PET data for version 1.0\n",
    "# Units of values in these files is mm/month\n",
    "\n",
    "fns = [\"farnsPET_r01.csv\", \"farnsPET_r02.csv\", \"farnsPET_r03.csv\", \"farnsPET_r04.csv\", \"farnsPET_r05.csv\",\n",
    "       \"farnsPET_r06.csv\", \"farnsPET_r07.csv\", \"farnsPET_r08.csv\", \"farnsPET_r09.csv\", \"farnsPET_r10L.csv\", \n",
    "       \"farnsPET_r10U.csv\", \"farnsPET_r11.csv\", \"farnsPET_r12.csv\", \"farnsPET_r13.csv\", \"farnsPET_r14.csv\", \n",
    "       \"farnsPET_r15.csv\", \"farnsPET_r16.csv\", \"farnsPET_r17.csv\", \"farnsPET_r18.csv\"]\n",
    "\n",
    "farns = np.zeros(12 * 109951)\n",
    "farns.shape = (109951, 12)\n",
    "\n",
    "count = 0\n",
    "for ii in range(len(fns)):\n",
    "    farns_v10_df = pd.read_csv(filepath_or_buffer=farns_v10_path + fns[ii])\n",
    "    foo = farns_v10_df.values\n",
    "    nloc_hru = len(farns_v10_df.columns) - 1\n",
    "    \n",
    "    for jj in range(12):\n",
    "        for kk in range(nloc_hru):\n",
    "            ll = kk + count\n",
    "            farns[ll,jj] = foo[jj,kk+1]\n",
    "            \n",
    "    count += nloc_hru\n",
    "#    farns_v10_df['index'] = farns_v10_df['index'].apply(np.int)\n",
    "\n",
    "print(count)"
   ]
  },
  {
   "cell_type": "code",
   "execution_count": null,
   "metadata": {},
   "outputs": [],
   "source": [
    "# do the mapping\n",
    "# there are 109951 HRUs in v1.0\n",
    "\n",
    "nfeat = len(shape_nhm_id)\n",
    "\n",
    "# imon goes from 0 to 11\n",
    "imon = 6\n",
    "\n",
    "pet = np.zeros(nfeat)\n",
    "for ii in range(nfeat):\n",
    "    ihru = shape_nhm_id[ii]-1\n",
    "#    print(\"feature \", ii, \" has hru_id \", ihru, \" month \", imon, \" value is \", farns[ihru,imon])\n",
    "    pet[ii] = farns[ihru,imon]\n"
   ]
  },
  {
   "cell_type": "code",
   "execution_count": null,
   "metadata": {},
   "outputs": [],
   "source": [
    "hrus_v10[\"pet\"] = pet\n",
    "hrus_v10.head()"
   ]
  },
  {
   "cell_type": "code",
   "execution_count": null,
   "metadata": {},
   "outputs": [],
   "source": [
    "# plot all HRUs in white (background color)\n",
    "f, ax = plt.subplots(1, figsize=(12, 12))\n",
    "#hrus.plot(color=\"white\", ax=ax)\n",
    "\n",
    "# df.dropna(thresh=2)\n",
    "\n",
    "# plot the HRUs with valid temperature (non-nan) with their color ramp colors\n",
    "hrus_v10.plot(column=\"pet\", cmap='coolwarm', ax=ax, legend=True)"
   ]
  },
  {
   "cell_type": "code",
   "execution_count": null,
   "metadata": {},
   "outputs": [],
   "source": [
    "print(farns)\n",
    "print(farns.shape)"
   ]
  },
  {
   "cell_type": "code",
   "execution_count": null,
   "metadata": {},
   "outputs": [],
   "source": [
    "# Create the pandas DataFrame with the farnsworth pet values. This is for writing a csv file.\n",
    "pet_df = pd.DataFrame(farns, columns = [\"jan\", \"feb\", \"mar\", \"apr\", \"may\", \"jun\", \"jul\", \"aug\", \"sep\", \"oct\", \"nov\", \"dec\"])\n",
    "pet_df[\"hruid_v10\"] = range(1, 109951 + 1)\n",
    "\n",
    "# This moves the \"dates\" column to the first position, better for the CSV.\n",
    "cols = list(pet_df.columns)\n",
    "cols = [cols[-1]] + cols[:-1]\n",
    "pet_df = pet_df[cols]\n",
    "\n",
    "pet_df.head()\n",
    "\n",
    "pet_df.to_csv(path_or_buf=farns_v10_path + \"farns_gf_1_0_mm_per_month.csv\")"
   ]
  },
  {
   "cell_type": "code",
   "execution_count": null,
   "metadata": {},
   "outputs": [],
   "source": []
  }
 ],
 "metadata": {
  "kernelspec": {
   "display_name": "Python 3",
   "language": "python",
   "name": "python3"
  },
  "language_info": {
   "codemirror_mode": {
    "name": "ipython",
    "version": 3
   },
   "file_extension": ".py",
   "mimetype": "text/x-python",
   "name": "python",
   "nbconvert_exporter": "python",
   "pygments_lexer": "ipython3",
   "version": "3.8.1"
  }
 },
 "nbformat": 4,
 "nbformat_minor": 2
}
