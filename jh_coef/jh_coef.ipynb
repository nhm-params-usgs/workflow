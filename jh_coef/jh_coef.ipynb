{
 "cells": [
  {
   "cell_type": "code",
   "execution_count": null,
   "metadata": {},
   "outputs": [],
   "source": [
    "import numpy as np\n",
    "import pandas as pd\n",
    "#import fiona \n",
    "import math\n",
    "#import xarray as xa\n",
    "import matplotlib.pyplot as plt\n",
    "%matplotlib inline\n",
    "from matplotlib import cm\n",
    "from matplotlib.colors import ListedColormap, LinearSegmentedColormap\n",
    "from datetime import datetime\n",
    "#import random\n",
    "#from scipy.interpolate import interp1d\n",
    "import geopandas as gpd"
   ]
  },
  {
   "cell_type": "code",
   "execution_count": null,
   "metadata": {},
   "outputs": [],
   "source": [
    "#radadj_fn = 'c:/Users/markstro/work1.1/soltab/dday_slope_radadj_GF_v1.1.csv'\n",
    "#radadj_solf_fn = 'c:/Users/markstro/work1.1/soltab/dday_slope_radadj_solf_GF_v1.1.csv'\n",
    "#pptadj_fn = 'c:/Users/markstro/work1.1/soltab/dday_slope_pptadj_GF_v1.1.csv'\n",
    "gdb_path = 'c:/Users/markstro/work1.1/GIS/GFv1.1_v2f.gdb'\n",
    "\n",
    "markstro_param_path = \"c:/Users/markstro/work1.1/paramdb_v1.1/paramdb_markstro/\"\n",
    "path = 'c:/Users/markstro/work1.1/weather/'\n",
    "farns_v11_path = 'c:/Users/markstro/work1.1/GIS/farns_gf_1_1_mm_per_month.shp'\n",
    "jh_coef_hru_fn = 'c:/Users/markstro/work1.1/paramdb_v1.1/paramdb_markstro/jh_coef_hru.csv'\n",
    "nrel_shapefile_fn = \"c:/Users/markstro/work1.1/GIS/nhm_shapefiles/nhm_hru_gf1_1_nrel_solrad.shp\"\n",
    "tmax_path = 'c:/Users/markstro/work1.1/cbh_gridmet/tmax.cbh'\n",
    "tmin_path = 'c:/Users/markstro/work1.1/cbh_gridmet/tmin.cbh'"
   ]
  },
  {
   "cell_type": "code",
   "execution_count": null,
   "metadata": {},
   "outputs": [],
   "source": [
    "# Read the v11 Farnsworth shapefile\n",
    "# The PET values (cols jan - dec) are in units of mm / month\n",
    "farns_v11 = gpd.read_file(farns_v11_path)"
   ]
  },
  {
   "cell_type": "code",
   "execution_count": null,
   "metadata": {},
   "outputs": [],
   "source": [
    "farns_v11.head()"
   ]
  },
  {
   "cell_type": "code",
   "execution_count": null,
   "metadata": {},
   "outputs": [],
   "source": [
    "days_in_month = [31,28,31,30,31,30,31,31,30,31,30,31]"
   ]
  },
  {
   "cell_type": "code",
   "execution_count": null,
   "metadata": {},
   "outputs": [],
   "source": [
    "farns_vals = farns_v11.iloc[:,4:16].values\n",
    "farns_vals[farns_vals < 1.0] = 1.0\n",
    "print(min(farns_vals.flatten()), max(farns_vals.flatten()))\n",
    "print(farns_vals)"
   ]
  },
  {
   "cell_type": "code",
   "execution_count": null,
   "metadata": {},
   "outputs": [],
   "source": []
  },
  {
   "cell_type": "code",
   "execution_count": null,
   "metadata": {},
   "outputs": [],
   "source": [
    "# Extract the PET values and convert from mm/month to inches/day\n",
    "\n",
    "#farns_vals = farns_v11[['jan','feb','mar','apr','may','jun','jul','aug','sep','oct','nov','dec']].values\n",
    "#farns_vals = farns_v11.iloc[:,4:16].values\n",
    "\n",
    "#farns_vals = farns_v11.iloc[:,8:20].values\n",
    "\n",
    "nhru = farns_vals.shape[0]\n",
    "nmonth = farns_vals.shape[1]\n",
    "\n",
    "for imon in range(nmonth):\n",
    "    farns_vals[:,imon] = farns_vals[:,imon] / 25.4 / days_in_month[imon]\n",
    "#    farns_vals[:,imon] = farns_vals[:,imon] / 25.4\n",
    "    \n",
    "print(nhru, nmonth)"
   ]
  },
  {
   "cell_type": "code",
   "execution_count": null,
   "metadata": {},
   "outputs": [],
   "source": [
    "# units are inches per day\n",
    "print(farns_vals)"
   ]
  },
  {
   "cell_type": "code",
   "execution_count": null,
   "metadata": {},
   "outputs": [],
   "source": [
    "print(min(farns_vals.flatten()), max(farns_vals.flatten()))"
   ]
  },
  {
   "cell_type": "code",
   "execution_count": null,
   "metadata": {},
   "outputs": [],
   "source": [
    "# Extract the Farnsworth v11 HRU order\n",
    "farns_nhru_v11 = farns_v11['nhru_v11'].values\n",
    "print(farns_nhru_v11)"
   ]
  },
  {
   "cell_type": "code",
   "execution_count": null,
   "metadata": {},
   "outputs": [],
   "source": [
    "# read the jh_coef_hru parameters\n",
    "\n",
    "# read the jh_coef_hru values from the csv file produced by jh_coef_hru.ipynb\n",
    "jh_coef_hru = pd.read_csv(jh_coef_hru_fn)\n",
    "jh_coef_hru.head()"
   ]
  },
  {
   "cell_type": "code",
   "execution_count": null,
   "metadata": {},
   "outputs": [],
   "source": [
    "jh_coef_hru_vals = jh_coef_hru['jh_coef_hru'].values\n",
    "jh_coef_hru_idx = jh_coef_hru['$id'].values\n",
    "print(jh_coef_hru_vals)\n",
    "print(jh_coef_hru_idx)"
   ]
  },
  {
   "cell_type": "code",
   "execution_count": null,
   "metadata": {},
   "outputs": [],
   "source": [
    "# Read the cbh file\n",
    "def read_cbh(cbh_fn):\n",
    "#    foo = np.loadtxt(cbh_fn, delimiter=' ', skiprows=3,)\n",
    "    foo = np.loadtxt(cbh_fn, skiprows=3,)\n",
    "\n",
    "    dates = foo[:,0:6].astype('int')\n",
    "    vals = foo[:,6:foo.shape[1]]\n",
    "    \n",
    "    return dates, vals"
   ]
  },
  {
   "cell_type": "code",
   "execution_count": null,
   "metadata": {},
   "outputs": [],
   "source": [
    "dates, tmax_c = read_cbh(tmax_path)\n",
    "#tmax_f = tmax_c * 1.8 +32"
   ]
  },
  {
   "cell_type": "code",
   "execution_count": null,
   "metadata": {},
   "outputs": [],
   "source": [
    "#mon_cnt = 1\n",
    "#last_mon = dates[0,1]\n",
    "\n",
    "#for iday in range(1,dates.shape[0]):\n",
    "#    if dates[iday,1] != last_mon:\n",
    "#        mon_cnt += 1\n",
    "#        last_mon = dates[iday,1]\n",
    "        \n",
    "#print(mon_cnt)\n"
   ]
  },
  {
   "cell_type": "code",
   "execution_count": null,
   "metadata": {},
   "outputs": [],
   "source": [
    "print(tmax_c.shape)\n",
    "\n",
    "nhru = tmax_c.shape[1]\n",
    "ndays = tmax_c.shape[0]\n",
    "\n",
    "mon_cnt = 12\n",
    "\n",
    "tmax_c_monthly = np.zeros(mon_cnt * nhru)\n",
    "tmax_c_monthly.shape = (mon_cnt, nhru)\n",
    "monthly_count = np.zeros(mon_cnt * nhru, dtype=np.int)\n",
    "monthly_count.shape = (mon_cnt, nhru)\n",
    "print(tmax_c_monthly.shape)\n",
    "\n",
    "#strt_yr = dates[0,0]\n",
    "for iday in range(ndays):\n",
    "    date = datetime(dates[iday,0],dates[iday,1],dates[iday,2])\n",
    "\n",
    "#    jday = date.day - 1\n",
    "#    iyr = date.year - strt_yr\n",
    "#    imon = date.month - 1 + (iyr * 12)\n",
    "    imon = date.month - 1\n",
    "    for ihru in range(nhru):\n",
    "        tmax_c_monthly[imon,ihru] += tmax_c[iday,ihru]\n",
    "        monthly_count[imon, ihru] +=1\n"
   ]
  },
  {
   "cell_type": "code",
   "execution_count": null,
   "metadata": {},
   "outputs": [],
   "source": [
    "print(tmax_c_monthly)\n",
    "print(monthly_count)"
   ]
  },
  {
   "cell_type": "code",
   "execution_count": null,
   "metadata": {},
   "outputs": [],
   "source": [
    "tmax_c_monthly = tmax_c_monthly / monthly_count"
   ]
  },
  {
   "cell_type": "code",
   "execution_count": null,
   "metadata": {},
   "outputs": [],
   "source": [
    "print(tmax_c_monthly)"
   ]
  },
  {
   "cell_type": "code",
   "execution_count": null,
   "metadata": {},
   "outputs": [],
   "source": [
    "del(tmax_c)"
   ]
  },
  {
   "cell_type": "code",
   "execution_count": null,
   "metadata": {},
   "outputs": [],
   "source": [
    "dates, tmin_c = read_cbh(tmin_path)"
   ]
  },
  {
   "cell_type": "code",
   "execution_count": null,
   "metadata": {},
   "outputs": [],
   "source": [
    "tmin_c_monthly = np.zeros(mon_cnt * nhru)\n",
    "tmin_c_monthly.shape = (mon_cnt, nhru)\n",
    "monthly_count = np.zeros(mon_cnt * nhru, dtype=np.int)\n",
    "monthly_count.shape = (mon_cnt, nhru)\n",
    "print(tmin_c_monthly.shape)\n",
    "\n",
    "strt_yr = dates[0,0]\n",
    "for iday in range(ndays):\n",
    "    date = datetime(dates[iday,0],dates[iday,1],dates[iday,2])\n",
    "\n",
    "#    jday = date.day - 1\n",
    "#    iyr = date.year - strt_yr\n",
    "#    imon = date.month - 1 + (iyr * 12)\n",
    "    imon = date.month - 1\n",
    "    for ihru in range(nhru):\n",
    "        tmin_c_monthly[imon,ihru] += tmin_c[iday,ihru]\n",
    "        monthly_count[imon, ihru] +=1\n"
   ]
  },
  {
   "cell_type": "code",
   "execution_count": null,
   "metadata": {},
   "outputs": [],
   "source": [
    "tmin_c_monthly = tmin_c_monthly / monthly_count"
   ]
  },
  {
   "cell_type": "code",
   "execution_count": null,
   "metadata": {},
   "outputs": [],
   "source": [
    "print(tmin_c_monthly)"
   ]
  },
  {
   "cell_type": "code",
   "execution_count": null,
   "metadata": {},
   "outputs": [],
   "source": [
    "del(tmin_c)"
   ]
  },
  {
   "cell_type": "code",
   "execution_count": null,
   "metadata": {},
   "outputs": [],
   "source": [
    "tmax_f_monthly = (tmax_c_monthly * 1.8) + 32\n",
    "tmin_f_monthly = (tmin_c_monthly * 1.8) + 32\n",
    "tavg_f_monthly = (tmax_f_monthly + tmin_f_monthly) / 2.0"
   ]
  },
  {
   "cell_type": "code",
   "execution_count": null,
   "metadata": {},
   "outputs": [],
   "source": [
    "tavg_c_monthly = (tmax_c_monthly + tmin_c_monthly) / 2.0"
   ]
  },
  {
   "cell_type": "code",
   "execution_count": null,
   "metadata": {},
   "outputs": [],
   "source": [
    "print(tavg_f_monthly)"
   ]
  },
  {
   "cell_type": "code",
   "execution_count": null,
   "metadata": {},
   "outputs": [],
   "source": [
    "print(tavg_f_monthly.shape)"
   ]
  },
  {
   "cell_type": "code",
   "execution_count": null,
   "metadata": {},
   "outputs": [],
   "source": [
    "\n",
    "# Read in the monthly short wave data from NREL. It's in the shapefile that was created by running zonal means\n",
    "# on the monthly DNI geotifs downloaded from NREL.\n",
    "\n",
    "nrel_solrad = gpd.read_file(nrel_shapefile_fn)"
   ]
  },
  {
   "cell_type": "code",
   "execution_count": null,
   "metadata": {},
   "outputs": [],
   "source": [
    "nhru_v11_id = nrel_solrad[\"nhru_v11\"].values\n",
    "print(nhru_v11_id)"
   ]
  },
  {
   "cell_type": "code",
   "execution_count": null,
   "metadata": {},
   "outputs": [],
   "source": [
    "nrel_solrad.head()"
   ]
  },
  {
   "cell_type": "code",
   "execution_count": null,
   "metadata": {},
   "outputs": [],
   "source": [
    "# Look for nans in the NREL values and subsitute with interpolated value\n",
    "\n",
    "print(nrel_solrad.shape)\n",
    "\n",
    "count = 0\n",
    "for ii in range(nrel_solrad.shape[0]):\n",
    "    for jj in range(8,20):\n",
    "        if np.isnan(nrel_solrad.iloc[ii,jj]):\n",
    "#            print(\" (\", ii,jj, \")\", end = '')\n",
    "            count += 1\n",
    "#print(\"\")\n",
    "print(count)\n",
    "      \n",
    "\n",
    "#for ii in range(nrel_solrad.shape[0]):\n",
    "for jj in range(8,20):\n",
    "    nrel_solrad.iloc[:,jj] = nrel_solrad.iloc[:,jj].interpolate()\n",
    "\n",
    "count = 0\n",
    "for ii in range(nrel_solrad.shape[0]):\n",
    "    for jj in range(8,20):\n",
    "        if np.isnan(nrel_solrad.iloc[ii,jj]):\n",
    "#            print(\" (\", ii,jj, \")\", end = '')\n",
    "            count += 1\n",
    "\n",
    "#print(\"\")\n",
    "print(count)"
   ]
  },
  {
   "cell_type": "code",
   "execution_count": null,
   "metadata": {},
   "outputs": [],
   "source": [
    "nrel_solrad.head()"
   ]
  },
  {
   "cell_type": "code",
   "execution_count": null,
   "metadata": {},
   "outputs": [],
   "source": [
    "# Extract the NREL monthly solrad targets from the dataframe into a numpy 2D array for the radadj calculation below.\n",
    "\n",
    "#solrad_targets_vals= nrel_solrad[[\"dni_jan_me\", \"dni_feb_me\", \"dni_mar_me\", \"dni_apr_me\", \"dni_may_me\", \"dni_jun_me\",\n",
    "#                    \"dni_jul_me\", \"dni_aug_me\", \"dni_sep_me\", \"dni_oct_me\", \"dni_nov_me\", \"dni_dec_me\"]].values\n",
    "\n",
    "solrad_targets_vals = nrel_solrad.iloc[:,8:20].values\n",
    "print(solrad_targets_vals)"
   ]
  },
  {
   "cell_type": "code",
   "execution_count": null,
   "metadata": {},
   "outputs": [],
   "source": [
    "for ii in range(solrad_targets_vals.shape[0]):\n",
    "    for jj in range(solrad_targets_vals.shape[1]):\n",
    "        if np.isnan(solrad_targets_vals[ii,jj]):\n",
    "            print(ii, jj, solrad_targets_vals[ii,jj])"
   ]
  },
  {
   "cell_type": "code",
   "execution_count": null,
   "metadata": {},
   "outputs": [],
   "source": [
    "# The NREL solrad values are in units of kWh/m2/Day. PRMS uses Langleys per day. The conversion factor comes from\n",
    "# https://www.wcc.nrcs.usda.gov/ftpref/wntsc/H&H/GEM/SolarRadConversion.pdf\n",
    "\n",
    "#   1 kWh     m2      1 Langly  1000    1000 Lang          Lang\n",
    "# --------- -------  -------    ----  = ---------  = 85.98 ----\n",
    "#  m2-day   11.63 W   1 hour     1k     11.63 day          day\n",
    "\n",
    "# units of the NREL data are w/m2\n",
    "# so 1 Langley/day = 0.484583 Watt/m2\n",
    "# so 1 watt/m2 = 2.06363 Lang/day\n",
    "solrad_targets_vals_langleys = solrad_targets_vals * 2.06363\n",
    "print(solrad_targets_vals_langleys)\n",
    "print(solrad_targets_vals_langleys.shape)"
   ]
  },
  {
   "cell_type": "code",
   "execution_count": null,
   "metadata": {},
   "outputs": [],
   "source": [
    "print(tavg_f_monthly.shape)"
   ]
  },
  {
   "cell_type": "code",
   "execution_count": null,
   "metadata": {},
   "outputs": [],
   "source": [
    "# DO j = 1, Active_hrus\n",
    "#          elh = (597.3-(0.5653*Tavgc(i)))*2.54\n",
    "#          Potet(i) = Jh_coef(i, Nowmonth)*(Tavgf(i)-Jh_coef_hru(i))*Swrad(i)/elh\n",
    "#          IF ( Potet(i)<0.0) Potet(i) = 0.0\n",
    "#\n",
    "# so\n",
    "#          elh = (597.3-(0.5653*Tavgc(iday,ihru)))*2.54\n",
    "#          Jh_coef(ihru, imon) = farns(ihru, imon) / ((Tavgf(iday,ihru)-Jh_coef_hru(ihru)) / Swrad(imon,ihru) * elh)\n",
    "\n",
    "#ndays = tavg_f.shape[0]\n",
    "#nhru = tavg_f.shape[1]\n",
    "\n",
    "#jh_coef_by_day = np.zeros(nhru * ndays)\n",
    "#jh_coef_by_day.shape = (nhru, ndays)\n",
    "\n",
    "nmo = tavg_f_monthly.shape[0]\n",
    "\n",
    "jh_coef = np.zeros(nhru * nmo)\n",
    "jh_coef.shape = (nhru, nmo)\n",
    "\n",
    "month_count = np.zeros(nmo)\n",
    "\n",
    "for imon in range(nmo):\n",
    "#    date = datetime(dates[iday,0],dates[iday,1],dates[iday,2])\n",
    "#    imon = date.month - 1\n",
    "#    jday = date.day - 1\n",
    "#    print(date, imon, jday, iday)\n",
    "    for ihru in range(nhru):\n",
    "        v11_id = nhru_v11_id[ihru] - 1\n",
    "        if tavg_c_monthly[imon, v11_id] == 0.0:\n",
    "            tavg_c_monthly[imon, v11_id] = 1.0\n",
    "            \n",
    "        elh = (597.3 - (0.5653 * tavg_c_monthly[imon, v11_id])) * 2.54\n",
    "        if elh == 0.0:\n",
    "            print (\"crap\", imon, ihru, tavg_c_monthly[imon, v11_id], elh)\n",
    "        # farns_values and solrad_targets_vals_langleys are already in v11_id mapping\n",
    "        # tavg_f, jh_coef_hru_vals, jh_coef_by_day are in 1 to nhru mapping\n",
    "#        div = (tavg_f[iday,v11_id] - jh_coef_hru_vals[v11_id])\n",
    "        \n",
    "        jh_coef[v11_id, imon] = farns_vals[ihru, imon] / (tavg_f_monthly[imon,v11_id] - jh_coef_hru_vals[v11_id]) / solrad_targets_vals_langleys[ihru,imon] * elh\n",
    "        if jh_coef[v11_id, imon] == 0.0:\n",
    "            print(\"2\", v11_id, imon, farns_vals[ihru, imon], elh)\n",
    "        #        month_count[imon] += 1\n",
    "        #        print(imon, ihru, v11_id, jh_coef[v11_id, imon], farns_vals[ihru, imon], (tavg_f_monthly[imon,v11_id] - jh_coef_hru_vals[v11_id]), solrad_targets_vals_langleys[ihru,imon], elh)\n",
    "\n",
    "# the values should come out in 1 to nhru order, not v11_id order.\n",
    "\n",
    "#for imon in range(nmo):\n",
    "#    date = datetime(dates[iday,0],dates[iday,1],dates[iday,2])\n",
    "#    imon = date.month - 1\n",
    "#    jday = date.day - 1\n",
    "#    for ihru in range(nhru):\n",
    "#        jh_coef[ihru, imon] += jh_coef[ihru, imon]\n",
    "#        month_count[imon] += 1\n",
    "\n",
    "#for imon in range(nmonth):\n",
    "#jh_coef = jh_coef / month_count\n",
    "\n",
    "#print(jh_coef)\n",
    "        \n"
   ]
  },
  {
   "cell_type": "code",
   "execution_count": null,
   "metadata": {},
   "outputs": [],
   "source": [
    "print(farns_vals[0,0])"
   ]
  },
  {
   "cell_type": "code",
   "execution_count": null,
   "metadata": {},
   "outputs": [],
   "source": [
    "tavg_f_monthly[0,nhru_v11_id[0] - 1]"
   ]
  },
  {
   "cell_type": "code",
   "execution_count": null,
   "metadata": {},
   "outputs": [],
   "source": [
    "jh_coef_hru_vals[nhru_v11_id[0] - 1]"
   ]
  },
  {
   "cell_type": "code",
   "execution_count": null,
   "metadata": {},
   "outputs": [],
   "source": [
    "solrad_targets_vals_langleys[0,0]"
   ]
  },
  {
   "cell_type": "code",
   "execution_count": null,
   "metadata": {},
   "outputs": [],
   "source": [
    " elh = (597.3 - (0.5653 * tavg_c_monthly[0, nhru_v11_id[0] - 1])) * 2.54\n",
    "print(elh)"
   ]
  },
  {
   "cell_type": "code",
   "execution_count": null,
   "metadata": {},
   "outputs": [],
   "source": [
    "jh_c = farns_vals[0,0] / (tavg_f_monthly[0,nhru_v11_id[0] - 1] - jh_coef_hru_vals[nhru_v11_id[0] - 1]) / solrad_targets_vals_langleys[0,0] * elh\n",
    "print(jh_c)"
   ]
  },
  {
   "cell_type": "code",
   "execution_count": null,
   "metadata": {},
   "outputs": [],
   "source": [
    "print(jh_coef)\n",
    "print(jh_coef.shape)"
   ]
  },
  {
   "cell_type": "code",
   "execution_count": null,
   "metadata": {},
   "outputs": [],
   "source": [
    "print(min(jh_coef.flatten()), max(jh_coef.flatten()))"
   ]
  },
  {
   "cell_type": "code",
   "execution_count": null,
   "metadata": {},
   "outputs": [],
   "source": []
  },
  {
   "cell_type": "code",
   "execution_count": null,
   "metadata": {},
   "outputs": [],
   "source": []
  },
  {
   "cell_type": "code",
   "execution_count": null,
   "metadata": {},
   "outputs": [],
   "source": [
    "f = open(markstro_param_path + 'jh_coef.csv', \"w\")"
   ]
  },
  {
   "cell_type": "code",
   "execution_count": null,
   "metadata": {},
   "outputs": [],
   "source": [
    "f.write(\"$id,jh_coef\\n\")"
   ]
  },
  {
   "cell_type": "code",
   "execution_count": null,
   "metadata": {},
   "outputs": [],
   "source": [
    "# The indexes being written are in the order of the values in the tmin ncf files. Once those are available, these will\n",
    "# need to be reordered.\n",
    "kk = 1\n",
    "for ii in range(nmonth):\n",
    "    for jj in range(nhru):\n",
    "        f.write(str(kk) + \",\" + str(jh_coef[jj,ii]) + '\\n')\n",
    "        kk = kk + 1"
   ]
  },
  {
   "cell_type": "code",
   "execution_count": null,
   "metadata": {},
   "outputs": [],
   "source": [
    "f.close()"
   ]
  },
  {
   "cell_type": "code",
   "execution_count": null,
   "metadata": {},
   "outputs": [],
   "source": []
  }
 ],
 "metadata": {
  "kernelspec": {
   "display_name": "Python 3",
   "language": "python",
   "name": "python3"
  },
  "language_info": {
   "codemirror_mode": {
    "name": "ipython",
    "version": 3
   },
   "file_extension": ".py",
   "mimetype": "text/x-python",
   "name": "python",
   "nbconvert_exporter": "python",
   "pygments_lexer": "ipython3",
   "version": "3.8.2"
  }
 },
 "nbformat": 4,
 "nbformat_minor": 2
}
