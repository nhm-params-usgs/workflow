{
 "cells": [
  {
   "cell_type": "code",
   "execution_count": 1,
   "metadata": {},
   "outputs": [],
   "source": [
    "import numpy as np\n",
    "#import pandas as pd\n",
    "#import fiona \n",
    "#import math\n",
    "import xarray as xa\n",
    "#import matplotlib.pyplot as plt\n",
    "#%matplotlib inline\n",
    "#from matplotlib import cm\n",
    "#from matplotlib.colors import ListedColormap, LinearSegmentedColormap\n",
    "import datetime\n",
    "import random\n",
    "#from scipy.interpolate import interp1d\n",
    "import geopandas as gpd"
   ]
  },
  {
   "cell_type": "code",
   "execution_count": 2,
   "metadata": {},
   "outputs": [],
   "source": [
    "# File written by dday_slope-radadj.ipynb\n",
    "#radadj_fn = 'c:/Users/markstro/work1.1/soltab/dday_slope_radadj_GF_v1.1.csv'\n",
    "#radadj_solf_fn = 'c:/Users/markstro/work1.1/soltab/dday_slope_radadj_solf_GF_v1.1.csv'\n",
    "#pptadj_fn = 'c:/Users/markstro/work1.1/soltab/dday_slope_pptadj_GF_v1.1.csv'\n",
    "gdb_path = 'c:/Users/markstro/work1.1/GIS/GFv1.1_v2e.gdb'\n",
    "\n",
    "markstro_param_path = \"c:/Users/markstro/work1.1/paramdb_v1.1/paramdb_markstro/\"\n",
    "path = 'c:/Users/markstro/work1.1/weather/'\n",
    "\n",
    "#fns = [(\"2011\", \"2011_gm_climate_2020_03_02.nc\"), (\"2012\", \"2012_gm_climate_2020_03_03.nc\"),\n",
    "#       (\"2013\", \"2013_gm_climate_2020_03_05.nc\"), (\"2014\", \"2014_gm_climate_2020_03_06.nc\"),\n",
    "#       (\"2015\", \"2015_gm_climate_2020_03_08.nc\"), (\"2016\", \"2016_gm_climate_2020_03_09.nc\"),\n",
    "#       (\"2017\", \"2017_gm_climate_2020_03_10.nc\"), (\"2018\", \"2018_gm_climate_2020_03_12.nc\")]\n",
    "\n",
    "fns = [(\"2015\", \"2015_gm_climate_2020_03_08.nc\")]\n"
   ]
  },
  {
   "cell_type": "code",
   "execution_count": 3,
   "metadata": {},
   "outputs": [],
   "source": [
    "nhru_v11 = gpd.read_file(gdb_path, layer='nhru_v11')"
   ]
  },
  {
   "cell_type": "code",
   "execution_count": 4,
   "metadata": {},
   "outputs": [
    {
     "name": "stdout",
     "output_type": "stream",
     "text": [
      "114958\n",
      "[76127 76147 76170 ... 64150 65633 18843]\n",
      "1379496\n"
     ]
    }
   ],
   "source": [
    "nhru_v11_ids = nhru_v11[\"nhru_v11\"].values\n",
    "nhru = len(nhru_v11_ids)\n",
    "print(nhru)\n",
    "print(nhru_v11_ids)\n",
    "\n",
    "nmonths = 12\n",
    "print(nhru * nmonths)"
   ]
  },
  {
   "cell_type": "markdown",
   "metadata": {},
   "source": [
    "# Need to read the ncf files for actual tmin values"
   ]
  },
  {
   "cell_type": "code",
   "execution_count": 5,
   "metadata": {},
   "outputs": [
    {
     "name": "stdout",
     "output_type": "stream",
     "text": [
      "[[39.83359091 25.74895816  1.82737244 ... 27.55974783 11.46398635\n",
      "  21.92670359]\n",
      " [ 9.01942914 39.92046825 20.70298297 ... 35.74245251 25.64665491\n",
      "  32.5996595 ]\n",
      " [32.70789021 17.34004212 33.17732834 ... 32.82161697 30.85672559\n",
      "  38.02728334]\n",
      " [ 8.66640943 18.21152073  8.41133771 ... 30.00133912 39.33479213\n",
      "  37.86098275]]\n"
     ]
    }
   ],
   "source": [
    "#prcp = xa.Dataset()\n",
    "\n",
    "#ds = xa.open_dataset(path + \"2015_gm_climate_2020_03_08.nc\")\n",
    "#tmin = ds[\"tmin\"]\n",
    "\n",
    "dates = [datetime.datetime(2015, 1, 1), datetime.datetime(2015, 1, 2), datetime.datetime(2015, 1, 3),\n",
    "         datetime.datetime(2015, 1, 4)]\n",
    "ndays = len(dates)\n",
    "\n",
    "foo = np.random.random_sample(((nhru*ndays),))\n",
    "foo = foo * 40.0\n",
    "foo.shape = (4, nhru)\n",
    "\n",
    "tmin = foo\n",
    "print(tmin)"
   ]
  },
  {
   "cell_type": "code",
   "execution_count": 6,
   "metadata": {},
   "outputs": [
    {
     "name": "stdout",
     "output_type": "stream",
     "text": [
      "[ 8.66640943 17.34004212  1.82737244 ... 27.55974783 11.46398635\n",
      " 21.92670359]\n"
     ]
    }
   ],
   "source": [
    "# DO j = 1, Active_hrus\n",
    "#          elh = (597.3-(0.5653*Tavgc(i)))*2.54\n",
    "#          Potet(i) = Jh_coef(i, Nowmonth)*(Tavgf(i)-Jh_coef_hru(i))*Swrad(i)/elh\n",
    "#          IF ( Potet(i)<0.0) Potet(i) = 0.0\n",
    "\n",
    "jh_coef_hru = np.zeros(nhru)\n",
    "\n",
    "for ihru in range(nhru):\n",
    "    jh_coef_hru[ihru] = min(tmin[:,ihru])\n",
    "\n",
    "print(jh_coef_hru)\n",
    "        \n"
   ]
  },
  {
   "cell_type": "code",
   "execution_count": 7,
   "metadata": {},
   "outputs": [],
   "source": [
    "f = open(markstro_param_path + 'jh_coef_hru.csv', \"w\")"
   ]
  },
  {
   "cell_type": "code",
   "execution_count": 8,
   "metadata": {},
   "outputs": [
    {
     "data": {
      "text/plain": [
       "16"
      ]
     },
     "execution_count": 8,
     "metadata": {},
     "output_type": "execute_result"
    }
   ],
   "source": [
    "f.write(\"$id,jh_coef_hru\\n\")"
   ]
  },
  {
   "cell_type": "code",
   "execution_count": 9,
   "metadata": {},
   "outputs": [],
   "source": [
    "# The indexes being written are in the order of the values in the tmin ncf files. Once those are available, these will\n",
    "# need to be reordered.\n",
    "\n",
    "for jj in range(nhru):\n",
    "    f.write(str(jj+1) + \",\" + str(jh_coef_hru[jj]) + '\\n')"
   ]
  },
  {
   "cell_type": "code",
   "execution_count": 10,
   "metadata": {},
   "outputs": [],
   "source": [
    "f.close()"
   ]
  },
  {
   "cell_type": "code",
   "execution_count": null,
   "metadata": {},
   "outputs": [],
   "source": []
  }
 ],
 "metadata": {
  "kernelspec": {
   "display_name": "Python 3",
   "language": "python",
   "name": "python3"
  },
  "language_info": {
   "codemirror_mode": {
    "name": "ipython",
    "version": 3
   },
   "file_extension": ".py",
   "mimetype": "text/x-python",
   "name": "python",
   "nbconvert_exporter": "python",
   "pygments_lexer": "ipython3",
   "version": "3.8.1"
  }
 },
 "nbformat": 4,
 "nbformat_minor": 2
}
