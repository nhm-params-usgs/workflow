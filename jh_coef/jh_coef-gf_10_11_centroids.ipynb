{
 "cells": [
  {
   "cell_type": "code",
   "execution_count": null,
   "metadata": {},
   "outputs": [],
   "source": [
    "import numpy as np\n",
    "import pandas as pd\n",
    "import fiona \n",
    "#import math\n",
    "#import xarray as xa\n",
    "import matplotlib.pyplot as plt\n",
    "%matplotlib inline\n",
    "from matplotlib import cm\n",
    "from matplotlib.colors import ListedColormap, LinearSegmentedColormap\n",
    "#import datetime\n",
    "#import random\n",
    "#from scipy.interpolate import interp1d\n",
    "import geopandas as gpd"
   ]
  },
  {
   "cell_type": "code",
   "execution_count": null,
   "metadata": {},
   "outputs": [],
   "source": [
    "hrus_v10_path = 'c:/Users/markstro/work/GIS/hrusAllConus/hrusAllConus.shp'\n",
    "hrus_v10_cent_path = 'c:/Users/markstro/work/GIS/hrusAllConusCent/hrusAllConusCent.shp'\n",
    "gdb_path = 'c:/Users/markstro/work1.1/GIS/GFv1.1_v2e.gdb'\n",
    "hrus_v11_cent_path = 'c:/Users/markstro/work1.1/GIS/hrusAllConusCent/hrusAllConusCent.shp'"
   ]
  },
  {
   "cell_type": "code",
   "execution_count": null,
   "metadata": {},
   "outputs": [],
   "source": [
    "# Read the version 1.0 shapefile\n",
    "nhru_v10 = gpd.read_file(hrus_v10_path)"
   ]
  },
  {
   "cell_type": "code",
   "execution_count": null,
   "metadata": {},
   "outputs": [],
   "source": [
    "nhru_v10['centroid'] = nhru_v10.centroid"
   ]
  },
  {
   "cell_type": "code",
   "execution_count": null,
   "metadata": {},
   "outputs": [],
   "source": [
    "nhru_v10.head()"
   ]
  },
  {
   "cell_type": "code",
   "execution_count": null,
   "metadata": {},
   "outputs": [],
   "source": [
    "nhru_v10 = nhru_v10.set_geometry('centroid')\n",
    "nhru_v10.plot()"
   ]
  },
  {
   "cell_type": "code",
   "execution_count": null,
   "metadata": {},
   "outputs": [],
   "source": [
    "# Delete the unnecessary column from the dataframe\n",
    "nhru_v10 = nhru_v10.drop(\"hru_id_loc\", axis=1)\n",
    "nhru_v10 = nhru_v10.drop(\"region\", axis=1)\n",
    "nhru_v10 = nhru_v10.drop(\"Shape_Leng\", axis=1)\n",
    "nhru_v10 = nhru_v10.drop(\"Shape_Area\", axis=1)\n",
    "nhru_v10 = nhru_v10.drop(\"geometry\", axis=1)"
   ]
  },
  {
   "cell_type": "code",
   "execution_count": null,
   "metadata": {},
   "outputs": [],
   "source": [
    "nhru_v10.head()"
   ]
  },
  {
   "cell_type": "code",
   "execution_count": null,
   "metadata": {},
   "outputs": [],
   "source": [
    "# write to csv\n",
    "nhru_v10.to_file(hrus_v10_cent_path)"
   ]
  },
  {
   "cell_type": "code",
   "execution_count": null,
   "metadata": {},
   "outputs": [],
   "source": []
  },
  {
   "cell_type": "code",
   "execution_count": null,
   "metadata": {},
   "outputs": [],
   "source": [
    "# Read the version 1.1 HRUs\n",
    "nhru_v11_gdb = gpd.read_file(gdb_path, layer='nhru_v11')"
   ]
  },
  {
   "cell_type": "code",
   "execution_count": null,
   "metadata": {},
   "outputs": [],
   "source": [
    "nhru_v11_gdb['centroid'] = nhru_v11_gdb.centroid"
   ]
  },
  {
   "cell_type": "code",
   "execution_count": null,
   "metadata": {},
   "outputs": [],
   "source": [
    "nhru_v11_gdb.head()"
   ]
  },
  {
   "cell_type": "code",
   "execution_count": null,
   "metadata": {},
   "outputs": [],
   "source": [
    "nhru_v11_gdb = nhru_v11_gdb.set_geometry('centroid')\n",
    "nhru_v11_gdb.plot()"
   ]
  },
  {
   "cell_type": "code",
   "execution_count": null,
   "metadata": {},
   "outputs": [],
   "source": [
    "# Delete the unnecessary column from the dataframe\n",
    "nhru_v11_gdb = nhru_v11_gdb.drop(\"hru_segment_GFv11\", axis=1)\n",
    "nhru_v11_gdb = nhru_v11_gdb.drop(\"nhm_id\", axis=1)\n",
    "nhru_v11_gdb = nhru_v11_gdb.drop(\"hru_id_nat\", axis=1)\n",
    "nhru_v11_gdb = nhru_v11_gdb.drop(\"Version\", axis=1)\n",
    "nhru_v11_gdb = nhru_v11_gdb.drop(\"Shape_Length\", axis=1)\n",
    "nhru_v11_gdb = nhru_v11_gdb.drop(\"Shape_Area\", axis=1)\n",
    "nhru_v11_gdb = nhru_v11_gdb.drop(\"geometry\", axis=1)"
   ]
  },
  {
   "cell_type": "code",
   "execution_count": null,
   "metadata": {},
   "outputs": [],
   "source": [
    "nhru_v11_gdb.head()"
   ]
  },
  {
   "cell_type": "code",
   "execution_count": null,
   "metadata": {},
   "outputs": [],
   "source": [
    "# write to csv\n",
    "nhru_v11_gdb.to_file(hrus_v11_cent_path)"
   ]
  },
  {
   "cell_type": "code",
   "execution_count": null,
   "metadata": {},
   "outputs": [],
   "source": []
  }
 ],
 "metadata": {
  "kernelspec": {
   "display_name": "Python 3",
   "language": "python",
   "name": "python3"
  },
  "language_info": {
   "codemirror_mode": {
    "name": "ipython",
    "version": 3
   },
   "file_extension": ".py",
   "mimetype": "text/x-python",
   "name": "python",
   "nbconvert_exporter": "python",
   "pygments_lexer": "ipython3",
   "version": "3.8.1"
  }
 },
 "nbformat": 4,
 "nbformat_minor": 2
}
