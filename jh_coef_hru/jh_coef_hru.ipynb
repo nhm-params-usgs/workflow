{
 "cells": [
  {
   "cell_type": "code",
   "execution_count": null,
   "metadata": {},
   "outputs": [],
   "source": [
    "import numpy as np\n",
    "#import pandas as pd\n",
    "#import fiona \n",
    "#import math\n",
    "#import xarray as xa\n",
    "#import matplotlib.pyplot as plt\n",
    "#%matplotlib inline\n",
    "#from matplotlib import cm\n",
    "#from matplotlib.colors import ListedColormap, LinearSegmentedColormap\n",
    "#import datetime\n",
    "#import random\n",
    "#from scipy.interpolate import interp1d\n",
    "#import geopandas as gpd"
   ]
  },
  {
   "cell_type": "code",
   "execution_count": null,
   "metadata": {},
   "outputs": [],
   "source": [
    "# File written by dday_slope-radadj.ipynb\n",
    "#radadj_fn = 'c:/Users/markstro/work1.1/soltab/dday_slope_radadj_GF_v1.1.csv'\n",
    "#radadj_solf_fn = 'c:/Users/markstro/work1.1/soltab/dday_slope_radadj_solf_GF_v1.1.csv'\n",
    "#pptadj_fn = 'c:/Users/markstro/work1.1/soltab/dday_slope_pptadj_GF_v1.1.csv'\n",
    "#gdb_path = 'c:/Users/markstro/work1.1/GIS/GFv1.1_v2e.gdb'\n",
    "\n",
    "markstro_param_path = \"c:/Users/markstro/work1.1/paramdb_v1.1/paramdb_markstro/\"\n",
    "tmin_path = 'c:/Users/markstro/work1.1/cbh_gridmet/tmin.cbh'"
   ]
  },
  {
   "cell_type": "code",
   "execution_count": null,
   "metadata": {},
   "outputs": [],
   "source": [
    "# Read the cbh file\n",
    "def read_cbh(cbh_fn):\n",
    "#    foo = np.loadtxt(cbh_fn, delimiter=' ', skiprows=3,)\n",
    "    foo = np.loadtxt(cbh_fn, skiprows=3,)\n",
    "\n",
    "    dates = foo[:,0:6].astype('int')\n",
    "    vals = foo[:,6:foo.shape[1]]\n",
    "    \n",
    "    return dates, vals"
   ]
  },
  {
   "cell_type": "code",
   "execution_count": null,
   "metadata": {},
   "outputs": [],
   "source": [
    "dates, tmin = read_cbh(tmin_path)"
   ]
  },
  {
   "cell_type": "code",
   "execution_count": null,
   "metadata": {},
   "outputs": [],
   "source": [
    "print(tmin.shape)\n",
    "tmin_f = tmin * 1.8 +32\n",
    "print(tmin_f.shape)"
   ]
  },
  {
   "cell_type": "code",
   "execution_count": null,
   "metadata": {},
   "outputs": [],
   "source": [
    "nhru = tmin_f.shape[1]\n",
    "ndays = tmin_f.shape[0]\n",
    "nmonths = 12"
   ]
  },
  {
   "cell_type": "code",
   "execution_count": null,
   "metadata": {},
   "outputs": [],
   "source": [
    "# DO j = 1, Active_hrus\n",
    "#          elh = (597.3-(0.5653*Tavgc(i)))*2.54\n",
    "#          Potet(i) = Jh_coef(i, Nowmonth)*(Tavgf(i)-Jh_coef_hru(i))*Swrad(i)/elh\n",
    "#          IF ( Potet(i)<0.0) Potet(i) = 0.0\n",
    "\n",
    "# Based on what is above, the parameter jh_coef_hru will be set the the lowest tmin value for each HRU for the\n",
    "# POR of the weather data.\n",
    "\n",
    "jh_coef_hru = np.zeros(nhru)\n",
    "\n",
    "for ihru in range(nhru):\n",
    "    jh_coef_hru[ihru] = min(tmin_f[:,ihru])\n",
    "    # it turns out that sometimes tmax, tmin, and tave all turn out to be the same number. That causes a divide by zero in\n",
    "    # the dday_slope calculation,\n",
    "    jh_coef_hru[ihru] = jh_coef_hru[ihru] - 1.0\n",
    "\n",
    "print(jh_coef_hru)\n",
    "        \n"
   ]
  },
  {
   "cell_type": "code",
   "execution_count": null,
   "metadata": {},
   "outputs": [],
   "source": [
    "f = open(markstro_param_path + 'jh_coef_hru.csv', \"w\")"
   ]
  },
  {
   "cell_type": "code",
   "execution_count": null,
   "metadata": {},
   "outputs": [],
   "source": [
    "f.write(\"$id,jh_coef_hru\\n\")"
   ]
  },
  {
   "cell_type": "code",
   "execution_count": null,
   "metadata": {},
   "outputs": [],
   "source": [
    "# The indexes being written are in the order of the values in the tmin ncf files. Once those are available, these will\n",
    "# need to be reordered.\n",
    "\n",
    "for jj in range(nhru):\n",
    "    f.write(str(jj+1) + \",\" + str(jh_coef_hru[jj]) + '\\n')"
   ]
  },
  {
   "cell_type": "code",
   "execution_count": null,
   "metadata": {},
   "outputs": [],
   "source": [
    "f.close()"
   ]
  },
  {
   "cell_type": "code",
   "execution_count": null,
   "metadata": {},
   "outputs": [],
   "source": []
  }
 ],
 "metadata": {
  "kernelspec": {
   "display_name": "Python 3",
   "language": "python",
   "name": "python3"
  },
  "language_info": {
   "codemirror_mode": {
    "name": "ipython",
    "version": 3
   },
   "file_extension": ".py",
   "mimetype": "text/x-python",
   "name": "python",
   "nbconvert_exporter": "python",
   "pygments_lexer": "ipython3",
   "version": "3.8.2"
  }
 },
 "nbformat": 4,
 "nbformat_minor": 2
}
